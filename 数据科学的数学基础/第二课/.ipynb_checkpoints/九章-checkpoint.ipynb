{
 "cells": [
  {
   "cell_type": "markdown",
   "id": "1c82e04f",
   "metadata": {},
   "source": [
    "### 九章算术中方程术\n",
    "921127940122 顾翔\n",
    "> 今有\n",
    ">上禾三秉，中禾二秉，下禾一秉，实三十九斗；\n",
    ">上禾二秉，中禾三秉，下禾一秉，实三十四斗；\n",
    ">上禾一秉，中禾二秉，下禾三秉，实二十六斗；\n",
    ">问上、中、下禾实一秉各几何"
   ]
  },
  {
   "cell_type": "code",
   "execution_count": 1,
   "id": "be6fd830",
   "metadata": {},
   "outputs": [
    {
     "name": "stdout",
     "output_type": "stream",
     "text": [
      "答案为 [9.25 4.25 2.75]\n"
     ]
    }
   ],
   "source": [
    "import numpy as np\n",
    "from numpy.linalg import *\n",
    "a=np.array([[3,2,1],[2,3,1],[1,2,3]])\n",
    "y=np.array([39,34,26])\n",
    "print('答案为',solve(a,y))"
   ]
  }
 ],
 "metadata": {
  "kernelspec": {
   "display_name": "Python 3 (ipykernel)",
   "language": "python",
   "name": "python3"
  },
  "language_info": {
   "codemirror_mode": {
    "name": "ipython",
    "version": 3
   },
   "file_extension": ".py",
   "mimetype": "text/x-python",
   "name": "python",
   "nbconvert_exporter": "python",
   "pygments_lexer": "ipython3",
   "version": "3.8.8"
  }
 },
 "nbformat": 4,
 "nbformat_minor": 5
}
