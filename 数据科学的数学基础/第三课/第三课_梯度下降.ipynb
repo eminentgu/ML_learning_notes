{
 "cells": [
  {
   "cell_type": "markdown",
   "id": "b3076cc0",
   "metadata": {},
   "source": [
    "## 梯度下降——BGD、SGD、MBGD\n",
    "* 顾翔 921127940122"
   ]
  },
  {
   "cell_type": "markdown",
   "id": "91888164",
   "metadata": {},
   "source": [
    "### 一、生成数据\n",
    "* 生成围绕$y=2x$随机分布的50个点"
   ]
  },
  {
   "cell_type": "code",
   "execution_count": 1,
   "id": "d84f1ccb",
   "metadata": {
    "scrolled": true
   },
   "outputs": [
    {
     "data": {
      "image/png": "[encoded data removed]",
      "text/plain": [
       "<Figure size 432x288 with 1 Axes>"
      ]
     },
     "metadata": {
      "needs_background": "light"
     },
     "output_type": "display_data"
    }
   ],
   "source": [
    "import numpy as np\n",
    "import matplotlib.pyplot as plt\n",
    "from sklearn.model_selection import train_test_split\n",
    "x = np.arange(0,50)\n",
    "np.random.seed(1)\n",
    "random_array=(np.random.random(50)*2-1)*5\n",
    "#np.random.random(50)生成50*1的大小在(0,1)之间的随机数矩阵\n",
    "#random_array在(-5，5)\n",
    "y = 2 * x + random_array\n",
    "x=x.reshape(50,1)\n",
    "y=y.reshape(50,1)\n",
    "data=np.append(x,y,axis=1)\n",
    "train,test=train_test_split(data,train_size=0.8,random_state=5)\n",
    "train_x=train[:,0].reshape(40,1)\n",
    "train_y=train[:,1].reshape(40,1)\n",
    "test_x=test[:,0].reshape(10,1)\n",
    "test_y=test[:,1].reshape(10,1)\n",
    "plt.scatter(data[:,0],data[:,1])\n",
    "plt.show()"
   ]
  },
  {
   "cell_type": "markdown",
   "id": "f4b81283",
   "metadata": {},
   "source": [
    "### 二、模型评估\n",
    "* score用了MSE"
   ]
  },
  {
   "cell_type": "code",
   "execution_count": 2,
   "id": "255d3cf7",
   "metadata": {},
   "outputs": [],
   "source": [
    "def score(pred_y,y):\n",
    "    n=0.0\n",
    "    for i in range(0,len(y)):\n",
    "        n+=(pred_y[i]-y[i])**2\n",
    "    n/=len(y)\n",
    "    return n[0]"
   ]
  },
  {
   "cell_type": "markdown",
   "id": "e97302fc",
   "metadata": {},
   "source": [
    "### 三、BGD\n",
    "* 重复以下n次\n",
    "1. pred_y=x$\\theta$ 预测y\n",
    "2. loss=pred_y-y 更新损失\n",
    "3. grad=$\\frac{x^T*loss}{size(x)}$计算梯度\n",
    "4. $\\theta=\\theta - LearningRate*grad$ 沿梯度方向更新$\\theta$\n",
    "* 可以获得全剧最优解，但是每次迭代需要计算全部数据，收敛速度慢"
   ]
  },
  {
   "cell_type": "code",
   "execution_count": 3,
   "id": "e6bec023",
   "metadata": {},
   "outputs": [
    {
     "name": "stdout",
     "output_type": "stream",
     "text": [
      "0 [[1.70286288]] -2000.5157746233795\n",
      "1 [[1.95340917]] -291.7674092364707\n",
      "2 [[1.99069672]] -37.462933757764205\n",
      "3 [[1.99624604]] 0.38392980535445176\n",
      "4 [[1.99707191]] 6.016489275135562\n",
      "5 [[1.99719482]] 6.854754938225682\n",
      "6 [[1.99721312]] 6.979509825535041\n",
      "7 [[1.99721584]] 6.998076471638781\n",
      "8 [[1.99721624]] 7.000839652745379\n",
      "9 [[1.9972163]] 7.001250883173379\n",
      "10 [[1.99721631]] 7.001312084541871\n",
      "11 [[1.99721631]] 7.001321192835698\n",
      "12 [[1.99721631]] 7.00132254837734\n",
      "13 [[1.99721631]] 7.001322750115959\n",
      "14 [[1.99721631]] 7.001322780139537\n",
      "15 [[1.99721631]] 7.00132278460779\n",
      "16 [[1.99721631]] 7.001322785272912\n",
      "17 [[1.99721631]] 7.001322785371849\n",
      "18 [[1.99721631]] 7.001322785386483\n",
      "19 [[1.99721631]] 7.001322785388728\n",
      "20 [[1.99721631]] 7.001322785389183\n",
      "21 [[1.99721631]] 7.001322785389183\n",
      "22 [[1.99721631]] 7.001322785389183\n",
      "23 [[1.99721631]] 7.001322785389183\n",
      "24 [[1.99721631]] 7.001322785389183\n",
      "25 [[1.99721631]] 7.001322785389183\n",
      "26 [[1.99721631]] 7.001322785389183\n",
      "27 [[1.99721631]] 7.001322785389183\n",
      "28 [[1.99721631]] 7.001322785389183\n",
      "29 [[1.99721631]] 7.001322785389183\n",
      "30 [[1.99721631]] 7.001322785389183\n",
      "31 [[1.99721631]] 7.001322785389183\n",
      "32 [[1.99721631]] 7.001322785389183\n",
      "33 [[1.99721631]] 7.001322785389183\n",
      "34 [[1.99721631]] 7.001322785389183\n",
      "35 [[1.99721631]] 7.001322785389183\n",
      "36 [[1.99721631]] 7.001322785389183\n",
      "37 [[1.99721631]] 7.001322785389183\n",
      "38 [[1.99721631]] 7.001322785389183\n",
      "39 [[1.99721631]] 7.001322785389183\n",
      "40 [[1.99721631]] 7.001322785389183\n",
      "41 [[1.99721631]] 7.001322785389183\n",
      "42 [[1.99721631]] 7.001322785389183\n",
      "43 [[1.99721631]] 7.001322785389183\n",
      "44 [[1.99721631]] 7.001322785389183\n",
      "45 [[1.99721631]] 7.001322785389183\n",
      "46 [[1.99721631]] 7.001322785389183\n",
      "47 [[1.99721631]] 7.001322785389183\n",
      "48 [[1.99721631]] 7.001322785389183\n",
      "49 [[1.99721631]] 7.001322785389183\n",
      "MSE为 10.892837420464963\n"
     ]
    },
    {
     "data": {
      "image/png": "[encoded data removed]",
      "text/plain": [
       "<Figure size 432x288 with 1 Axes>"
      ]
     },
     "metadata": {
      "needs_background": "light"
     },
     "output_type": "display_data"
    }
   ],
   "source": [
    "def BGD():\n",
    "    num=50\n",
    "    cnt=1\n",
    "    theta=np.random.rand()\n",
    "    learning_rate=0.001\n",
    "    for i in range(num):\n",
    "        pred_y=np.dot(train_x,theta)\n",
    "        loss=pred_y-train_y\n",
    "        grad=np.dot(train_x.T,loss)/train_x.shape[0]\n",
    "        theta=theta-learning_rate*grad\n",
    "        sum_loss=np.sum(pred_y-train_y)\n",
    "        cnt+=1\n",
    "        print(i,theta,sum_loss)\n",
    "    return theta    \n",
    "theta=BGD()\n",
    "pred_y=np.dot(test_x,theta)\n",
    "print(\"MSE为\",score(pred_y,test_y))\n",
    "plt.scatter(test_x,test_y,color='skyblue',label='real')\n",
    "plt.scatter(test_x,pred_y,color='pink',label='pred')\n",
    "plt.legend()\n",
    "plt.show()"
   ]
  },
  {
   "cell_type": "markdown",
   "id": "3c44eb02",
   "metadata": {},
   "source": [
    "### 四、SGD\n",
    "* 重复以下步骤直到loss小于阈值\n",
    "1. 随机选取一个数据\n",
    "2. $grad=x*(x*\\theta-y)$\n",
    "3. $\\theta=\\theta-LearningRate*grad$\n",
    "4. 重复1-3步100次，获取新的$\\theta$\n",
    "5. 计算现在的$loss=\\sum{0.5*(\\theta*x-y)^2}$\n",
    "* 每次迭代只需要一个样本，训练速度快，但是训练次数多，容易陷入局部最优解"
   ]
  },
  {
   "cell_type": "code",
   "execution_count": 5,
   "id": "ba44472c",
   "metadata": {},
   "outputs": [
    {
     "name": "stdout",
     "output_type": "stream",
     "text": [
      "1 [1.94191913] 233.38004724473888\n",
      "2 [2.16959064] 687.1436757992558\n",
      "3 [2.01944903] 189.7405661199582\n",
      "MSE为 10.837504568762174\n"
     ]
    },
    {
     "data": {
      "image/png": "[encoded data removed]",
      "text/plain": [
       "<Figure size 432x288 with 1 Axes>"
      ]
     },
     "metadata": {
      "needs_background": "light"
     },
     "output_type": "display_data"
    }
   ],
   "source": [
    "def SGD():\n",
    "    num=1000\n",
    "    cnt=0\n",
    "    eps=190\n",
    "    theta=np.random.rand()\n",
    "    learning_rate=0.001\n",
    "    theta_list=[]\n",
    "    loss_list=[]\n",
    "    while(True):\n",
    "        for i in range(num):\n",
    "            randint=np.random.randint(0,40)\n",
    "            #返回(0，40)中的一个随机数\n",
    "            temp_x=train_x[randint]\n",
    "            temp_y=train_y[randint]\n",
    "            grad=temp_x*(temp_x*theta-temp_y)\n",
    "            theta=theta-learning_rate*grad\n",
    "        x=train_x.reshape(1,40)\n",
    "        y=train_y.reshape(1,40)\n",
    "        loss=np.sum(0.5*(theta*x-y)**2)\n",
    "        #theta_list.append(theta)\n",
    "        #loss_list.append(loss)\n",
    "        cnt+=1\n",
    "        print(cnt,theta,loss)\n",
    "        if(loss<eps):\n",
    "            break\n",
    "    return theta\n",
    "theta=SGD()\n",
    "pred_y=np.dot(test_x,theta)\n",
    "print(\"MSE为\",score(pred_y,test_y))\n",
    "plt.scatter(test_x,test_y,color='skyblue',label='real')\n",
    "plt.scatter(test_x,pred_y,color='pink',label='pred')\n",
    "plt.legend()\n",
    "plt.show()    "
   ]
  },
  {
   "cell_type": "markdown",
   "id": "de3e8311",
   "metadata": {},
   "source": [
    "### MBGD\n",
    "* 重复以下步骤200次\n",
    "1. 在数据中选取20个数据作为一个batch\n",
    "2. 对batch进行BGD\n",
    "3. 当error达到eps结束\n",
    "* 每次只使用部分数据，速度较快"
   ]
  },
  {
   "cell_type": "code",
   "execution_count": 25,
   "id": "45067452",
   "metadata": {},
   "outputs": [
    {
     "name": "stdout",
     "output_type": "stream",
     "text": [
      "0 128.8303063879134 [[2.68774435]]\n",
      "1 63.82051108483839 [[1.66709674]]\n",
      "2 76.80920383771922 [[2.40048817]]\n",
      "3 31.220289599395606 [[1.8631389]]\n",
      "4 23.64073665956139 [[2.07313454]]\n",
      "5 29.3969777819073 [[1.87584692]]\n",
      "6 19.050215188043204 [[1.99997323]]\n",
      "MSE为 10.851730522008818\n"
     ]
    },
    {
     "data": {
      "image/png": "[encoded data removed]",
      "text/plain": [
       "<Figure size 432x288 with 1 Axes>"
      ]
     },
     "metadata": {
      "needs_background": "light"
     },
     "output_type": "display_data"
    }
   ],
   "source": [
    "def MBGD():\n",
    "    num=200\n",
    "    theta=np.random.rand()\n",
    "    learning_rate=0.0001\n",
    "    eps=20\n",
    "    batch_size=20\n",
    "    for i in range(0,num):\n",
    "        indexs=np.random.randint(0,train.shape[0],size=batch_size)\n",
    "        temp_x=train_x.take(indexs,axis=0)\n",
    "        temp_y=train_y.take(indexs,axis=0)\n",
    "        grad=np.dot(temp_x.T,(np.dot(temp_x,theta)-temp_y))\n",
    "        theta=theta-learning_rate*grad\n",
    "        error=np.linalg.norm(np.dot(train_x,theta)-train_y)\n",
    "        print(i,error,theta)\n",
    "        if(error<eps):\n",
    "            break\n",
    "    return theta\n",
    "theta=MBGD()\n",
    "pred_y=np.dot(test_x,theta)\n",
    "print(\"MSE为\",score(pred_y,test_y))\n",
    "plt.scatter(test_x,test_y,color='skyblue',label='real')\n",
    "plt.scatter(test_x,pred_y,color='pink',label='pred')\n",
    "plt.legend()\n",
    "plt.show()    "
   ]
  }
 ],
 "metadata": {
  "kernelspec": {
   "display_name": "Python [conda env:ML] *",
   "language": "python",
   "name": "conda-env-ML-py"
  },
  "language_info": {
   "codemirror_mode": {
    "name": "ipython",
    "version": 3
   },
   "file_extension": ".py",
   "mimetype": "text/x-python",
   "name": "python",
   "nbconvert_exporter": "python",
   "pygments_lexer": "ipython3",
   "version": "3.8.8"
  }
 },
 "nbformat": 4,
 "nbformat_minor": 5
}
