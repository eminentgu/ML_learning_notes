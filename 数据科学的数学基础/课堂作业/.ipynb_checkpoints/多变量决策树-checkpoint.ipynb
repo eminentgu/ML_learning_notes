{
 "cells": [
  {
   "cell_type": "code",
   "execution_count": 33,
   "id": "49e3c59f",
   "metadata": {},
   "outputs": [],
   "source": [
    "import torch\n",
    "import torch.nn as nn\n",
    "# create training dataset\n",
    "train_dataset=[[0, 0, 0, 0, 0, 0, 1],[1, 0, 1, 0, 0, 0, 1],\n",
    "               [1, 0, 0, 0, 0, 0, 1],[0, 0, 1, 0, 0, 0 ,1],\n",
    "               [2, 0, 0, 0, 0, 0, 1],[0, 1, 0, 0, 1, 1, 1],\n",
    "               [1, 1, 0, 1, 1, 1, 1],[1, 1, 0, 0, 1, 0, 1],\n",
    "               [1, 1, 1, 1, 1, 0, 0],[0, 2, 2, 0, 2, 1, 0],\n",
    "               [2, 2, 2, 2, 2, 0, 0],[2, 0, 0, 2, 2, 1, 0],\n",
    "               [0, 1, 0, 1, 0, 0, 0],[2, 1, 1, 1, 0, 0, 0],\n",
    "               [1, 1, 0, 0, 1, 1, 0],[2, 0, 0, 2, 2, 0, 0],\n",
    "               [0, 0, 1, 1, 1, 0, 0]\n",
    "]\n"
   ]
  },
  {
   "cell_type": "code",
   "execution_count": 34,
   "id": "3e5f49d5",
   "metadata": {},
   "outputs": [],
   "source": [
    "# turn input data into one-hot vector\n",
    "def one_hot(input_data):\n",
    "    # load data into torch and change the data's dimension(turn M×n into n×M)\n",
    "    input_data_copy = torch.tensor(input_data).t()\n",
    "    # get the numbers of data and data's feature\n",
    "    feature_num, data_num = input_data_copy.shape\n",
    "    # create a tenosr to save output\n",
    "    output_X = torch.tensor([])\n",
    "    for i in range(feature_num - 1): # the last dimension is result\n",
    "        # compute the feature_i's dimension after one-hot\n",
    "        output_X_i_shape = data_num, int(input_data_copy[i].max().item())+1\n",
    "        output_X_i = torch.zeros(output_X_i_shape, dtype=torch.float).scatter_(1, input_data_copy[i].view(-1,1), 1)\n",
    "        output_X = torch.cat((output_X, output_X_i), 1) # put the two matrix together\n",
    "    # get the label of each data\n",
    "    output_y = input_data_copy[-1].view(-1, 1) * 2 - 1\n",
    "    return output_X, output_y.float()\n"
   ]
  },
  {
   "cell_type": "code",
   "execution_count": 35,
   "id": "66079854",
   "metadata": {},
   "outputs": [
    {
     "name": "stdout",
     "output_type": "stream",
     "text": [
      "torch.Size([17, 17])\n",
      "torch.Size([17, 1])\n"
     ]
    }
   ],
   "source": [
    "# test one_hot function\n",
    "train_X, train_y = one_hot(train_dataset)\n",
    "print(train_X.shape) # 17×(3+3+3+3+3+2)\n",
    "print(train_y.shape) # 17×1\n"
   ]
  },
  {
   "cell_type": "code",
   "execution_count": 36,
   "id": "46f6db8b",
   "metadata": {},
   "outputs": [
    {
     "name": "stdout",
     "output_type": "stream",
     "text": [
      "torch.Size([17, 2])\n"
     ]
    }
   ],
   "source": [
    "# add density and sugar content\n",
    "new_feature = torch.tensor([[0.697, 0.460], [0.774, 0.376], [0.634, 0.264], [0.608, 0.318], \n",
    "               [0.556, 0.215], [0.403, 0.237], [0.481, 0.149], [0.437, 0.211], \n",
    "               [0.666, 0.091], [0.243, 0.267], [0.245, 0.057], [0.343, 0.099],\n",
    "               [0.639, 0.161], [0.657, 0.198], [0.360, 0.370], [0.593, 0.042],\n",
    "               [0.719, 0.103]\n",
    "])\n",
    "#train_X = torch.cat((train_X, new_feature), 1)\n",
    "train_X = new_feature\n",
    "print(train_X.shape)\n"
   ]
  },
  {
   "cell_type": "code",
   "execution_count": 37,
   "id": "a0fa2148",
   "metadata": {},
   "outputs": [],
   "source": [
    "# define the model\n",
    "def createModel(input_channel, output_channel):\n",
    "    net = nn.Sequential(\n",
    "        nn.Linear(input_channel, output_channel)\n",
    "    )\n",
    "    return net\n"
   ]
  },
  {
   "cell_type": "code",
   "execution_count": 38,
   "id": "4d30f88a",
   "metadata": {},
   "outputs": [],
   "source": [
    "# define the loss\n",
    "def Loss(y_hat, y):\n",
    "    tmp = y * y_hat\n",
    "    l = (tmp < 0).float() * tmp\n",
    "    return abs(l).sum()\n"
   ]
  },
  {
   "cell_type": "code",
   "execution_count": 39,
   "id": "5a2b095b",
   "metadata": {},
   "outputs": [],
   "source": [
    "class TreeNode():\n",
    "    def __init__(self, model=None, predicted=-1, left=None, right=None):\n",
    "        self.model = model\n",
    "        self.predicted = predicted\n",
    "        self.left = left\n",
    "        self.right = right\n"
   ]
  },
  {
   "cell_type": "code",
   "execution_count": 40,
   "id": "28632811",
   "metadata": {},
   "outputs": [],
   "source": [
    "def train(net, train_X, train_y, epochs, lr, print_frequence=0):\n",
    "    optim = torch.optim.SGD(net.parameters(), lr=lr)\n",
    "    for epoch in range(epochs):\n",
    "        optim.zero_grad()\n",
    "        y_hat = net(train_X)\n",
    "        l = Loss(train_y, y_hat)\n",
    "        l.backward()\n",
    "        optim.step()\n",
    "        if print_frequence:\n",
    "            if (epoch+1) % print_frequence == 0:\n",
    "                print(\"epoch:%d, loss:%f\" % (epoch, l.item()))\n",
    "                print(\"epoch:%d, accuracy:%0.2f%%\\n\" % (epoch, evaluate(net, train_X, train_y)))\n",
    "    \n",
    "def evaluate(net, train_X, train_y):\n",
    "    y_hat = net(train_X)\n",
    "    y_hat = (y_hat>=0).float() * 2 - 1\n",
    "    accuray = 100 * (y_hat == train_y).sum().float() / len(train_y) \n",
    "    return accuray\n"
   ]
  },
  {
   "cell_type": "code",
   "execution_count": 41,
   "id": "c5db7c4a",
   "metadata": {},
   "outputs": [
    {
     "name": "stdout",
     "output_type": "stream",
     "text": [
      "epoch:9, loss:0.871629\n",
      "epoch:9, accuracy:29.41%\n",
      "\n",
      "epoch:19, loss:0.696851\n",
      "epoch:19, accuracy:29.41%\n",
      "\n",
      "epoch:29, loss:0.598939\n",
      "epoch:29, accuracy:35.29%\n",
      "\n",
      "epoch:39, loss:0.452202\n",
      "epoch:39, accuracy:35.29%\n",
      "\n"
     ]
    }
   ],
   "source": [
    "# test train function\n",
    "net = createModel(2, 1)\n",
    "train(net, train_X, train_y, 40, 0.01, 10)"
   ]
  },
  {
   "cell_type": "code",
   "execution_count": 42,
   "id": "b5a41d1a",
   "metadata": {},
   "outputs": [],
   "source": [
    "def createTree(tree, train_X, train_y, epochs, lr, precision):\n",
    "    if len(train_y) == 0:\n",
    "        return None\n",
    "    tree.model = createModel(train_X.shape[1], train_y.shape[1])\n",
    "    train(tree.model, train_X, train_y, epochs, lr)\n",
    "    # binnary training set according to predicted value\n",
    "    train_set = binaryTrainSet(tree.model, train_X, train_y)\n",
    "    # create left subtree\n",
    "    if len(train_set[0][1])==0 or evaluate(tree.model, train_set[0][0], train_set[0][1]) > precision:\n",
    "        tree.left = TreeNode(predicted=0)\n",
    "    else:\n",
    "        tree.left = TreeNode()\n",
    "        createTree(tree.left, train_set[0][0], train_set[0][1], epochs, lr, precision)\n",
    "    \n",
    "    # create right subtree\n",
    "    if len(train_set[1][1])==0 or evaluate(tree.model, train_set[1][0], train_set[1][1]) > precision:\n",
    "        tree.right = TreeNode(predicted=1)\n",
    "    else:\n",
    "        tree.right = TreeNode()\n",
    "        createTree(tree.right, train_set[1][0], train_set[1][1], epochs, lr, precision)\n",
    "    \n",
    "def binaryTrainSet(net, train_X, train_y):\n",
    "    y_hat = net(train_X)\n",
    "    train_set = [[torch.tensor([]), []] for _ in range(2)] # create a empty list to store result\n",
    "    for index in range(len(train_y)):\n",
    "        class_id = int(y_hat[index]>=0)\n",
    "        train_set[class_id][0] = torch.cat((train_set[class_id][0], train_X[index].view(1, -1)), 0)\n",
    "        train_set[class_id][1].append(train_y[index].item())\n",
    "    for i in range(2):\n",
    "        train_set[i][1] = torch.tensor(train_set[i][1], dtype=torch.float).view(-1, 1)\n",
    "    return train_set\n"
   ]
  },
  {
   "cell_type": "code",
   "execution_count": 43,
   "id": "fa424c45",
   "metadata": {},
   "outputs": [],
   "source": [
    "tree = TreeNode() \n",
    "createTree(tree, train_X, train_y, 200, 0.01, 90)\n"
   ]
  },
  {
   "cell_type": "code",
   "execution_count": 44,
   "id": "a5231631",
   "metadata": {},
   "outputs": [],
   "source": [
    "def predict(tree, X):\n",
    "    if tree.predicted != -1:\n",
    "        result = tree.predicted\n",
    "        #print(result)\n",
    "        return result\n",
    "    else:\n",
    "        y_hat = tree.model(X)\n",
    "        if y_hat >= 0:\n",
    "            return predict(tree.right, X)\n",
    "        else :\n",
    "            return predict(tree.left, X)\n"
   ]
  },
  {
   "cell_type": "code",
   "execution_count": 45,
   "id": "5830a8e1",
   "metadata": {},
   "outputs": [],
   "source": [
    "def evaluate_tree(tree, test_X, test_y):\n",
    "    number = len(test_X) # the number of data\n",
    "    right_number = 0\n",
    "    for index in range(number):\n",
    "        y_hat = predict(tree, test_X[index]) * 2 - 1\n",
    "        if y_hat == test_y[index]:\n",
    "            right_number += 1\n",
    "    accuracy = 100 * right_number / number\n",
    "    return accuracy\n"
   ]
  },
  {
   "cell_type": "code",
   "execution_count": 46,
   "id": "91803f36",
   "metadata": {},
   "outputs": [
    {
     "data": {
      "text/plain": [
       "100.0"
      ]
     },
     "execution_count": 46,
     "metadata": {},
     "output_type": "execute_result"
    }
   ],
   "source": [
    "evaluate_tree(tree, train_X, train_y)"
   ]
  },
  {
   "cell_type": "code",
   "execution_count": 51,
   "id": "81334033",
   "metadata": {},
   "outputs": [
    {
     "name": "stdout",
     "output_type": "stream",
     "text": [
      "节点 0 的linear的参数: [0.10950919 0.32785192] \n",
      "阈值为: -0.09765445 \n",
      "\n",
      "节点 1 的linear的参数: [0.00404184 0.18627784] \n",
      "阈值为: -0.08863847 \n",
      "\n",
      "节点 2 的linear的参数: [0.00649861 0.10929873] \n",
      "阈值为: -0.043555226 \n",
      "\n"
     ]
    }
   ],
   "source": [
    "queue = [tree]\n",
    "res_w=[]\n",
    "res_b=[]\n",
    "while queue:\n",
    "    currentNode=queue.pop(0)\n",
    "    if(currentNode.model==None):\n",
    "        break\n",
    "    res_w.append(currentNode.model[0].weight)\n",
    "    res_b.append(currentNode.model[0].bias)\n",
    "    if currentNode.left.model!=None:\n",
    "        queue.append(currentNode.left)\n",
    "    if currentNode.right!=None:\n",
    "        queue.append(currentNode.right)\n",
    "for i in range(len(res_b)):\n",
    "    print(\"节点\",i,\"的linear的参数:\",res_w[i][0].detach().numpy(),\"\\n阈值为:\",res_b[i][0].detach().numpy(),\"\\n\")"
   ]
  },
  {
   "cell_type": "code",
   "execution_count": null,
   "id": "c9dc59e8",
   "metadata": {},
   "outputs": [],
   "source": []
  },
  {
   "cell_type": "code",
   "execution_count": null,
   "id": "0f25f378",
   "metadata": {},
   "outputs": [],
   "source": []
  }
 ],
 "metadata": {
  "kernelspec": {
   "display_name": "Python 3 (ipykernel)",
   "language": "python",
   "name": "python3"
  },
  "language_info": {
   "codemirror_mode": {
    "name": "ipython",
    "version": 3
   },
   "file_extension": ".py",
   "mimetype": "text/x-python",
   "name": "python",
   "nbconvert_exporter": "python",
   "pygments_lexer": "ipython3",
   "version": "3.8.8"
  }
 },
 "nbformat": 4,
 "nbformat_minor": 5
}
