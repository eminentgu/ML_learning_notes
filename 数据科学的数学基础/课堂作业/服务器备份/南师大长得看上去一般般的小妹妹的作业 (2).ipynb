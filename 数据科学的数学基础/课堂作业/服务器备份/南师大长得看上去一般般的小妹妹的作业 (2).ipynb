{
 "cells": [
  {
   "cell_type": "code",
   "execution_count": 42,
   "id": "cbeaa2eb",
   "metadata": {},
   "outputs": [],
   "source": [
    "import matplotlib.pyplot as plt \n",
    "import time\n",
    "from numba import jit"
   ]
  },
  {
   "cell_type": "code",
   "execution_count": 73,
   "id": "866bed4f",
   "metadata": {},
   "outputs": [],
   "source": [
    "@jit\n",
    "def pi_BBP_numba():\n",
    "    pi=0\n",
    "    for k in range(0,15):\n",
    "        pi+=1/pow(16,k)*(4/(8*k+1)-2/(8*k+4)-1/(8*k+5)-1/(8*k+6))\n",
    "    return pi\n",
    "\n",
    "def pi_BBP():\n",
    "    pi=0\n",
    "    for k in range(0,15):\n",
    "        pi+=1/pow(16,k)*(4/(8*k+1)-2/(8*k+4)-1/(8*k+5)-1/(8*k+6))\n",
    "    return pi"
   ]
  },
  {
   "cell_type": "code",
   "execution_count": 77,
   "id": "bd9d9259",
   "metadata": {},
   "outputs": [
    {
     "data": {
      "text/plain": [
       "3.9169990486698225e-06"
      ]
     },
     "execution_count": 77,
     "metadata": {},
     "output_type": "execute_result"
    }
   ],
   "source": [
    "from timeit import timeit\n",
    "res3 = timeit(stmt=pi_BBP, number=1)\n",
    "res3"
   ]
  },
  {
   "cell_type": "code",
   "execution_count": 75,
   "id": "24fe7475",
   "metadata": {},
   "outputs": [],
   "source": [
    "def pi_BBP1():\n",
    "    pi=0\n",
    "    for k in range(0,15):\n",
    "        pi+=1/pow(16,k)*(4/(8*k+1)-2/(8*k+4)-1/(8*k+5)-1/(8*k+6))\n",
    "    return pi"
   ]
  },
  {
   "cell_type": "code",
   "execution_count": 76,
   "id": "240cc0b1",
   "metadata": {},
   "outputs": [
    {
     "data": {
      "text/plain": [
       "1.723300010780804e-05"
      ]
     },
     "execution_count": 76,
     "metadata": {},
     "output_type": "execute_result"
    }
   ],
   "source": [
    "from timeit import timeit\n",
    "res1 = timeit(stmt=pi_BBP1, number=1)\n",
    "res1"
   ]
  },
  {
   "cell_type": "code",
   "execution_count": 78,
   "id": "26a64a6d",
   "metadata": {},
   "outputs": [
    {
     "name": "stdout",
     "output_type": "stream",
     "text": [
      "3.933906555175781e-05\n"
     ]
    }
   ],
   "source": [
    "start=time.time()\n",
    "pi_BBP()\n",
    "end = time.time()\n",
    "running_time = end-start\n",
    "print(running_time)"
   ]
  },
  {
   "cell_type": "code",
   "execution_count": 34,
   "id": "9b107f15",
   "metadata": {},
   "outputs": [
    {
     "name": "stdout",
     "output_type": "stream",
     "text": [
      "0.00014519691467285156\n",
      "3.141592653589793\n"
     ]
    },
    {
     "data": {
      "image/png": "[encoded data removed]",
      "text/plain": [
       "<Figure size 640x480 with 1 Axes>"
      ]
     },
     "metadata": {},
     "output_type": "display_data"
    }
   ],
   "source": [
    "y=[i for i in range(0,15)]\n",
    "pi=0\n",
    "start=time.time()\n",
    "for k in range(0,15):\n",
    "    pi+=1/pow(16,k)*(4/(8*k+1)-2/(8*k+4)-1/(8*k+5)-1/(8*k+6))\n",
    "    y[k]=pi\n",
    "end = time.time()\n",
    "running_time = end-start\n",
    "print(running_time)\n",
    "x=[i for i in range(0,15)]\n",
    "print(pi)\n",
    "plt.plot(x,y)\n",
    "plt.show()"
   ]
  },
  {
   "cell_type": "code",
   "execution_count": null,
   "id": "ae62fc74",
   "metadata": {},
   "outputs": [],
   "source": []
  }
 ],
 "metadata": {
  "kernelspec": {
   "display_name": "Python 3 (ipykernel)",
   "language": "python",
   "name": "python3"
  },
  "language_info": {
   "codemirror_mode": {
    "name": "ipython",
    "version": 3
   },
   "file_extension": ".py",
   "mimetype": "text/x-python",
   "name": "python",
   "nbconvert_exporter": "python",
   "pygments_lexer": "ipython3",
   "version": "3.10.6"
  }
 },
 "nbformat": 4,
 "nbformat_minor": 5
}
