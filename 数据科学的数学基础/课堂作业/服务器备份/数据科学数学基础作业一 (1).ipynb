{
 "cells": [
  {
   "cell_type": "code",
   "execution_count": 1,
   "id": "6021efb8",
   "metadata": {},
   "outputs": [],
   "source": [
    "# 导入包\n",
    "import pandas as pd\n",
    "import numpy as np\n",
    "import matplotlib.pyplot as plt\n",
    "import seaborn as sns\n",
    "from scipy import stats\n",
    "import statsmodels.stats.weightstats as st\n",
    "\n",
    "#忽略警告信息\n",
    "import warnings\n",
    "warnings.filterwarnings('ignore')\n",
    "\n",
    "#中文乱码解决\n",
    "plt.rcParams[\"font.sans-serif\"]=[\"SimHei\"]\n",
    "plt.rcParams[\"axes.unicode_minus\"]=False"
   ]
  },
  {
   "cell_type": "markdown",
   "id": "7a6efc02",
   "metadata": {},
   "source": [
    "### 假设检验T1\n",
    "$ t=\\frac{x-\\mu}{\\frac{s}{\\sqrt(n)}}$"
   ]
  },
  {
   "cell_type": "code",
   "execution_count": 3,
   "id": "d9f700d1",
   "metadata": {},
   "outputs": [
    {
     "name": "stdout",
     "output_type": "stream",
     "text": [
      "在0.05的显著水平下不能认为机器性能优良\n"
     ]
    }
   ],
   "source": [
    "import math\n",
    "from scipy.stats import t\n",
    "mu=5\n",
    "x_average=5.3\n",
    "s=0.3\n",
    "n=10\n",
    "T=(x_average-mu)/(s/math.sqrt(n))\n",
    "\n",
    "a=0.05\n",
    "df=9\n",
    "T_a_left=stats.t.ppf(a,df)\n",
    "T_a_right =stats.t.isf(a,df)\n",
    "T_a_2 = stats.t.interval(1-a,df)\n",
    "#print(T_a_left,T_a_right,T_a_2)\n",
    "\n",
    "#print(\"计算t为：\",T)\n",
    "#print(\"标准T为：\",T_a_2[1])\n",
    "if(abs(T)>abs(T_a_2[1])):\n",
    "    print(\"在0.05的显著水平下不能认为机器性能优良\")\n",
    "else:\n",
    "    print(\"在0.05的显著水平下能认为机器性能优良\")"
   ]
  },
  {
   "cell_type": "markdown",
   "id": "a02b3996",
   "metadata": {},
   "source": [
    "### 假设检验 T2\n",
    "$ t=\\frac{x-\\mu}{\\frac{s}{\\sqrt(n)}}$"
   ]
  },
  {
   "cell_type": "code",
   "execution_count": 10,
   "id": "132cfb87",
   "metadata": {},
   "outputs": [
    {
     "name": "stdout",
     "output_type": "stream",
     "text": [
      "在0.05的显著水平下的均值说法相符\n"
     ]
    }
   ],
   "source": [
    "import math\n",
    "from scipy.stats import t\n",
    "mu=40000\n",
    "x_average=41000\n",
    "s=5000\n",
    "n=20\n",
    "T=(x_average-mu)/(s/math.sqrt(n))\n",
    "\n",
    "a=0.05\n",
    "df=19\n",
    "T_a_left=stats.t.ppf(a,df)\n",
    "T_a_right =stats.t.isf(a,df)\n",
    "T_a_2 = stats.t.interval(1-a,df)\n",
    "#print(T_a_left,T_a_right,T_a_2)\n",
    "\n",
    "#print(\"计算t为：\",T)\n",
    "#print(\"标准T为：\",T_a_right)\n",
    "if(abs(T)>abs(T_a_right)):\n",
    "    print(\"在0.05的显著水平下的均值说法不相符\")\n",
    "else:\n",
    "    print(\"在0.05的显著水平下的均值说法相符\")"
   ]
  },
  {
   "cell_type": "markdown",
   "id": "e1ef2742",
   "metadata": {},
   "source": [
    "### 假设检验 T3\n",
    "$ t=\\frac{x-\\mu}{\\frac{s}{\\sqrt(n)}}$"
   ]
  },
  {
   "cell_type": "code",
   "execution_count": 11,
   "id": "e137177d",
   "metadata": {},
   "outputs": [
    {
     "name": "stdout",
     "output_type": "stream",
     "text": [
      "在0.05的显著水平下能认为机器性能优良\n"
     ]
    }
   ],
   "source": [
    "import math\n",
    "from scipy.stats import t\n",
    "import pandas as pd\n",
    "mu=1\n",
    "dataSer=pd.Series([0.3,-0.4,-0.7,1.4,-0.6,-0.3,-1.5,0.6,-0.9,1.3,-1.3,0.7,1,-0.5,0,-0.6,0.7,-1.5,-0.2,-1.9,-0.5,1,-0.2,-0.6,1.1])\n",
    "s=dataSer.std()\n",
    "x_average=dataSer.mean()\n",
    "n=25\n",
    "T=(x_average-mu)/(s/math.sqrt(n))\n",
    "\n",
    "a=0.05\n",
    "df=24\n",
    "T_a_left=stats.t.ppf(a,df)\n",
    "T_a_right =stats.t.isf(a,df)\n",
    "T_a_2 = stats.t.interval(1-a,df)\n",
    "#print(T_a_left,T_a_right,T_a_2)\n",
    "\n",
    "#print(\"计算t为：\",T)\n",
    "#print(\"标准T为：\",T_a_2[1])\n",
    "if(abs(T)<abs(T_a_2[1])):\n",
    "    print(\"在0.05的显著水平下不能认为机器性能优良\")\n",
    "else:\n",
    "    print(\"在0.05的显著水平下能认为机器性能优良\")"
   ]
  },
  {
   "cell_type": "markdown",
   "id": "3a1edb68",
   "metadata": {},
   "source": [
    "### 线代"
   ]
  },
  {
   "cell_type": "code",
   "execution_count": 55,
   "id": "1db50f1f",
   "metadata": {},
   "outputs": [
    {
     "name": "stdout",
     "output_type": "stream",
     "text": [
      "[0.5 0.2 0.3]\n"
     ]
    }
   ],
   "source": [
    "import numpy as np\n",
    "A=np.array([[0.7,0.6,0.65],[0.2,0.2,0.15],[0.1,0.2,0.2]])\n",
    "b=np.array([0.665,0.185,0.15])\n",
    "inv_A=np.linalg.inv(A)\n",
    "x=inv_A.dot(b)\n",
    "x=np.linalg.solve(A,b)\n",
    "print(x)"
   ]
  },
  {
   "cell_type": "code",
   "execution_count": 57,
   "id": "579ae720",
   "metadata": {},
   "outputs": [
    {
     "name": "stdout",
     "output_type": "stream",
     "text": [
      "[0.44375  0.340625 0.1875  ]\n"
     ]
    }
   ],
   "source": [
    "import numpy as np\n",
    "A=np.array([[0.7,0.6,0.8],[0.2,0.2,0.15],[0.1,0.2,0.2]])\n",
    "b=np.array([0.665,0.185,0.15])\n",
    "inv_A=np.linalg.inv(A)\n",
    "x=inv_A.dot(b)\n",
    "x=np.linalg.solve(A,b)\n",
    "print(x)"
   ]
  },
  {
   "cell_type": "markdown",
   "id": "6835f60a",
   "metadata": {},
   "source": [
    "### 黑白球"
   ]
  },
  {
   "cell_type": "code",
   "execution_count": 1,
   "id": "e1322730",
   "metadata": {},
   "outputs": [
    {
     "name": "stdout",
     "output_type": "stream",
     "text": [
      "7/10\n"
     ]
    }
   ],
   "source": [
    "import numpy as np\n",
    "import sympy as sp\n",
    "x,p=sp.symbols('x p',positive=True)\n",
    "L=p**70*(1-p)**30\n",
    "logL=sp.expand_log(sp.log(L))\n",
    "sol,=sp.solve(sp.diff(logL,p),p)\n",
    "print(sol)"
   ]
  },
  {
   "cell_type": "markdown",
   "id": "8e29e479",
   "metadata": {},
   "source": [
    "### 微积分\n",
    "$ s1=((x**3-x**2+x/2)*exp(1/x)-(x**6+1)**0.5)=((x^3-x^2+\\frac{x}{2})e^{\\frac{1}{x}}-(x^6+1)^{0.5}$\n",
    "\n",
    "$s2=(x**3-x**2 + x/2)**(1/(E ** x)) - sqrt(x ** 6 + 1)=(x^3-x^2 +\\frac{x}{2})^{\\frac{1}{e ^ x}} - \\sqrt{(x ^ 6 + 1)}$"
   ]
  },
  {
   "cell_type": "code",
   "execution_count": 1,
   "id": "1f0cb440",
   "metadata": {},
   "outputs": [
    {
     "name": "stdout",
     "output_type": "stream",
     "text": [
      "函数的极限： 1/6\n",
      "函数的极限： -oo\n",
      "导数为： (0.5*(0.25/x**0.5 + 0.5)/(x**0.5 + x)**0.5 + 0.5)/(x + (x**0.5 + x)**0.5)**0.5\n",
      "积分结果为 x/2 - log(tan(x/2) + 1) + log(tan(x/2)**2 + 1)/2\n",
      "高度为 20\n"
     ]
    }
   ],
   "source": [
    "from sympy import *\n",
    "\n",
    "x=symbols('x')\n",
    "s1=((x**3-x**2+x/2)*exp(1/x)-(x**6+1)**0.5)\n",
    "s2=(x**3-x**2 + x/2)**(1/(E ** x)) - sqrt(x ** 6 + 1)\n",
    "print('函数的极限：',limit(s1,x,oo))\n",
    "print('函数的极限：',limit(s2,x,oo))\n",
    "\n",
    "\n",
    "y=(x+(x+x**0.5)**0.5)**0.5\n",
    "print(\"导数为：\",diff(y,x))\n",
    "\n",
    "func=sin(x)/(1+sin(x)+cos(x))\n",
    "print(\"积分结果为\",integrate(func,x))\n",
    "\n",
    "fun=5*x*(4-x)\n",
    "dfun=diff(fun,x)\n",
    "zhudian=solve(fun,x)\n",
    "print(\"高度为\",fun.subs(x,2))\n"
   ]
  },
  {
   "cell_type": "markdown",
   "id": "3eef8738",
   "metadata": {},
   "source": [
    "### 概率论"
   ]
  },
  {
   "cell_type": "code",
   "execution_count": 4,
   "id": "b734fd74",
   "metadata": {},
   "outputs": [
    {
     "name": "stdout",
     "output_type": "stream",
     "text": [
      "0.854166666666667\n"
     ]
    }
   ],
   "source": [
    "from math import *\n",
    "x=symbols('x')\n",
    "y1=1/6*x\n",
    "y2=2-x/2\n",
    "print(integrate(y1,(x,1,3))+integrate(y2,(x,3,7/2)))"
   ]
  }
 ],
 "metadata": {
  "kernelspec": {
   "display_name": "Python 3 (ipykernel)",
   "language": "python",
   "name": "python3"
  },
  "language_info": {
   "codemirror_mode": {
    "name": "ipython",
    "version": 3
   },
   "file_extension": ".py",
   "mimetype": "text/x-python",
   "name": "python",
   "nbconvert_exporter": "python",
   "pygments_lexer": "ipython3",
   "version": "3.10.6"
  }
 },
 "nbformat": 4,
 "nbformat_minor": 5
}
