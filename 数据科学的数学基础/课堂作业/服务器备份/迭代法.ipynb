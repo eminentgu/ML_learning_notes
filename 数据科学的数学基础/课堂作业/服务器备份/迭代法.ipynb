{
 "cells": [
  {
   "cell_type": "markdown",
   "id": "046efa8c",
   "metadata": {},
   "source": [
    "### 迭代法解方程\n",
    "$f(x)=x^3+2x^2+10x-20$"
   ]
  },
  {
   "cell_type": "code",
   "execution_count": 56,
   "id": "6b39b1e4",
   "metadata": {},
   "outputs": [],
   "source": [
    "def f(x):\n",
    "    return x**3+2*x**2+10*x-20"
   ]
  },
  {
   "cell_type": "markdown",
   "id": "2aba8183",
   "metadata": {},
   "source": [
    "### 一\n",
    "$ \\psi=\\frac{20}{(x^2+2x+10)} $"
   ]
  },
  {
   "cell_type": "code",
   "execution_count": 30,
   "id": "c55a9817",
   "metadata": {
    "scrolled": true
   },
   "outputs": [
    {
     "name": "stdout",
     "output_type": "stream",
     "text": [
      "迭代了 43 次，达到精度，退出\n",
      "1.368808107821372\n"
     ]
    }
   ],
   "source": [
    "def t1(x):\n",
    "    return 20/(x**2+2*x+10)\n",
    "x=1\n",
    "for i in range (0,100):\n",
    "    if(abs(t1(x)-x)<1e-15):\n",
    "        print(\"迭代了\",i+1,\"次，达到精度，退出\")\n",
    "        break\n",
    "    x=t1(x)\n",
    "print(x)"
   ]
  },
  {
   "cell_type": "markdown",
   "id": "ef64e8e0",
   "metadata": {},
   "source": [
    "### 二\n",
    "$\\psi=2-\\frac{x^3+2x^2}{10}$"
   ]
  },
  {
   "cell_type": "code",
   "execution_count": 29,
   "id": "003f8ab6",
   "metadata": {},
   "outputs": [
    {
     "name": "stdout",
     "output_type": "stream",
     "text": [
      "0.5489464780592126\n"
     ]
    }
   ],
   "source": [
    "def t2(x):\n",
    "    return 2-(x**3+2*x**2)/10\n",
    "x=1\n",
    "for i in range (0,100):\n",
    "    if(abs(t2(x)-x)<1e-15):\n",
    "        print(\"迭代了\",i+1,\"次，达到精度，退出\")\n",
    "        break\n",
    "    x=t2(x)\n",
    "print(x)"
   ]
  },
  {
   "cell_type": "markdown",
   "id": "c23b638d",
   "metadata": {},
   "source": [
    "### 三steffensen"
   ]
  },
  {
   "cell_type": "code",
   "execution_count": 60,
   "id": "17ed44be",
   "metadata": {},
   "outputs": [
    {
     "name": "stdout",
     "output_type": "stream",
     "text": [
      "迭代了 4 次，达到精度，退出\n",
      "1.3688081078213725\n"
     ]
    }
   ],
   "source": [
    "def steffensen(x):\n",
    "    y=t1(x)\n",
    "    z=t1(y)\n",
    "    x1=x-((y-x)**2)/(z-2*y+x)\n",
    "    return x1\n",
    "x=1\n",
    "for i in range(0,100):\n",
    "    if(abs(steffensen(x)-x)<1e-15):\n",
    "        x=steffensen(x)\n",
    "        print(\"迭代了\",i+1,\"次，达到精度，退出\")\n",
    "        break\n",
    "    x=steffensen(x)\n",
    "print(x)"
   ]
  },
  {
   "cell_type": "code",
   "execution_count": 61,
   "id": "99be6723",
   "metadata": {},
   "outputs": [
    {
     "name": "stdout",
     "output_type": "stream",
     "text": [
      "迭代了 5 次，达到精度，退出\n",
      "1.3688081078213727\n"
     ]
    }
   ],
   "source": [
    "def steffensen(x):\n",
    "    y=t2(x)\n",
    "    z=t2(y)\n",
    "    x1=x-((y-x)**2)/(z-2*y+x)\n",
    "    return x1\n",
    "x=1\n",
    "for i in range(0,100):\n",
    "    if(abs(steffensen(x)-x)<1e-15):\n",
    "        x=steffensen(x)\n",
    "        print(\"迭代了\",i+1,\"次，达到精度，退出\")\n",
    "        break\n",
    "    x=steffensen(x)\n",
    "print(x)"
   ]
  },
  {
   "cell_type": "markdown",
   "id": "de449787",
   "metadata": {},
   "source": [
    "### 牛顿（下山）法"
   ]
  },
  {
   "cell_type": "code",
   "execution_count": 66,
   "id": "f5ab9e1e",
   "metadata": {},
   "outputs": [
    {
     "name": "stdout",
     "output_type": "stream",
     "text": [
      "迭代了 10 次，达到精度，退出\n",
      "2.0\n"
     ]
    }
   ],
   "source": [
    "def f(x):\n",
    "    return 2*x**3-4*x**2+3*x-6\n",
    "def df(x):\n",
    "    return 6*x**2-8*x+3\n",
    "x=1\n",
    "for i in range(0,100):\n",
    "    if(abs(f(x)/df(x))<1e-15):\n",
    "        x=x-f(x)/df(x)\n",
    "        print(\"迭代了\",i+1,\"次，达到精度，退出\")\n",
    "        break\n",
    "    x=x-f(x)/df(x)\n",
    "print(x)"
   ]
  },
  {
   "cell_type": "code",
   "execution_count": 15,
   "id": "0e89ecda",
   "metadata": {},
   "outputs": [
    {
     "name": "stdout",
     "output_type": "stream",
     "text": [
      "迭代了 6 次，达到精度，退出\n",
      "2.0\n"
     ]
    }
   ],
   "source": [
    "def f(x):\n",
    "    return 2*x**3-4*x**2+3*x-6\n",
    "def df(x):\n",
    "    return 6*x**2-8*x+3\n",
    "x=1\n",
    "for i in range(0,6):\n",
    "    k=1\n",
    "    pre=x\n",
    "    x=pre-f(pre)/df(pre)\n",
    "    while(abs(f(x))>=abs(f(pre))):\n",
    "        k=k/2\n",
    "        x=pre-k*f(pre)/df(pre)\n",
    "    if abs(x-pre)<1e-15:\n",
    "        ans=i\n",
    "        break\n",
    "print(\"迭代了\",i+1`````,\"次，达到精度，退出\")\n",
    "print(x)"
   ]
  },
  {
   "cell_type": "code",
   "execution_count": null,
   "id": "7b1b1563",
   "metadata": {},
   "outputs": [],
   "source": []
  },
  {
   "cell_type": "code",
   "execution_count": null,
   "id": "8fe75b0f",
   "metadata": {},
   "outputs": [],
   "source": []
  }
 ],
 "metadata": {
  "kernelspec": {
   "display_name": "Python 3 (ipykernel)",
   "language": "python",
   "name": "python3"
  },
  "language_info": {
   "codemirror_mode": {
    "name": "ipython",
    "version": 3
   },
   "file_extension": ".py",
   "mimetype": "text/x-python",
   "name": "python",
   "nbconvert_exporter": "python",
   "pygments_lexer": "ipython3",
   "version": "3.10.6"
  }
 },
 "nbformat": 4,
 "nbformat_minor": 5
}
