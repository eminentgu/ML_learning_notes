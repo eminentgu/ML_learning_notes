{
 "cells": [
  {
   "cell_type": "code",
   "execution_count": 28,
   "id": "d2477221",
   "metadata": {},
   "outputs": [
    {
     "ename": "KeyboardInterrupt",
     "evalue": "",
     "output_type": "error",
     "traceback": [
      "\u001b[0;31m---------------------------------------------------------------------------\u001b[0m",
      "\u001b[0;31mKeyboardInterrupt\u001b[0m                         Traceback (most recent call last)",
      "Input \u001b[0;32mIn [28]\u001b[0m, in \u001b[0;36m<cell line: 10>\u001b[0;34m()\u001b[0m\n\u001b[1;32m     10\u001b[0m \u001b[38;5;28;01mwhile\u001b[39;00m a\u001b[38;5;241m<\u001b[39m\u001b[38;5;241m=\u001b[39mb:\n\u001b[1;32m     11\u001b[0m     x0\u001b[38;5;241m=\u001b[39m(a\u001b[38;5;241m+\u001b[39mb)\u001b[38;5;241m/\u001b[39m\u001b[38;5;241m2\u001b[39m\n\u001b[0;32m---> 12\u001b[0m     fx0\u001b[38;5;241m=\u001b[39m\u001b[43mfunc\u001b[49m\u001b[43m(\u001b[49m\u001b[43mx0\u001b[49m\u001b[43m)\u001b[49m\n\u001b[1;32m     13\u001b[0m     n\u001b[38;5;241m+\u001b[39m\u001b[38;5;241m=\u001b[39m\u001b[38;5;241m1\u001b[39m\n\u001b[1;32m     14\u001b[0m     \u001b[38;5;28;01mif\u001b[39;00m \u001b[38;5;28mabs\u001b[39m(fx0\u001b[38;5;241m-\u001b[39mx0)\u001b[38;5;241m<\u001b[39m\u001b[38;5;241m1e-4\u001b[39m:\n\u001b[1;32m     15\u001b[0m         \u001b[38;5;66;03m#print('x0:',x0,fx0,'<10e-6')\u001b[39;00m\n",
      "Input \u001b[0;32mIn [28]\u001b[0m, in \u001b[0;36mfunc\u001b[0;34m(x)\u001b[0m\n\u001b[1;32m      1\u001b[0m \u001b[38;5;28;01mfrom\u001b[39;00m \u001b[38;5;21;01mmath\u001b[39;00m \u001b[38;5;28;01mimport\u001b[39;00m \u001b[38;5;241m*\u001b[39m\n\u001b[0;32m----> 2\u001b[0m \u001b[38;5;28;01mdef\u001b[39;00m \u001b[38;5;21mfunc\u001b[39m(x):\n\u001b[1;32m      3\u001b[0m     \u001b[38;5;28;01mreturn\u001b[39;00m exp(x)\u001b[38;5;241m+\u001b[39m\u001b[38;5;241m4\u001b[39m\u001b[38;5;241m*\u001b[39mx\u001b[38;5;241m*\u001b[39m\u001b[38;5;241m*\u001b[39m\u001b[38;5;241m3\u001b[39m\u001b[38;5;241m+\u001b[39m\u001b[38;5;241m2\u001b[39m\u001b[38;5;241m*\u001b[39mx\u001b[38;5;241m+\u001b[39mx\u001b[38;5;241m-\u001b[39m\u001b[38;5;241m2\u001b[39m\n\u001b[1;32m      5\u001b[0m a\u001b[38;5;241m=\u001b[39m\u001b[38;5;241m0\u001b[39m\n",
      "\u001b[0;31mKeyboardInterrupt\u001b[0m: "
     ]
    }
   ],
   "source": [
    "from math import *\n",
    "def func(x):\n",
    "    return exp(x)+4*x**3+2*x+x-2\n",
    "\n",
    "a=0\n",
    "b=1\n",
    "n=1\n",
    "fa=func(a)\n",
    "fb=func(b)\n",
    "while a<=b:\n",
    "    x0=(a+b)/2\n",
    "    fx0=func(x0)\n",
    "    n+=1\n",
    "    if abs(fx0-x0)<1e-4:\n",
    "        #print('x0:',x0,fx0,'<10e-6')\n",
    "        print(\"迭代了\",n,\"此\")\n",
    "        print(x0,'是用二分法求解方程的根')\n",
    "        break\n",
    "    if fa*fx0<0:\n",
    "        b=x0\n",
    "        fb=fx0\n",
    "        #print('解在左侧,a:',a,'  b:',b,'  x0:',x0)\n",
    "    elif fb*fx0<0:\n",
    "        a=x0\n",
    "        fa=fx0\n",
    "        #print('解在右侧,a:',a,'  b:',b,'  x0:',x0)"
   ]
  },
  {
   "cell_type": "code",
   "execution_count": 30,
   "id": "c2d1ad9a",
   "metadata": {},
   "outputs": [
    {
     "name": "stdout",
     "output_type": "stream",
     "text": [
      "迭代了 14 次\n",
      "0.3131103515625 是用二分法求解方程的根\n"
     ]
    }
   ],
   "source": [
    "from math import *\n",
    "def func(x):\n",
    "    return exp(x)+4*x**3+2*x**2+x-2\n",
    "\n",
    "a=0\n",
    "b=1\n",
    "n=0\n",
    "fa=func(a)\n",
    "fb=func(b)\n",
    "p=0\n",
    "while a<=b:\n",
    "    \n",
    "    n+=1\n",
    "    if(n>=20):\n",
    "        print(\"迭代了\",n,\"次\")\n",
    "        print(x0,'是用二分法求解方程的根')\n",
    "        break\n",
    "        \n",
    "    if abs(x0-(a+b)/2)<1e-4:\n",
    "        #print('x0:',x0,fx0,'<10e-6')\n",
    "        print(\"迭代了\",n,\"次\")\n",
    "        print(x0,'是用二分法求解方程的根')\n",
    "        break\n",
    "    x0=(a+b)/2\n",
    "    fx0=func(x0)\n",
    "    if fa*fx0<0:\n",
    "        b=x0\n",
    "        fb=fx0\n",
    "        #print('解在左侧,a:',a,'  b:',b,'  x0:',x0)\n",
    "    elif fb*fx0<0:\n",
    "        a=x0\n",
    "        fa=fx0\n",
    "        #print('解在右侧,a:',a,'  b:',b,'  x0:',x0)\n",
    "    p=fx0"
   ]
  },
  {
   "cell_type": "code",
   "execution_count": null,
   "id": "7d7949d0",
   "metadata": {},
   "outputs": [],
   "source": []
  }
 ],
 "metadata": {
  "kernelspec": {
   "display_name": "Python 3 (ipykernel)",
   "language": "python",
   "name": "python3"
  },
  "language_info": {
   "codemirror_mode": {
    "name": "ipython",
    "version": 3
   },
   "file_extension": ".py",
   "mimetype": "text/x-python",
   "name": "python",
   "nbconvert_exporter": "python",
   "pygments_lexer": "ipython3",
   "version": "3.10.6"
  }
 },
 "nbformat": 4,
 "nbformat_minor": 5
}
