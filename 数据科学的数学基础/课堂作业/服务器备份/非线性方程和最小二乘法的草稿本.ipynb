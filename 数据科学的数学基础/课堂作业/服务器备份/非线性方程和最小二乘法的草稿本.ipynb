{
 "cells": [
  {
   "cell_type": "markdown",
   "id": "540afde9",
   "metadata": {},
   "source": [
    "### 二分、牛顿迭代法、sympy、弦截法"
   ]
  },
  {
   "cell_type": "code",
   "execution_count": null,
   "id": "1e696033",
   "metadata": {},
   "outputs": [],
   "source": [
    "def func(x):\n",
    "    return x**3-x**2+x-1\n",
    "\n",
    "a=-1\n",
    "b=2\n",
    "fa=func(a)\n",
    "fb=func(b)\n",
    "while a<=b:\n",
    "    x0=(a+b)/2\n",
    "    fx0=func(x0)   \n",
    "    if abs(fx0)<10e-6:\n",
    "        print('x0:',x0,fx0,'<10e-6')\n",
    "        print(x0,'是用二分法求解方程的根')\n",
    "        break`在这里插入代码片`\n",
    "    if fa*fx0<0:\n",
    "        b=x0\n",
    "        fb=fx0\n",
    "        print('解在左侧,a:',a,'  b:',b,'  x0:',x0)\n",
    "    elif fb*fx0<0:\n",
    "        a=x0\n",
    "        fa=fx0\n",
    "        print('解在右侧,a:',a,'  b:',b,'  x0:',x0)"
   ]
  },
  {
   "cell_type": "code",
   "execution_count": null,
   "id": "a2e10df9",
   "metadata": {},
   "outputs": [],
   "source": [
    "# 以f = x**3 + 3*x**2 + 3*x + 2\n",
    "# df = 3**2 + 6*x + 3\n",
    " \n",
    "def f(x):\n",
    "    f = x ** 3 + 3 * x ** 2 + 3 * x + 2\n",
    "    return f\n",
    " \n",
    "def df(x):\n",
    "    df = 3 * x ** 2 + 6 * x + 3\n",
    "    return df\n",
    " \n",
    "def newton(x):\n",
    "    global i\n",
    "    x0 = x\n",
    "    print('第{}次迭代：'.format(i), end='')\n",
    "    print('f(x) =', f(x0), end='  ')\n",
    "    print('df(x) =', df(x0))\n",
    "    x = x0 - f(x0)/df(x0)\n",
    "    print('x =', x, 'x0 =', x0, abs(x0-x))\n",
    "    if abs(x0-x) < 1e-6:\n",
    "        return x\n",
    "    else:\n",
    "        i += 1\n",
    "        return newton(x)   # 这里没有return的话，函数返回None\n",
    " \n",
    "i = 1\n",
    "x0 = -3\n",
    "x = newton(x0)\n",
    "print('该方程的解为：', x)"
   ]
  },
  {
   "cell_type": "code",
   "execution_count": null,
   "id": "d92109d0",
   "metadata": {},
   "outputs": [],
   "source": [
    "from sympy import *\n",
    "from sympy.abc import x\n",
    "\n",
    "def func(x):\n",
    "    return x**3 - 0.165*x**2 + 3.993*10**(-4)\n",
    "result = solveset(func(x), x, Interval(0, 0.11))\n",
    "print(result)"
   ]
  },
  {
   "cell_type": "code",
   "execution_count": 3,
   "id": "d0664c1a",
   "metadata": {},
   "outputs": [
    {
     "name": "stdout",
     "output_type": "stream",
     "text": [
      "{0.0623775815137495}\n"
     ]
    }
   ],
   "source": [
    "from sympy import *\n",
    "from sympy.abc import x\n",
    "\n",
    "def func(x):\n",
    "    return x**3 - 0.165*x**2 + 3.993*10**(-4)\n",
    "result = solveset(func(x), x, Interval(0, 0.11))\n",
    "print(result)"
   ]
  },
  {
   "cell_type": "markdown",
   "id": "38643c94",
   "metadata": {},
   "source": [
    "### steffensen"
   ]
  },
  {
   "cell_type": "code",
   "execution_count": null,
   "id": "6af47692",
   "metadata": {},
   "outputs": [],
   "source": [
    "def fun1(x):     # 不动点函数\n",
    "    return (x**2+1)**(1/3)\n",
    " \n",
    "x = 1.5        # 初值\n",
    "k = 0\n",
    "while True:\n",
    "    a = x\n",
    "    b = fun1(x)\n",
    "    c = fun1(fun1(x))\n",
    "    x = x-((b-x)**2)/(c-2*b+a)\n",
    "    k += 1\n",
    "    b = fun1(x)                       # 去掉这两行就能得到第0次迭代的b c结果\n",
    "    c = fun1(fun1(x))               # 去掉这两行就能得到第0次迭代的b c结果\n",
    "    print('第{}次迭代的结果为{} {} {}'.format(k, x, b, c))\n",
    "    if (abs(x-a)<(1e-5)):  # abs()函数返回绝对值，1e-5为10的负5次方\n",
    "        break\n",
    "print(\"方程的解为：\")\n",
    "print(x)"
   ]
  },
  {
   "cell_type": "markdown",
   "id": "d0e68e41",
   "metadata": {},
   "source": [
    "### 牛顿插值"
   ]
  },
  {
   "cell_type": "code",
   "execution_count": null,
   "id": "ecddc1a9",
   "metadata": {},
   "outputs": [],
   "source": [
    "x0 = 0  #区间下限\n",
    "x1 = 0.11  #区间上限\n",
    "\n",
    "x_list = [x1]\n",
    "i = 0\n",
    "\n",
    "def f(x):\n",
    "    f = x**3 - 0.165*x**2 + 3.993*10**(-4)\n",
    "    return f\n",
    "\n",
    "while True:\n",
    "    x2 = x1 - f(x1)*(x1-x0)/(f(x1)-f(x0))\n",
    "    x1 = x2\n",
    "    x_list.append(x2)\n",
    "    if len(x_list) > 1:\n",
    "        i += 1\n",
    "        error = abs((x_list[-1] - x_list[-2]) / x_list[-1])\n",
    "        if error < 10**(-6):\n",
    "            print(f'迭代第{i}次后，误差小于10^-6')\n",
    "            break\n",
    "    else:\n",
    "        pass\n",
    "\n",
    "print(f'所求方程式的根为{x_list[-1]}')"
   ]
  },
  {
   "cell_type": "markdown",
   "id": "7609ba04",
   "metadata": {},
   "source": [
    "### 拉格朗日法"
   ]
  },
  {
   "cell_type": "code",
   "execution_count": null,
   "id": "0ed1dd41",
   "metadata": {},
   "outputs": [],
   "source": [
    "from scipy.optimize import minimize\n",
    "import numpy as np \n",
    " \n",
    "#目标函数：\n",
    "def func(args):\n",
    "    fun = lambda x: 60 - 10*x[0] - 4*x[1] + x[0]**2 + x[1]**2 - x[0]*x[1]\n",
    "    #fun = lambda x: 10 - x[0]**2 - x[1]**2\n",
    "    return fun\n",
    " \n",
    "#约束条件，包括等式约束和不等式约束\n",
    "def con(args):\n",
    "    cons = ({'type': 'eq', 'fun': lambda x: x[0]+x[1]-8})\n",
    "    #cons = ({'type': 'ineq', 'fun': lambda x: x[1]-x[0]**2},\n",
    "    #        {'type': 'eq', 'fun': lambda x: x[0]+x[1]})\n",
    "    return cons \n",
    " \n",
    "if __name__ == \"__main__\":\n",
    "    args = ()\n",
    "    args1 = ()\n",
    "    cons = con(args1)\n",
    "    x0 = np.array((2.0, 1.0))  #设置初始值，初始值的设置很重要，很容易收敛到另外的极值点中，建议多试几个值\n",
    "    \n",
    "    #求解#\n",
    "    res = minimize(func(args), x0, method='SLSQP', constraints=cons)\n",
    "    print(res.success)\n",
    "    print(\"x1=\",res.x[0],\";  x2=\",res.x[1])\n",
    "    print(\"最优解为：\",res.fun)\n",
    "\n"
   ]
  },
  {
   "cell_type": "code",
   "execution_count": null,
   "id": "eb0fcd00",
   "metadata": {},
   "outputs": [],
   "source": [
    "#导入sympy包，用于求导，方程组求解等等\n",
    "from sympy import * \n",
    " \n",
    "#设置变量\n",
    "x1 = symbols(\"x1\")\n",
    "x2 = symbols(\"x2\")\n",
    "alpha = symbols(\"alpha\")\n",
    "#beta = symbols(\"beta\")\n",
    " \n",
    "#构造拉格朗日等式\n",
    "L = 60 - 10*x1 - 4*x2 + x1*x1 + x2*x2 - x1*x2 - alpha * (x1 + x2 - 8)\n",
    " \n",
    "#求导，构造KKT条件\n",
    "difyL_x1 = diff(L, x1)  #对变量x1求导\n",
    "difyL_x2 = diff(L, x2)  #对变量x2求导\n",
    "difyL_alpha = diff(L, alpha) #对alpha求导\n",
    " \n",
    "#求解KKT等式\n",
    "aa = solve([difyL_x1, difyL_x2, difyL_alpha], [x1, x2, alpha])\n",
    "print(aa)\n",
    "x1=aa.get(x1)\n",
    "x2=aa.get(x2)\n",
    "alpha=aa.get(alpha)\n",
    "print(\"最优解为：\",60 - 10*x1 - 4*x2 + x1*x1 + x2*x2 - x1*x2 - alpha * (x1 + x2 - 8))\n",
    "\n"
   ]
  },
  {
   "cell_type": "code",
   "execution_count": null,
   "id": "f6c2bd83",
   "metadata": {},
   "outputs": [],
   "source": []
  }
 ],
 "metadata": {
  "kernelspec": {
   "display_name": "Python 3 (ipykernel)",
   "language": "python",
   "name": "python3"
  },
  "language_info": {
   "codemirror_mode": {
    "name": "ipython",
    "version": 3
   },
   "file_extension": ".py",
   "mimetype": "text/x-python",
   "name": "python",
   "nbconvert_exporter": "python",
   "pygments_lexer": "ipython3",
   "version": "3.10.6"
  }
 },
 "nbformat": 4,
 "nbformat_minor": 5
}
