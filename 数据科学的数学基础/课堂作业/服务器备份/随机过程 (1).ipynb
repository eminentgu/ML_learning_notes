{
 "cells": [
  {
   "cell_type": "code",
   "execution_count": 1,
   "id": "3b4b5c91",
   "metadata": {},
   "outputs": [
    {
     "name": "stdout",
     "output_type": "stream",
     "text": [
      "0.026862016000000002\n"
     ]
    }
   ],
   "source": [
    "import numpy as np\n",
    "def forward_HMM(O,PI,A,B):\n",
    "    \"\"\"\n",
    "    已知模型，求解状态序列概率\n",
    "    :param O:  1D,观测序列（元素为整数）\n",
    "    :param PI: 1D,初始概率向量\n",
    "    :param A:  2D,状态转移矩阵\n",
    "    :param B:  2D,观测生成矩阵\n",
    "    :return:   floaat,O的概率\n",
    "    \"\"\"\n",
    "    PI=np.asarray(PI).ravel()\n",
    "    A=np.asarray(A)\n",
    "    B=np.asarray(B)\n",
    "    \n",
    "    #求解第一步的前向概率\n",
    "    alphas=B[:,O[0]]*PI\n",
    "    \n",
    "    #求解第二步至第T步的前向概率\n",
    "    for index in O[1:]:\n",
    "        alphas=np.dot(alphas,A)*B[:,index]\n",
    "    \n",
    "    #累计最后所有隐藏状态的前向概率\n",
    "    return alphas.sum()\n",
    "if __name__=='__main__':\n",
    "    #初始概率向量\n",
    "    PI=[0.25,0.25,0.25,0.25]\n",
    "    #状态转移矩阵N*N，N个隐含状态\n",
    "    A=[[0,1,0,0],[0.4,0,0.6,0],[0,0.4,0,0.6],[0,0,0.5,0.5]]\n",
    "    #观测概率矩阵N*M，N个隐含状态，M个观测状态\n",
    "    B=[[0.5,0.5],[0.3,0.7],[0.6,0.4],[0.8,0.2]]\n",
    "    #观测序列，0代表“红”，1代表“白”\n",
    "    O=[0,0,1,1,0]\n",
    "    \n",
    "    print(forward_HMM(O,PI,A,B))\n",
    "    "
   ]
  },
  {
   "cell_type": "code",
   "execution_count": null,
   "id": "7d36e65b",
   "metadata": {},
   "outputs": [],
   "source": []
  },
  {
   "cell_type": "code",
   "execution_count": null,
   "id": "170f2cf5",
   "metadata": {},
   "outputs": [],
   "source": []
  }
 ],
 "metadata": {
  "kernelspec": {
   "display_name": "Python 3 (ipykernel)",
   "language": "python",
   "name": "python3"
  },
  "language_info": {
   "codemirror_mode": {
    "name": "ipython",
    "version": 3
   },
   "file_extension": ".py",
   "mimetype": "text/x-python",
   "name": "python",
   "nbconvert_exporter": "python",
   "pygments_lexer": "ipython3",
   "version": "3.10.6"
  }
 },
 "nbformat": 4,
 "nbformat_minor": 5
}
