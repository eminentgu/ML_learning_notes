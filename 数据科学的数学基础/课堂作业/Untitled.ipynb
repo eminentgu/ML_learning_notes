{
 "cells": [
  {
   "cell_type": "code",
   "execution_count": 67,
   "id": "5405a7f3",
   "metadata": {},
   "outputs": [],
   "source": [
    "import pandas as pd\n",
    "import numpy as np\n",
    "from scipy.stats import norm\n",
    "import matplotlib.pyplot as plt\n",
    "import seaborn as sns\n",
    "%matplotlib inline\n",
    "from sklearn.preprocessing import StandardScaler\n",
    "\n",
    "train = pd.read_csv('train.csv')\n",
    "test = pd.read_csv('test.csv')"
   ]
  },
  {
   "cell_type": "code",
   "execution_count": 68,
   "id": "64b81eea",
   "metadata": {},
   "outputs": [],
   "source": [
    "train=train[['SalePrice', 'OverallQual','YearBuilt','YearRemodAdd', 'GrLivArea', 'GarageCars',\n",
    "       'TotalBsmtSF', '1stFlrSF', 'FullBath']]\n",
    "train.dropna()\n",
    "y_train=train[\"SalePrice\"]\n",
    "del train[\"SalePrice\"]\n",
    "x_train=train"
   ]
  },
  {
   "cell_type": "code",
   "execution_count": 69,
   "id": "382c24a0",
   "metadata": {},
   "outputs": [
    {
     "name": "stderr",
     "output_type": "stream",
     "text": [
      "D:\\anaconda\\envs\\ML\\lib\\site-packages\\pyearth\\earth.py:813: FutureWarning: `rcond` parameter will change to the default of machine precision times ``max(M, N)`` where M and N are the input matrix dimensions.\n",
      "To use the future default and silence this warning we advise to pass `rcond=None`, to keep using the old, explicitly pass `rcond=-1`.\n",
      "  pruning_passer.run()\n"
     ]
    },
    {
     "data": {
      "text/plain": [
       "Earth()"
      ]
     },
     "execution_count": 69,
     "metadata": {},
     "output_type": "execute_result"
    }
   ],
   "source": [
    "from pyearth import Earth\n",
    "\n",
    "model = Earth()\n",
    "model.fit(x_train,y_train)"
   ]
  },
  {
   "cell_type": "code",
   "execution_count": 70,
   "id": "4e37e938",
   "metadata": {},
   "outputs": [],
   "source": [
    "test=pd.read_csv(\"test.csv\")\n",
    "test=test[['SalePrice', 'OverallQual','YearBuilt','YearRemodAdd', 'GrLivArea', 'GarageCars',\n",
    "       'TotalBsmtSF', '1stFlrSF', 'FullBath']]\n",
    "test=test.dropna()\n",
    "y_test=test[\"SalePrice\"]\n",
    "del test[\"SalePrice\"]\n",
    "x_test=test"
   ]
  },
  {
   "cell_type": "code",
   "execution_count": 58,
   "id": "b51b5b0b",
   "metadata": {},
   "outputs": [],
   "source": [
    "x_test=x_train\n",
    "y_test=y_train"
   ]
  },
  {
   "cell_type": "code",
   "execution_count": 71,
   "id": "d061a0a8",
   "metadata": {},
   "outputs": [
    {
     "name": "stdout",
     "output_type": "stream",
     "text": [
      "70662.60787886321\n"
     ]
    }
   ],
   "source": [
    "from sklearn import metrics\n",
    "y_hat = model.predict(x_test)\n",
    "print(np.sqrt(metrics.mean_squared_error(y_test,y_hat)))"
   ]
  },
  {
   "cell_type": "code",
   "execution_count": 72,
   "id": "6cf02987",
   "metadata": {
    "scrolled": true
   },
   "outputs": [
    {
     "name": "stdout",
     "output_type": "stream",
     "text": [
      "61176.93583104595\n"
     ]
    }
   ],
   "source": [
    "from sklearn import linear_model\n",
    "reg = linear_model.LassoCV()\n",
    "reg.fit(x_train,y_train)\n",
    "from sklearn import metrics\n",
    "y_hat = reg.predict(x_test)\n",
    "print(np.sqrt(metrics.mean_squared_error(y_test,y_hat)))"
   ]
  },
  {
   "cell_type": "code",
   "execution_count": 66,
   "id": "2974c4df",
   "metadata": {},
   "outputs": [
    {
     "name": "stdout",
     "output_type": "stream",
     "text": [
      "56183.61094899462\n"
     ]
    }
   ],
   "source": [
    "\n",
    "# 数据预处理\n",
    "from sklearn import preprocessing\n",
    "# 导入机器学习模型最小二乘法，支持向量机，高斯分布\n",
    "from sklearn import linear_model\n",
    "# 导入机器学习随机森林\n",
    "from sklearn.ensemble import RandomForestRegressor\n",
    "# 划分数据\n",
    "import numpy as np\n",
    "import pandas as pd\n",
    "\n",
    "data_train=pd.read_csv(\"train.csv\")\n",
    "data_test=pd.read_csv(\"test.csv\")\n",
    "\n",
    "# 获取数据\n",
    "# 一共7个特征数据\n",
    "cols = ['OverallQual','GrLivArea', 'LotArea', 'GarageCars','TotalBsmtSF', 'FullBath', 'TotRmsAbvGrd', 'YearBuilt']\n",
    "\n",
    "cols = ['OverallQual','GrLivArea', 'LotArea', 'GarageCars','TotalBsmtSF', 'FullBath', 'TotRmsAbvGrd', 'YearBuilt']\n",
    "\n",
    "x = data_train[cols]\n",
    "y = np.array(data_train['SalePrice'])\n",
    "\n",
    "cols = ['OverallQual','GrLivArea', 'LotArea', 'GarageCars','TotalBsmtSF', 'FullBath', 'TotRmsAbvGrd', 'YearBuilt', 'SalePrice']\n",
    "data_test=data_test[cols].dropna()\n",
    "x_test=data_test[cols].drop('SalePrice',axis=1)\n",
    "y_test=np.array(data_test['SalePrice'])\n",
    "\n",
    "# fit_transform不仅计算训练数据的均值和方差，还会基于计算出来的均值和方差来转换训练数据，从而把数据转换成标准的正太分\n",
    "\n",
    "clf=linear_model.LassoCV()\n",
    "\n",
    "clf.fit(x,y)\n",
    "\n",
    "pre=clf.predict(x_test)\n",
    "\n",
    "def RMSE(y_hat, y):  # 计算RMSE\n",
    "    n = len(y)\n",
    "    return np.sqrt(np.sum((y_hat - y) ** 2) / n)\n",
    "\n",
    "print(RMSE(pre, y_test))\n",
    "\n"
   ]
  },
  {
   "cell_type": "code",
   "execution_count": null,
   "id": "70609815",
   "metadata": {},
   "outputs": [],
   "source": []
  }
 ],
 "metadata": {
  "kernelspec": {
   "display_name": "Python [conda env:ML] *",
   "language": "python",
   "name": "conda-env-ML-py"
  },
  "language_info": {
   "codemirror_mode": {
    "name": "ipython",
    "version": 3
   },
   "file_extension": ".py",
   "mimetype": "text/x-python",
   "name": "python",
   "nbconvert_exporter": "python",
   "pygments_lexer": "ipython3",
   "version": "3.8.8"
  }
 },
 "nbformat": 4,
 "nbformat_minor": 5
}
