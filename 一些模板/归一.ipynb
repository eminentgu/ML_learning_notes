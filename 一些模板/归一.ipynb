{
 "cells": [
  {
   "cell_type": "code",
   "execution_count": 1,
   "id": "c433835b",
   "metadata": {},
   "outputs": [
    {
     "name": "stdout",
     "output_type": "stream",
     "text": [
      "[5 8 6 2 3 1 2 8 3 1 9 1 4 9 6 6 5 7 9 6]\n",
      "[0.5   0.875 0.625 0.125 0.25  0.    0.125 0.875 0.25  0.    1.    0.\n",
      " 0.375 1.    0.625 0.625 0.5   0.75  1.    0.625]\n",
      "[0.81546488 0.73248676 0.73248676 0.73248676 0.31546488 0.31546488\n",
      " 0.94639463 0.73248676 0.         0.94639463 1.         0.94639463\n",
      " 0.         0.63092975 0.31546488 0.73248676 0.31546488 1.\n",
      " 0.94639463 0.94639463]\n",
      "[-0.01832166  1.08097776  0.34811148 -1.11762108 -0.75118794 -1.48405422\n",
      " -1.11762108  1.08097776 -0.75118794 -1.48405422  1.4474109  -1.48405422\n",
      " -0.3847548   1.4474109   0.34811148  0.34811148 -0.01832166  0.71454462\n",
      "  1.4474109   0.34811148]\n",
      "[0.04950495 0.07920792 0.05940594 0.01980198 0.02970297 0.00990099\n",
      " 0.01980198 0.07920792 0.02970297 0.00990099 0.08910891 0.00990099\n",
      " 0.03960396 0.08910891 0.05940594 0.05940594 0.04950495 0.06930693\n",
      " 0.08910891 0.05940594]\n",
      "[-0.70483276 -0.89486309  0.79516724 -0.93654897 -0.84404174 -0.93654897\n",
      "  0.         -0.89486309 -0.79516724 -0.5        -0.92083315 -0.92955343\n",
      " -0.92955343 -0.79516724  0.          0.         -0.84404174  0.89486309\n",
      " -0.92955343 -0.87433408]\n"
     ]
    }
   ],
   "source": [
    "import numpy as np\n",
    "\n",
    "\n",
    "def min_max_normalization(value):\n",
    "    \"\"\"归一化，也称离差标准化\n",
    "    公式：(原始值-最小值)/(最大值-最小值)\n",
    "    :return 值域[0,1]\n",
    "    \"\"\"\n",
    "    new_value = (value - value.min()) / (value.max() - value.min())\n",
    "    return new_value\n",
    "\n",
    "\n",
    "def log_transfer(value):\n",
    "    \"\"\"log转换，需要原始数据都大于1\n",
    "    公式：log10(x)/log10(max)\n",
    "    :return 值域[0,1]\n",
    "    \"\"\"\n",
    "    new_value = np.log10(value) / np.log10(value.max())\n",
    "    return new_value\n",
    "\n",
    "\n",
    "def normalization(value):\n",
    "    \"\"\"标准化\n",
    "    公式：(原始值-均值)/方差\n",
    "    :return 范围任意，标准化后数据均值为0，标准差为1\n",
    "    \"\"\"\n",
    "    new_value = (value - value.mean()) / value.std()\n",
    "    return new_value\n",
    "\n",
    "\n",
    "def proportional_normalization(value):\n",
    "    \"\"\"比例归一\n",
    "    公式：值/总和\n",
    "    :return 值域[0,1]\n",
    "    \"\"\"\n",
    "    new_value = value / value.sum()\n",
    "    return new_value\n",
    "\n",
    "\n",
    "def arctan_normalization(value):\n",
    "    \"\"\"反正切归一化，反正切函数的值域就是[-pi/2,pi/2]\n",
    "    公式：反正切值 * (2 / pi)\n",
    "    :return 值域[-1,1]，原始大于0的数被映射到[0,1]，小于0的数被映射到[-1,0]\n",
    "    \"\"\"\n",
    "    new_value = np.arctan(value) * (2 / np.pi)\n",
    "    return new_value\n",
    "\n",
    "\n",
    "if __name__ == '__main__':\n",
    "    data = np.random.randint(0, 10, size=(20))\n",
    "    print(data)\n",
    "    min_max_data = min_max_normalization(data)\n",
    "    print(min_max_data)\n",
    "    log_data = log_transfer(np.random.randint(1, 10, size=(20)))\n",
    "    print(log_data)\n",
    "    norm_data = normalization(data)\n",
    "    print(norm_data)\n",
    "    proportional_data = proportional_normalization(data)\n",
    "    print(proportional_data)\n",
    "    arc_data = arctan_normalization(np.random.randint(-10, 10, size=(20)))\n",
    "    print(arc_data)"
   ]
  },
  {
   "cell_type": "code",
   "execution_count": null,
   "id": "b65fb157",
   "metadata": {},
   "outputs": [],
   "source": []
  }
 ],
 "metadata": {
  "kernelspec": {
   "display_name": "Python [conda env:ML] *",
   "language": "python",
   "name": "conda-env-ML-py"
  },
  "language_info": {
   "codemirror_mode": {
    "name": "ipython",
    "version": 3
   },
   "file_extension": ".py",
   "mimetype": "text/x-python",
   "name": "python",
   "nbconvert_exporter": "python",
   "pygments_lexer": "ipython3",
   "version": "3.8.8"
  }
 },
 "nbformat": 4,
 "nbformat_minor": 5
}
