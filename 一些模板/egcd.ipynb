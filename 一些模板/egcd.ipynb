{
 "cells": [
  {
   "cell_type": "code",
   "execution_count": 1,
   "id": "6c927c9c",
   "metadata": {},
   "outputs": [
    {
     "data": {
      "text/plain": [
       "(-7.333333333333333, 2.0)"
      ]
     },
     "execution_count": 1,
     "metadata": {},
     "output_type": "execute_result"
    }
   ],
   "source": [
    "def egcd(a,b):\n",
    "    if b==0:\n",
    "        return 1,0\n",
    "    else:\n",
    "        x,y=egcd(b,a%b)\n",
    "        return y,x-a/b*y\n",
    "egcd(3,22)"
   ]
  },
  {
   "cell_type": "code",
   "execution_count": null,
   "id": "1c23c1ab",
   "metadata": {},
   "outputs": [],
   "source": []
  }
 ],
 "metadata": {
  "kernelspec": {
   "display_name": "Python [conda env:ML] *",
   "language": "python",
   "name": "conda-env-ML-py"
  },
  "language_info": {
   "codemirror_mode": {
    "name": "ipython",
    "version": 3
   },
   "file_extension": ".py",
   "mimetype": "text/x-python",
   "name": "python",
   "nbconvert_exporter": "python",
   "pygments_lexer": "ipython3",
   "version": "3.8.8"
  }
 },
 "nbformat": 4,
 "nbformat_minor": 5
}
