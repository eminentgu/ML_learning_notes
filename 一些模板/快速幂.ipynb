{
 "cells": [
  {
   "cell_type": "code",
   "execution_count": 4,
   "id": "8e44cdf4",
   "metadata": {},
   "outputs": [
    {
     "data": {
      "text/plain": [
       "1"
      ]
     },
     "execution_count": 4,
     "metadata": {},
     "output_type": "execute_result"
    }
   ],
   "source": [
    "def fastExpMod(b, e, m):\n",
    "    result = 1\n",
    "    while e != 0:\n",
    "        if (e&1) == 1:\n",
    "            # ei = 1, then mul\n",
    "            result = (result * b) % m\n",
    "        e >>= 1\n",
    "        # b, b^2, b^4, b^8, ... , b^(2^n)\n",
    "        b = (b*b) % m\n",
    "    return result\n",
    "fastExpMod(27,68,56)"
   ]
  },
  {
   "cell_type": "code",
   "execution_count": null,
   "id": "fb98d71f",
   "metadata": {},
   "outputs": [],
   "source": []
  }
 ],
 "metadata": {
  "kernelspec": {
   "display_name": "Python [conda env:ML] *",
   "language": "python",
   "name": "conda-env-ML-py"
  },
  "language_info": {
   "codemirror_mode": {
    "name": "ipython",
    "version": 3
   },
   "file_extension": ".py",
   "mimetype": "text/x-python",
   "name": "python",
   "nbconvert_exporter": "python",
   "pygments_lexer": "ipython3",
   "version": "3.8.8"
  }
 },
 "nbformat": 4,
 "nbformat_minor": 5
}
