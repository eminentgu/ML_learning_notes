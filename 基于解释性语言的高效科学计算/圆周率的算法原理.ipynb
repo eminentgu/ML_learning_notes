{
 "cells": [
  {
   "cell_type": "markdown",
   "id": "9d303671",
   "metadata": {},
   "source": [
    "## BBP算法计算圆周率\n",
    "$ \\pi=\\sum^{\\infty}_{k=0}[\\frac{1}{16^k}(\\frac{4}{8k+1}-\\frac{2}{8k+4}-\\frac{1}{8k+5}-\\frac{1}{8k+6})]$"
   ]
  },
  {
   "cell_type": "code",
   "execution_count": 1,
   "id": "42d58935",
   "metadata": {},
   "outputs": [],
   "source": [
    "import matplotlib.pyplot as plt \n",
    "import time\n",
    "from numba import jit\n",
    "import numpy as np"
   ]
  },
  {
   "cell_type": "markdown",
   "id": "2054661d",
   "metadata": {},
   "source": [
    "#### 法一:使用numba加速\n",
    "* 使用numba和不使用numba加速对比"
   ]
  },
  {
   "cell_type": "code",
   "execution_count": 2,
   "id": "418a152c",
   "metadata": {},
   "outputs": [
    {
     "data": {
      "text/plain": [
       "3.141592653589793"
      ]
     },
     "execution_count": 2,
     "metadata": {},
     "output_type": "execute_result"
    }
   ],
   "source": [
    "@jit\n",
    "def pi_BBP_numba():\n",
    "    pi=0\n",
    "    for k in range(0,15):\n",
    "        pi+=1/pow(16,k)*(4/(8*k+1)-2/(8*k+4)-1/(8*k+5)-1/(8*k+6))\n",
    "    return pi\n",
    "pi_BBP_numba()"
   ]
  },
  {
   "cell_type": "markdown",
   "id": "c65ee4cc",
   "metadata": {},
   "source": [
    "#### 法二、使用Cython加速"
   ]
  },
  {
   "cell_type": "code",
   "execution_count": 3,
   "id": "e0dc5d1e",
   "metadata": {},
   "outputs": [],
   "source": [
    "%load_ext Cython"
   ]
  },
  {
   "cell_type": "code",
   "execution_count": 4,
   "id": "868ff2ed",
   "metadata": {},
   "outputs": [],
   "source": [
    "%%cython\n",
    "def pi_BBP_cython():\n",
    "    pi=0\n",
    "    for k in range(0,15):\n",
    "        pi+=1/pow(16,k)*(4/(8*k+1)-2/(8*k+4)-1/(8*k+5)-1/(8*k+6))\n",
    "    return pi\n",
    "pi_BBP_cython()"
   ]
  },
  {
   "cell_type": "markdown",
   "id": "5389a29c",
   "metadata": {},
   "source": [
    "#### 方法速度对比"
   ]
  },
  {
   "cell_type": "code",
   "execution_count": 8,
   "id": "98f0a274",
   "metadata": {},
   "outputs": [
    {
     "data": {
      "text/plain": [
       "3.141592653589793"
      ]
     },
     "execution_count": 8,
     "metadata": {},
     "output_type": "execute_result"
    }
   ],
   "source": [
    "def pi_BBP():\n",
    "    pi=0\n",
    "    for k in range(0,15):\n",
    "        pi+=1/pow(16,k)*(4/(8*k+1)-2/(8*k+4)-1/(8*k+5)-1/(8*k+6))\n",
    "    return pi\n",
    "pi_BBP()"
   ]
  },
  {
   "cell_type": "code",
   "execution_count": 6,
   "id": "3c5315c4",
   "metadata": {},
   "outputs": [
    {
     "name": "stdout",
     "output_type": "stream",
     "text": [
      "pi= 3.141592653589793\n",
      "使用numba加速的程序执行100次的时间为：0.00028689999999897964\n",
      "pi= 3.141592653589793\n",
      "使用cython加速的程序执行100次的时间为：0.00064020000000652999\n",
      "pi= 3.141592653589793\n",
      "未使用加速的程序执行100次的时间为：0.00107580000000240261\n"
     ]
    }
   ],
   "source": [
    "start=time.perf_counter() \n",
    "for i in range(100):\n",
    "    pi=pi_BBP_numba()\n",
    "print(\"pi=\",pi)\n",
    "end=time.perf_counter() \n",
    "running_time=end-start\n",
    "print(\"使用numba加速的程序执行100次的时间为：%.20f\" %running_time)\n",
    "\n",
    "start=time.perf_counter() \n",
    "for i in range(100):\n",
    "    pi=pi_BBP_cython()\n",
    "print(\"pi=\",pi)\n",
    "end=time.perf_counter() \n",
    "running_time=end-start\n",
    "print(\"使用cython加速的程序执行100次的时间为：%.20f\" %running_time)\n",
    "\n",
    "start=time.perf_counter() \n",
    "for i in range(100):\n",
    "    pi=pi_BBP()\n",
    "print(\"pi=\",pi)\n",
    "end=time.perf_counter() \n",
    "running_time=end-start\n",
    "print(\"未使用加速的程序执行100次的时间为：%.20f\" %running_time)"
   ]
  },
  {
   "cell_type": "markdown",
   "id": "6a7c9160",
   "metadata": {},
   "source": [
    "#### 绘图展示pi的计算过程"
   ]
  },
  {
   "cell_type": "code",
   "execution_count": 7,
   "id": "4723cca9",
   "metadata": {},
   "outputs": [
    {
     "data": {
      "image/png": "[encoded data removed]",
      "text/plain": [
       "<Figure size 432x288 with 1 Axes>"
      ]
     },
     "metadata": {
      "needs_background": "light"
     },
     "output_type": "display_data"
    }
   ],
   "source": [
    "y=[i for i in range(0,15)]\n",
    "pi=0\n",
    "for k in range(0,15):\n",
    "    pi+=1/pow(16,k)*(4/(8*k+1)-2/(8*k+4)-1/(8*k+5)-1/(8*k+6))\n",
    "    y[k]=pi\n",
    "x=[i for i in range(0,15)]\n",
    "y_ticks=np.arange(3.130,3.143,0.001)\n",
    "x_ticks = np.arange(0,15,1)\n",
    "plt.xticks(x_ticks)\n",
    "plt.yticks(y_ticks)\n",
    "plt.plot(x,y,color='skyblue')\n",
    "plt.scatter(x,y,color='pink')\n",
    "plt.xlabel('times')\n",
    "plt.ylabel('pi')\n",
    "plt.show()"
   ]
  }
 ],
 "metadata": {
  "kernelspec": {
   "display_name": "Python 3.8.8 ('ML')",
   "language": "python",
   "name": "python3"
  },
  "language_info": {
   "codemirror_mode": {
    "name": "ipython",
    "version": 3
   },
   "file_extension": ".py",
   "mimetype": "text/x-python",
   "name": "python",
   "nbconvert_exporter": "python",
   "pygments_lexer": "ipython3",
   "version": "3.8.8"
  },
  "vscode": {
   "interpreter": {
    "hash": "65643551d889fdd93ee7af1c9e6bb30d26ad96f9db4e3d0aac4531078003d329"
   }
  }
 },
 "nbformat": 4,
 "nbformat_minor": 5
}
