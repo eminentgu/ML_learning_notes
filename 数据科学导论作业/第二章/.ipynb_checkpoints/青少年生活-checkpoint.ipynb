{
 "cells": [
  {
   "cell_type": "code",
   "execution_count": 63,
   "id": "673b4d8a",
   "metadata": {},
   "outputs": [],
   "source": [
    "import pandas as pd\n",
    "df = pd.read_csv('responses.csv')\n",
    "\n",
    "#按照关键词生成onehot向量\n",
    "keyword=['never smoked','tried smoking','former smoker','current smoker']\n",
    "for n in range(0,4):\n",
    "    one_hot=[]\n",
    "    for i in range(0,int(df.shape[0])):\n",
    "        if(df['Smoking'][i]==keyword[n]):\n",
    "            one_hot.append(1)\n",
    "        else:\n",
    "            one_hot.append(0)\n",
    "    df.insert(df.shape[1],keyword[n],one_hot)\n",
    "\n",
    "#没数据的单独生成onehot向量\n",
    "one_hot=[]\n",
    "for i in range(0,int(df.shape[0])):\n",
    "    if(pd.isnull(df['Smoking'][i])):\n",
    "        one_hot.append(1)\n",
    "    else:\n",
    "        one_hot.append(0)\n",
    "df.insert(df.shape[1],'Miss Smoking Data',one_hot)\n",
    "#del df['Smoking'] 原来的数据\n",
    "df.to_csv('output.csv')"
   ]
  }
 ],
 "metadata": {
  "kernelspec": {
   "display_name": "Python [conda env:ML] *",
   "language": "python",
   "name": "conda-env-ML-py"
  },
  "language_info": {
   "codemirror_mode": {
    "name": "ipython",
    "version": 3
   },
   "file_extension": ".py",
   "mimetype": "text/x-python",
   "name": "python",
   "nbconvert_exporter": "python",
   "pygments_lexer": "ipython3",
   "version": "3.8.8"
  }
 },
 "nbformat": 4,
 "nbformat_minor": 5
}
