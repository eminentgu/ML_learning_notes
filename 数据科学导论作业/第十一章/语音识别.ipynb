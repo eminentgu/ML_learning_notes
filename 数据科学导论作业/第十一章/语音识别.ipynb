{
 "cells": [
  {
   "cell_type": "markdown",
   "id": "9b62d358",
   "metadata": {},
   "source": [
    "# 语音识别\n",
    "#### 顾翔，沈贝宁、那铭心、季诚\n",
    "#### 本题由顾翔负责\n",
    "---\n",
    "## 运行环境\n",
    "* python3\n",
    "* 安装有pandas、scikit-learn、numpy库\n",
    "* 运行软件：Anaconda、jupyter notebook\n",
    "----\n",
    "* 注：本题使用到的算法（特征处理STFT，训练GMM-HMM），过于复杂，因此代码参考较多"
   ]
  },
  {
   "cell_type": "markdown",
   "id": "6df67b86",
   "metadata": {},
   "source": [
    "### 一、数据处理\n",
    "* 该次作业数据处理极为复杂，首先,需要从文件汇总.wav数据集，根据语音样本转化为矩阵\n",
    "* 接着对数据进行短时傅里叶变换STFT，首先语音将会被分成几个小块，然后对每一小块进行傅里叶变换FFT，得到一个二维的FFT“图片”，这个“图片”即我们通常所说的频谱。选择不同的FFT的大小会得到不同频率分辨率下的结果，而重叠这些窗口可以让我们以增加数据大小为代价来控制时间分辨率。\n",
    "* 将STFT后的数据使用滑窗提取峰值，最终得到的是一个 105×6×216 的三维数组，最终每一个语音波形都得到216个重叠帧，每一帧用最大的6个峰值对应的频率来描述。"
   ]
  },
  {
   "cell_type": "code",
   "execution_count": 16,
   "id": "a354c152",
   "metadata": {},
   "outputs": [
    {
     "name": "stdout",
     "output_type": "stream",
     "text": [
      "Words spoken: ['apple', 'banana', 'kiwi', 'lime', 'orange', 'peach', 'pineapple']\n"
     ]
    }
   ],
   "source": [
    "fpaths = [] # 文件路径\n",
    "labels = [] # 每一个语音文件所包含的单词内容\n",
    "spoken = [] # 所有语音文件所包含的单词内容列表\n",
    "import os\n",
    "for f in os.listdir('./audio')[0:]: \n",
    "    for w in os.listdir('./audio/' + f):\n",
    "        fpaths.append('./audio/' + f + '/' + w)\n",
    "        labels.append(f)\n",
    "        if f not in spoken:\n",
    "            spoken.append(f)\n",
    "print('Words spoken:', spoken)"
   ]
  },
  {
   "cell_type": "code",
   "execution_count": 17,
   "id": "2a799a88",
   "metadata": {},
   "outputs": [
    {
     "name": "stdout",
     "output_type": "stream",
     "text": [
      "Number of files total: 105\n",
      "data (105, 6966)\n",
      "Labels and label indices [5. 5. 5. 5. 5. 5. 5. 5. 5. 5. 5. 5. 5. 5. 5. 6. 6. 6. 6. 6. 6. 6. 6. 6.\n",
      " 6. 6. 6. 6. 6. 6. 2. 2. 2. 2. 2. 2. 2. 2. 2. 2. 2. 2. 2. 2. 2. 0. 0. 0.\n",
      " 0. 0. 0. 0. 0. 0. 0. 0. 0. 0. 0. 0. 1. 1. 1. 1. 1. 1. 1. 1. 1. 1. 1. 1.\n",
      " 1. 1. 1. 3. 3. 3. 3. 3. 3. 3. 3. 3. 3. 3. 3. 3. 3. 3. 4. 4. 4. 4. 4. 4.\n",
      " 4. 4. 4. 4. 4. 4. 4. 4. 4.]\n"
     ]
    }
   ],
   "source": [
    "from scipy.io import wavfile\n",
    "import numpy as np\n",
    "\n",
    "data = np.zeros((len(fpaths), 32000)) # 每一行为一个语音样本，每一列为样本的一个特征\n",
    "maxsize = -1 # 最大的列数，每一个音频文件的时长不同，所以在循环中需要不断更改\n",
    "for n,file in enumerate(fpaths):\n",
    "    _, d = wavfile.read(file)\n",
    "    data[n, :d.shape[0]] = d\n",
    "    if d.shape[0] > maxsize:\n",
    "        maxsize = d.shape[0]\n",
    "data = data[:, :maxsize]\n",
    "\n",
    "#Each sample file is one row in data, and has one entry in labels\n",
    "print('Number of files total:', data.shape[0])\n",
    "all_labels = np.zeros(data.shape[0])\n",
    "for n, l in enumerate(set(labels)):\n",
    "    all_labels[np.array([i for i, _ in enumerate(labels) if _ == l])] = n\n",
    "print('data',data.shape)\n",
    "print('Labels and label indices', all_labels)"
   ]
  },
  {
   "cell_type": "code",
   "execution_count": 18,
   "id": "b3963314",
   "metadata": {},
   "outputs": [],
   "source": [
    "import scipy\n",
    "\n",
    "\"\"\"\n",
    "函数 stft()：实现短时傅里叶变换STFT\n",
    "输入参数 x：原始数据，ndarray；\n",
    "        fftsize：FFT大小，默认为64\n",
    "        overlap_pct：重叠窗口大小(FFT大小的倍数)，默认为0.5\n",
    "输出参数 raw[:,:(fftsize//2)]：二维STFT谱\n",
    "\"\"\"\n",
    "def stft(x, fftsize=64, overlap_pct=.5):\n",
    "    hop = int(fftsize * (1 - overlap_pct))\n",
    "    w = scipy.hanning(fftsize + 1)[:-1] # 转换为汉明窗口\n",
    "    raw = np.array([np.fft.rfft(w * x[i:i + fftsize]) for i in range(0, len(x) - fftsize, hop)])\n",
    "    return raw[:, :(fftsize // 2)]"
   ]
  },
  {
   "cell_type": "code",
   "execution_count": 19,
   "id": "ef7a8e66",
   "metadata": {},
   "outputs": [],
   "source": [
    "from numpy.lib.stride_tricks import as_strided\n",
    "\n",
    "\"\"\"\n",
    "函数 peakfind()：STFT的峰值检测\n",
    "输入参数 x：STFT谱；\n",
    "        n_peaks：最终选择峰值数\n",
    "        l_size：窗口左半部分大小，默认为3\n",
    "        r_size：窗口中间部分大小，默认为3\n",
    "        c_size：窗口右半部分大小，默认为3\n",
    "        f：对每部分采用的统计函数，默认为均值np.mean\n",
    "输出参数 heights：波峰对应的高度（幅值）\n",
    "        top[:n_peaks]：前n_peaks个波峰的频率值\n",
    "\"\"\"\n",
    "def peakfind(x, n_peaks, l_size=3, r_size=3, c_size=3, f=np.mean):\n",
    "    win_size = l_size + r_size + c_size\n",
    "    shape = x.shape[:-1] + (x.shape[-1] - win_size + 1, win_size)\n",
    "    strides = x.strides + (x.strides[-1],)\n",
    "    xs = as_strided(x, shape=shape, strides=strides)\n",
    "    def is_peak(x):\n",
    "        centered = (np.argmax(x) == l_size + int(c_size/2))\n",
    "        l = x[:l_size]\n",
    "        c = x[l_size:l_size + c_size]\n",
    "        r = x[-r_size:]\n",
    "        passes = np.max(c) > np.max([f(l), f(r)])\n",
    "        if centered and passes:\n",
    "            return np.max(c)\n",
    "        else:\n",
    "            return -1\n",
    "    r = np.apply_along_axis(is_peak, 1, xs)\n",
    "    top = np.argsort(r, None)[::-1]\n",
    "    heights = r[top[:n_peaks]]\n",
    "    top[top > -1] = top[top > -1] + l_size + int(c_size / 2.)\n",
    "    return heights, top[:n_peaks]"
   ]
  },
  {
   "cell_type": "code",
   "execution_count": 20,
   "id": "a6f2edbb",
   "metadata": {},
   "outputs": [
    {
     "name": "stderr",
     "output_type": "stream",
     "text": [
      "C:\\Users\\EMINEN~1\\AppData\\Local\\Temp/ipykernel_55168/3108194262.py:12: DeprecationWarning: scipy.hanning is deprecated and will be removed in SciPy 2.0.0, use numpy.hanning instead\n",
      "  w = scipy.hanning(fftsize + 1)[:-1] # 转换为汉明窗口\n"
     ]
    },
    {
     "name": "stdout",
     "output_type": "stream",
     "text": [
      "Processed obs 0\n",
      "Processed obs 10\n",
      "Processed obs 20\n",
      "Processed obs 30\n",
      "Processed obs 40\n",
      "Processed obs 50\n",
      "Processed obs 60\n",
      "Processed obs 70\n",
      "Processed obs 80\n",
      "Processed obs 90\n",
      "Processed obs 100\n",
      "(105, 6, 216)\n"
     ]
    }
   ],
   "source": [
    "all_obs = []\n",
    "for i in range(data.shape[0]):\n",
    "    d = np.abs(stft(data[i, :]))\n",
    "    n_dim = 6\n",
    "    obs = np.zeros((n_dim, d.shape[0]))\n",
    "    for r in range(d.shape[0]):\n",
    "        _, t = peakfind(d[r, :], n_peaks=n_dim)\n",
    "        obs[:, r] = t.copy()\n",
    "    if i % 10 == 0:\n",
    "        print(\"Processed obs %s\" % i)\n",
    "    all_obs.append(obs)\n",
    "    \n",
    "all_obs = np.atleast_3d(all_obs)\n",
    "print (all_obs.shape)"
   ]
  },
  {
   "cell_type": "markdown",
   "id": "56dcb94f",
   "metadata": {},
   "source": [
    "### 二、GMM-HMM\n",
    "* GMM决定了隐马尔科夫模型中状态与输入语音帧之间的符合情况，HMM用来处理在时间轴上的声学可变性\n",
    "* HMM使用前后向算法"
   ]
  },
  {
   "cell_type": "code",
   "execution_count": 21,
   "id": "86ee8fbd",
   "metadata": {},
   "outputs": [],
   "source": [
    "import scipy.stats as st\n",
    "import numpy as np\n",
    "\n",
    "class GmmHmm:\n",
    "    \n",
    "    def __init__(self, n_states):\n",
    "        self.n_states = n_states\n",
    "        self.random_state = np.random.RandomState(0)\n",
    "        \n",
    "        # 随机初始化\n",
    "        self.prior = self._normalize(self.random_state.rand(self.n_states, 1))\n",
    "        self.A = self._stochasticize(self.random_state.rand(self.n_states, self.n_states))\n",
    "        \n",
    "        self.mu = None\n",
    "        self.covs = None\n",
    "        self.n_dims = None\n",
    "           \n",
    "    def _forward(self, B):\n",
    "        log_likelihood = 0.\n",
    "        T = B.shape[1]\n",
    "        alpha = np.zeros(B.shape)\n",
    "        for t in range(T):\n",
    "            if t == 0:\n",
    "                alpha[:, t] = B[:, t] * self.prior.ravel()\n",
    "            else:\n",
    "                alpha[:, t] = B[:, t] * np.dot(self.A.T, alpha[:, t - 1])\n",
    "         \n",
    "            alpha_sum = np.sum(alpha[:, t])\n",
    "            alpha[:, t] /= alpha_sum\n",
    "            log_likelihood = log_likelihood + np.log(alpha_sum)\n",
    "        return log_likelihood, alpha\n",
    "    \n",
    "    def _backward(self, B):\n",
    "        T = B.shape[1]\n",
    "        beta = np.zeros(B.shape);\n",
    "           \n",
    "        beta[:, -1] = np.ones(B.shape[0])\n",
    "            \n",
    "        for t in range(T - 1)[::-1]:\n",
    "            beta[:, t] = np.dot(self.A, (B[:, t + 1] * beta[:, t + 1]))\n",
    "            beta[:, t] /= np.sum(beta[:, t])\n",
    "        return beta\n",
    "    \n",
    "    def _state_likelihood(self, obs):\n",
    "        obs = np.atleast_2d(obs)\n",
    "        B = np.zeros((self.n_states, obs.shape[1]))\n",
    "        for s in range(self.n_states):\n",
    "            #N 这一部分需要 0.14版本以上的Scipy\n",
    "            np.random.seed(self.random_state.randint(1))\n",
    "            B[s, :] = st.multivariate_normal.pdf(\n",
    "                obs.T, mean=self.mu[:, s].T, cov=self.covs[:, :, s].T)\n",
    "        return B\n",
    "    \n",
    "    def _normalize(self, x):\n",
    "        return (x + (x == 0)) / np.sum(x)\n",
    "    \n",
    "    def _stochasticize(self, x):\n",
    "        return (x + (x == 0)) / np.sum(x, axis=1)\n",
    "    \n",
    "    def _em_init(self, obs):\n",
    "        \n",
    "        if self.n_dims is None:\n",
    "            self.n_dims = obs.shape[0]\n",
    "        if self.mu is None:\n",
    "            subset = self.random_state.choice(np.arange(self.n_dims), size=self.n_states, replace=False)\n",
    "            self.mu = obs[:, subset]\n",
    "        if self.covs is None:\n",
    "            self.covs = np.zeros((self.n_dims, self.n_dims, self.n_states))\n",
    "            self.covs += np.diag(np.diag(np.cov(obs)))[:, :, None]\n",
    "        return self\n",
    "    \n",
    "    def _em_step(self, obs): \n",
    "        obs = np.atleast_2d(obs)\n",
    "        B = self._state_likelihood(obs)\n",
    "        T = obs.shape[1]\n",
    "        \n",
    "        log_likelihood, alpha = self._forward(B)\n",
    "        beta = self._backward(B)\n",
    "        \n",
    "        xi_sum = np.zeros((self.n_states, self.n_states))\n",
    "        gamma = np.zeros((self.n_states, T))\n",
    "        \n",
    "        for t in range(T - 1):\n",
    "            partial_sum = self.A * np.dot(alpha[:, t], (beta[:, t] * B[:, t + 1]).T)\n",
    "            xi_sum += self._normalize(partial_sum)\n",
    "            partial_g = alpha[:, t] * beta[:, t]\n",
    "            gamma[:, t] = self._normalize(partial_g)\n",
    "              \n",
    "        partial_g = alpha[:, -1] * beta[:, -1]\n",
    "        gamma[:, -1] = self._normalize(partial_g)\n",
    "        \n",
    "        expected_prior = gamma[:, 0]\n",
    "        expected_A = self._stochasticize(xi_sum)\n",
    "        \n",
    "        expected_mu = np.zeros((self.n_dims, self.n_states))\n",
    "        expected_covs = np.zeros((self.n_dims, self.n_dims, self.n_states))\n",
    "        \n",
    "        gamma_state_sum = np.sum(gamma, axis=1)\n",
    "        #在除法运算之前，将0改为1\n",
    "        gamma_state_sum = gamma_state_sum + (gamma_state_sum == 0)\n",
    "        \n",
    "        for s in range(self.n_states):\n",
    "            gamma_obs = obs * gamma[s, :]\n",
    "            expected_mu[:, s] = np.sum(gamma_obs, axis=1) / gamma_state_sum[s]\n",
    "            partial_covs = np.dot(gamma_obs, obs.T) / gamma_state_sum[s] - np.dot(expected_mu[:, s], expected_mu[:, s].T)\n",
    "            # 对称\n",
    "            partial_covs = np.triu(partial_covs) + np.triu(partial_covs).T - np.diag(partial_covs)\n",
    "        \n",
    "        #加上对角元素以保证半正定\n",
    "        expected_covs += .01 * np.eye(self.n_dims)[:, :, None]\n",
    "        \n",
    "        self.prior = expected_prior\n",
    "        self.mu = expected_mu\n",
    "        self.covs = expected_covs\n",
    "        self.A = expected_A\n",
    "        return log_likelihood\n",
    "    \n",
    "    def fit(self, obs, n_iter=15):\n",
    "        # obj支持2D或者3D数组\n",
    "        # 2D数组的形式为 n_features, n_dims\n",
    "        # 3D数组的形式为 n_examples, n_features, n_dims\n",
    "        # 例如一个语音片段若包含6个特征，并且由105个不同的样本\n",
    "        # 那么这个obj数组为三维，大小为(105,6,X)，其中X为frames的个数\n",
    "        # 对于只包含一个样本的数据obj大小为(6,X)\n",
    "        if len(obs.shape) == 2:\n",
    "            for i in range(n_iter):\n",
    "                self._em_init(obs)\n",
    "                log_likelihood = self._em_step(obs)\n",
    "        elif len(obs.shape) == 3:\n",
    "            count = obs.shape[0]\n",
    "            for n in range(count):\n",
    "                for i in range(n_iter):\n",
    "                    self._em_init(obs[n, :, :])\n",
    "                    log_likelihood = self._em_step(obs[n, :, :])\n",
    "        return self\n",
    "    \n",
    "    def transform(self, obs):\n",
    "        # obj支持2D或者3D数组\n",
    "        # 2D数组的形式为 n_features, n_dims\n",
    "        # 3D数组的形式为 n_examples, n_features, n_dims\n",
    "        # 例如一个语音片段若包含6个特征，并且由105个不同的样本\n",
    "        # 那么这个obj数组为三维，大小为(105,6,X)，其中X为frames的个数\n",
    "        # 对于只包含一个样本的数据obj大小为(6,X)\n",
    "        if len(obs.shape) == 2:\n",
    "            B = self._state_likelihood(obs)\n",
    "            log_likelihood, _ = self._forward(B)\n",
    "            return log_likelihood\n",
    "        elif len(obs.shape) == 3:\n",
    "            count = obs.shape[0]\n",
    "            out = np.zeros((count,))\n",
    "            for n in range(count):\n",
    "                B = self._state_likelihood(obs[n, :, :])\n",
    "                log_likelihood, _ = self._forward(B)\n",
    "                out[n] = log_likelihood\n",
    "            return out"
   ]
  },
  {
   "cell_type": "code",
   "execution_count": 22,
   "id": "42615524",
   "metadata": {},
   "outputs": [
    {
     "name": "stdout",
     "output_type": "stream",
     "text": [
      "Size of training matrix: (84, 6, 216)\n",
      "Size of testing matrix: (21, 6, 216)\n"
     ]
    }
   ],
   "source": [
    "from sklearn.model_selection import train_test_split\n",
    "X_train, X_test, y_train, y_test = train_test_split(all_obs,\n",
    "                                                    all_labels,\n",
    "                                                    train_size=0.8,\n",
    "                                                    test_size=0.2,\n",
    "                                                    random_state =666,\n",
    "                                                    stratify=all_labels)\n",
    "\n",
    "# 由于HMM得到的结果是概率，所以我们需要对特征进行归一化\n",
    "for n,i in enumerate(all_obs):\n",
    "    all_obs[n] /= all_obs[n].sum(axis=0)\n",
    "\n",
    "print('Size of training matrix:', X_train.shape)\n",
    "print('Size of testing matrix:', X_test.shape)"
   ]
  },
  {
   "cell_type": "markdown",
   "id": "04b35636",
   "metadata": {},
   "source": [
    "### 三、结果分析\n",
    "* 效果并不是十分理想"
   ]
  },
  {
   "cell_type": "code",
   "execution_count": 23,
   "id": "29c5fcdb",
   "metadata": {},
   "outputs": [
    {
     "name": "stderr",
     "output_type": "stream",
     "text": [
      "C:\\Users\\EMINEN~1\\AppData\\Local\\Temp/ipykernel_55168/2222903653.py:29: RuntimeWarning: invalid value encountered in true_divide\n",
      "  alpha[:, t] /= alpha_sum\n",
      "C:\\Users\\EMINEN~1\\AppData\\Local\\Temp/ipykernel_55168/2222903653.py:30: RuntimeWarning: divide by zero encountered in log\n",
      "  log_likelihood = log_likelihood + np.log(alpha_sum)\n",
      "C:\\Users\\EMINEN~1\\AppData\\Local\\Temp/ipykernel_55168/2222903653.py:41: RuntimeWarning: invalid value encountered in true_divide\n",
      "  beta[:, t] /= np.sum(beta[:, t])\n"
     ]
    },
    {
     "name": "stdout",
     "output_type": "stream",
     "text": [
      "Test accuracy: 14.29 percent\n"
     ]
    }
   ],
   "source": [
    "ys = set(all_labels)\n",
    "ms = [GmmHmm(6) for y in ys]\n",
    "_ = [m.fit(X_train[y_train == y, :, :]) for m, y in zip(ms, ys)]\n",
    "ps = [m.transform(X_test) for m in ms]\n",
    "res = np.vstack(ps)\n",
    "predicted_labels = np.argmax(res, axis=0)\n",
    "missed = (predicted_labels != y_test)\n",
    "print('Test accuracy: %.2f percent' % (100 * (1 - np.mean(missed))))"
   ]
  }
 ],
 "metadata": {
  "kernelspec": {
   "display_name": "Python [conda env:ML] *",
   "language": "python",
   "name": "conda-env-ML-py"
  },
  "language_info": {
   "codemirror_mode": {
    "name": "ipython",
    "version": 3
   },
   "file_extension": ".py",
   "mimetype": "text/x-python",
   "name": "python",
   "nbconvert_exporter": "python",
   "pygments_lexer": "ipython3",
   "version": "3.8.8"
  }
 },
 "nbformat": 4,
 "nbformat_minor": 5
}
