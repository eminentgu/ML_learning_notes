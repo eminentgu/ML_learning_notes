{
 "cells": [
  {
   "cell_type": "markdown",
   "id": "a721d9d3",
   "metadata": {},
   "source": [
    "# 森林火灾面积预测\n",
    "​\n",
    "#### 顾翔，沈贝宁、那铭心、季诚\n",
    "#### 本题由顾翔负责\n",
    "---\n",
    "## 运行环境\n",
    "* python3\n",
    "* 安装有pandas、scikit-learn、numpy库\n",
    "* 运行软件：Anaconda、jupyter notebook"
   ]
  },
  {
   "cell_type": "markdown",
   "id": "89f24608",
   "metadata": {},
   "source": [
    "### 一、数据处理\n",
    "* 将数据中的年月转化成onehot向量\n",
    "* 将数据集随机抽取数据，分成80%训练集和20%测试集，使用z-score进行标准化"
   ]
  },
  {
   "cell_type": "code",
   "execution_count": 31,
   "id": "4e87d961",
   "metadata": {},
   "outputs": [],
   "source": [
    "import pandas as pd\n",
    "df=pd.read_csv(\"forestfires.csv\")\n",
    "df=pd.get_dummies(df)\n",
    "df.head()\n",
    "\n",
    "from sklearn.model_selection import train_test_split\n",
    "from sklearn import preprocessing\n",
    "train_x,test_x=train_test_split(df,train_size=0.8,random_state=6)\n",
    "train_y=train_x['area']\n",
    "del train_x['area']\n",
    "train_x=train_x.values\n",
    "train_y=preprocessing.scale(train_y.values.reshape(-1, 1))\n",
    "test_y=test_x['area']\n",
    "del test_x['area']\n",
    "test_x=test_x.values\n",
    "test_y=preprocessing.scale(test_y.values.reshape(-1, 1))\n"
   ]
  },
  {
   "cell_type": "markdown",
   "id": "7e36c268",
   "metadata": {},
   "source": [
    "### 二、Lasso\n",
    "* 这里选用了来自scikit-learn的LassoCV库，可以通过交叉验证选择最佳模型"
   ]
  },
  {
   "cell_type": "code",
   "execution_count": 32,
   "id": "500df0f4",
   "metadata": {},
   "outputs": [
    {
     "name": "stderr",
     "output_type": "stream",
     "text": [
      "D:\\anaconda\\envs\\ML\\lib\\site-packages\\sklearn\\linear_model\\_coordinate_descent.py:1572: DataConversionWarning: A column-vector y was passed when a 1d array was expected. Please change the shape of y to (n_samples, ), for example using ravel().\n",
      "  y = column_or_1d(y, warn=True)\n"
     ]
    }
   ],
   "source": [
    "from sklearn.linear_model import LassoCV\n",
    "lasso =LassoCV()\n",
    "lasso.fit(train_x, train_y)\n",
    "pred_y=lasso.predict(test_x)"
   ]
  },
  {
   "cell_type": "markdown",
   "id": "66fe2bd4",
   "metadata": {},
   "source": [
    "### 三、结果展示\n",
    "* 通过交叉验证获得的最佳的lasso系数\n",
    "* 查看哪些特征被lasso选择了\n",
    "* MSE和R2"
   ]
  },
  {
   "cell_type": "code",
   "execution_count": 33,
   "id": "0727de73",
   "metadata": {},
   "outputs": [
    {
     "name": "stdout",
     "output_type": "stream",
     "text": [
      "lasso系数 0.05337596241733042\n",
      "X            0.024937\n",
      "Y            0.000000\n",
      "FFMC        -0.000000\n",
      "DMC          0.000709\n",
      "DC          -0.000003\n",
      "ISI         -0.006660\n",
      "temp         0.011387\n",
      "RH          -0.003529\n",
      "wind         0.006351\n",
      "rain        -0.000000\n",
      "month_apr    0.000000\n",
      "month_aug   -0.000000\n",
      "month_dec    0.000000\n",
      "month_feb    0.000000\n",
      "month_jan    0.000000\n",
      "month_jul    0.000000\n",
      "month_jun   -0.000000\n",
      "month_mar   -0.000000\n",
      "month_may    0.000000\n",
      "month_nov   -0.000000\n",
      "month_oct   -0.000000\n",
      "month_sep    0.000000\n",
      "day_fri     -0.000000\n",
      "day_mon     -0.000000\n",
      "day_sat      0.000000\n",
      "day_sun     -0.000000\n",
      "day_thu      0.000000\n",
      "day_tue     -0.000000\n",
      "day_wed     -0.000000\n",
      "dtype: float64\n",
      "选取了7特征，抛弃了另外的22\n",
      "训练集R2 0.020742502333597312\n",
      "测试集R2 0.022515563852384957\n",
      "MSE 0.977484436147615\n"
     ]
    }
   ],
   "source": [
    "from sklearn.metrics import mean_squared_error\n",
    "print('lasso系数',lasso.alpha_)\n",
    "del df['area']\n",
    "coef=pd.Series(lasso.coef_,index=df.columns)\n",
    "print(coef)\n",
    "print(\"选取了\"+str(sum(coef!=0))+\"特征，抛弃了另外的\"+str(sum(coef == 0)))\n",
    "print('训练集R2',lasso.score(train_x, train_y))\n",
    "print('测试集R2',lasso.score(test_x, test_y))\n",
    "print('MSE',mean_squared_error(test_y,pred_y))"
   ]
  }
 ],
 "metadata": {
  "kernelspec": {
   "display_name": "Python [conda env:ML] *",
   "language": "python",
   "name": "conda-env-ML-py"
  },
  "language_info": {
   "codemirror_mode": {
    "name": "ipython",
    "version": 3
   },
   "file_extension": ".py",
   "mimetype": "text/x-python",
   "name": "python",
   "nbconvert_exporter": "python",
   "pygments_lexer": "ipython3",
   "version": "3.8.8"
  }
 },
 "nbformat": 4,
 "nbformat_minor": 5
}
