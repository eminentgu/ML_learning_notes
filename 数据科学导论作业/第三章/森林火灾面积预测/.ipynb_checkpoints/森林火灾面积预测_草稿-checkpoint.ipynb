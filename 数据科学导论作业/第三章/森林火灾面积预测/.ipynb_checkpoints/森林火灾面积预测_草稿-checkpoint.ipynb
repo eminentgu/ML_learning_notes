{
 "cells": [
  {
   "cell_type": "markdown",
   "id": "9b1aa4a3",
   "metadata": {},
   "source": [
    "# 森林火灾面积预测\n",
    "\n",
    "#### 顾翔，沈贝宁、那铭心、季诚\n",
    "#### 本题由顾翔负责\n",
    "---\n",
    "## 运行环境\n",
    "* python3\n",
    "* 安装有pandas、scikit-learn、numpy库\n",
    "* 运行软件：Anaconda、jupyter notebook"
   ]
  },
  {
   "cell_type": "markdown",
   "id": "f4e58973",
   "metadata": {},
   "source": [
    "### 一、数据处理\n",
    "* 画出area的图标，可以看到大于400的两个点为明显的离群值，删掉\n",
    "* 把起火面积不为0的数据展现出来，观察是否有无关数据，结合常识，排除DAY和MON,其他的只看图没办法排除\n",
    "* 采用留出法，对去掉离群值后的515个样本，取412个（80%）作为训练集，103个（20%）作为测试集"
   ]
  },
  {
   "cell_type": "code",
   "execution_count": 246,
   "id": "6d724b97",
   "metadata": {},
   "outputs": [
    {
     "data": {
      "image/png": "[encoded data removed]",
      "text/plain": [
       "<Figure size 432x288 with 1 Axes>"
      ]
     },
     "metadata": {
      "needs_background": "light"
     },
     "output_type": "display_data"
    }
   ],
   "source": [
    "import pandas as pd\n",
    "import matplotlib.pyplot as plt\n",
    "import numpy as np\n",
    "df=pd.read_csv(\"forestfires.csv\")\n",
    "\n",
    "x=np.ones((517,1))\n",
    "plt.scatter(x,df['area'],color='pink',s=10.)\n",
    "plt.ylabel('area')\n",
    "plt.show()\n",
    "mon=[]\n",
    "for i in range(0,df['area'].values.shape[0]):\n",
    "    if(df['area'][i]>400):\n",
    "        df=df.drop(i)\n",
    "    elif(df['month'][i]=='jan'):\n",
    "        mon.append(1)\n",
    "    elif(df['month'][i]=='feb'):\n",
    "        mon.append(2)\n",
    "    elif(df['month'][i]=='mar'):\n",
    "        mon.append(3)\n",
    "    elif(df['month'][i]=='apr'):\n",
    "        mon.append(4)\n",
    "    elif(df['month'][i]=='may'):\n",
    "        mon.append(5)\n",
    "    elif(df['month'][i]=='jul'):\n",
    "        mon.append(6)\n",
    "    elif(df['month'][i]=='jun'):\n",
    "        mon.append(7)\n",
    "    elif(df['month'][i]=='aug'):\n",
    "        mon.append(8)\n",
    "    elif(df['month'][i]=='sep'):\n",
    "        mon.append(9)\n",
    "    elif(df['month'][i]=='oct'):\n",
    "        mon.append(10)\n",
    "    elif(df['month'][i]=='nov'):\n",
    "        mon.append(11)\n",
    "    elif(df['month'][i]=='dec'):\n",
    "        mon.append(12)\n",
    "    \n",
    "    \n",
    "mon=np.asarray(mon)       \n",
    "df=df.reset_index(drop=True)\n",
    "del df['month']\n",
    "del df['day']\n",
    "df['month']=mon\n",
    "\n",
    "train_x=df[:412]\n",
    "train_y=train_x['area']\n",
    "del train_x['area']\n",
    "train_x=train_x.values\n",
    "train_y=train_y.values\n",
    "\n",
    "test_x=df[412:]\n",
    "test_y=test_x['area']\n",
    "del test_x['area']\n",
    "test_x=test_x.values\n",
    "test_y=test_y.values"
   ]
  },
  {
   "cell_type": "code",
   "execution_count": 247,
   "id": "3b945b03",
   "metadata": {},
   "outputs": [
    {
     "name": "stdout",
     "output_type": "stream",
     "text": [
      "lasso系数 4.729989495629108\n",
      "[ 0.         -0.         -0.          0.07314983 -0.00117712 -0.25137663\n",
      " -0.         -0.07988728 -0.         -0.          0.        ]\n",
      "7.717791551545389\n",
      "Training set score: 0.03\n",
      "Training set score: -0.05\n",
      "0.028246854683667277\n"
     ]
    }
   ],
   "source": [
    "from sklearn.linear_model import LassoCV\n",
    "lasso = LassoCV()\n",
    "lasso.fit(train_x, train_y)\n",
    "\n",
    "print('lasso系数',lasso.alpha_)\n",
    "print(lasso.coef_)\n",
    "print(lasso.intercept_)\n",
    "print(\"Training set score: {:.2f}\".format(lasso.score(train_x, train_y)))\n",
    "print(\"Training set score: {:.2f}\".format(lasso.score(test_x, test_y)))\n",
    "print(lasso.score(train_x, train_y))"
   ]
  },
  {
   "cell_type": "code",
   "execution_count": null,
   "id": "72f54473",
   "metadata": {},
   "outputs": [],
   "source": [
    "import pandas as pd\n",
    "import matplotlib.pyplot as plt\n",
    "import numpy as np\n",
    "df=pd.read_csv(\"forestfires.csv\")\n",
    "\n",
    "x=np.ones((517,1))\n",
    "plt.scatter(x,df['area'],color='pink',s=10.)\n",
    "plt.ylabel('area')\n",
    "plt.show()\n",
    "for i in range(0,df['area'].values.shape[0]):\n",
    "    if(df['area'][i]>400):\n",
    "        df=df.drop(i)\n",
    "df=df.reset_index(drop=True)\n",
    "\n",
    "df_without_zero=df\n",
    "for i in range(0,df_without_zero['area'].values.shape[0]):\n",
    "    if(df_without_zero['area'][i]==0):\n",
    "        df_without_zero=df_without_zero.drop(i)\n",
    "df_without_zero=df_without_zero.reset_index(drop=True)          \n",
    "def draw(name):\n",
    "    plt.scatter(df_without_zero[name],df_without_zero['area'],color='pink',s=10.)\n",
    "    plt.ylabel('area')\n",
    "    plt.xlabel(name)\n",
    "    plt.show()       \n",
    "draw('month')\n",
    "draw('day')\n",
    "draw('FFMC')\n",
    "draw('DMC')\n",
    "draw('DC')\n",
    "draw('ISI')\n",
    "draw('temp')\n",
    "draw('RH')\n",
    "draw('wind')\n",
    "draw('rain')\n",
    "del df['month']\n",
    "del df['day']\n",
    "\n",
    "def minmax(name):\n",
    "    data=(df[name]-df[name].min())/(df[name].max()-df[name].min())\n",
    "    del df[name]\n",
    "    df[name]=data\n",
    "    \n",
    "minmax('FFMC')\n",
    "minmax('DMC')\n",
    "minmax('DC')\n",
    "minmax('ISI')\n",
    "minmax('RH')\n",
    "minmax('wind')\n",
    "minmax('rain')\n",
    "minmax('area')\n",
    "\n",
    "\n",
    "train_x=df[:412]\n",
    "train_y=train_x['area']\n",
    "del train_x['area']\n",
    "train_x=train_x.values\n",
    "train_y=train_y.values\n",
    "\n",
    "test_x=df[412:]\n",
    "test_y=test_x['area']\n",
    "del test_x['area']\n",
    "test_x=test_x.values\n",
    "test_y=test_y.values"
   ]
  },
  {
   "cell_type": "code",
   "execution_count": 226,
   "id": "bef0dbff",
   "metadata": {},
   "outputs": [
    {
     "name": "stdout",
     "output_type": "stream",
     "text": [
      "[3, 10, 10, 3, 3, 8, 8, 8, 8, 3, 10, 3, 4, 7, 8, 8, 8, 10, 10, 10, 3, 6, 8, 8, 6, 3, 3, 8, 8, 8, 8, 10, 2, 2, 3, 3, 8, 8, 8, 8, 3, 3, 3, 8, 2, 2, 3, 8, 8, 8, 8, 8, 8, 8, 3, 8, 3, 8, 8, 8, 2, 3, 8, 8, 8, 8, 8, 1, 3, 3, 8, 3, 3, 3, 3, 3, 3, 3, 8, 8, 8, 10, 3, 10, 10, 2, 3, 3, 3, 8, 6, 8, 8, 6, 8, 8, 3, 8, 7, 6, 6, 8, 8, 8, 3, 8, 3, 3, 8, 8, 3, 8, 8, 8, 8, 8, 4, 8, 8, 10, 2, 10, 8, 3, 3, 3, 3, 8, 8, 8, 8, 4, 3, 2, 10, 3, 8, 10, 8, 3, 3, 3, 3, 8, 3, 6, 10, 8, 8, 8, 4, 4, 4, 8, 8, 8, 8, 8, 8, 8, 8, 8, 8, 8, 8, 8, 8, 8, 8, 8, 8, 8, 8, 8, 8, 8, 8, 8, 8, 8, 8, 8, 8, 8, 9, 12, 9, 12, 9, 12, 9, 12, 9, 12, 9, 12, 9, 12, 9, 12, 9, 12, 2, 2, 2, 6, 6, 6, 6, 6, 6, 6, 6, 6, 6, 7, 7, 7, 7, 7, 7, 7, 7, 7, 5, 6, 8, 8, 8, 8, 3, 1, 6, 8, 8, 8, 8, 8, 3, 8, 8, 2, 3, 2, 2, 8, 8, 7, 7, 8, 8, 8, 2, 6, 2, 2, 6, 8, 8, 8, 6, 3, 8, 8, 8, 8, 6, 8, 8, 8, 8, 8, 8, 8, 8, 8, 8, 6, 8, 8, 8, 8, 4, 6, 8, 8, 3, 8, 8, 8, 8, 8, 8, 6, 8, 8, 8, 8, 8, 8, 2, 2, 2, 3, 3, 3, 4, 4, 5, 7, 7, 7, 7, 6, 6, 6, 6, 6, 6, 8, 8, 8, 8, 8, 8, 8, 8, 8, 8, 8, 8, 8, 8, 8, 8, 8, 8, 8, 8, 8, 8, 8, 8, 8, 8, 8, 8, 8, 8, 8, 8, 8, 8, 11]\n"
     ]
    }
   ],
   "source": [
    "\n",
    "print(mon)"
   ]
  },
  {
   "cell_type": "code",
   "execution_count": null,
   "id": "592c9e6b",
   "metadata": {},
   "outputs": [],
   "source": []
  }
 ],
 "metadata": {
  "kernelspec": {
   "display_name": "Python 3 (ipykernel)",
   "language": "python",
   "name": "python3"
  },
  "language_info": {
   "codemirror_mode": {
    "name": "ipython",
    "version": 3
   },
   "file_extension": ".py",
   "mimetype": "text/x-python",
   "name": "python",
   "nbconvert_exporter": "python",
   "pygments_lexer": "ipython3",
   "version": "3.8.8"
  }
 },
 "nbformat": 4,
 "nbformat_minor": 5
}
