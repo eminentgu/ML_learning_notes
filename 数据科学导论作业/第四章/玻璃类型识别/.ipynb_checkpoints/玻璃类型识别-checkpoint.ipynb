{
 "cells": [
  {
   "cell_type": "markdown",
   "id": "f3466954",
   "metadata": {},
   "source": [
    "# 玻璃类型识别\n",
    "#### 顾翔，沈贝宁、那铭心、季诚\n",
    "#### 本题由顾翔负责\n",
    "---\n",
    "## 运行环境\n",
    "* python3\n",
    "* 安装有pandas、scikit-learn、numpy库\n",
    "* 运行软件：Anaconda、jupyter notebook"
   ]
  },
  {
   "cell_type": "markdown",
   "id": "7dd27731",
   "metadata": {},
   "source": [
    "### 一、数据处理\n",
    "* 数据处理，去掉无关内容id\n",
    "* 将数据集随机抽取数据，分成70%训练集和30%测试集\n",
    "* 经过z-score标准化后的结果反而均下降了，因此不使用标准化"
   ]
  },
  {
   "cell_type": "code",
   "execution_count": 4,
   "id": "d4be5567",
   "metadata": {},
   "outputs": [
    {
     "data": {
      "text/html": [
       "<div>\n",
       "<style scoped>\n",
       "    .dataframe tbody tr th:only-of-type {\n",
       "        vertical-align: middle;\n",
       "    }\n",
       "\n",
       "    .dataframe tbody tr th {\n",
       "        vertical-align: top;\n",
       "    }\n",
       "\n",
       "    .dataframe thead th {\n",
       "        text-align: right;\n",
       "    }\n",
       "</style>\n",
       "<table border=\"1\" class=\"dataframe\">\n",
       "  <thead>\n",
       "    <tr style=\"text-align: right;\">\n",
       "      <th></th>\n",
       "      <th>RI</th>\n",
       "      <th>NA2O</th>\n",
       "      <th>MGO</th>\n",
       "      <th>AL203</th>\n",
       "      <th>SIO2</th>\n",
       "      <th>K2O</th>\n",
       "      <th>CAO</th>\n",
       "      <th>BAO</th>\n",
       "      <th>FE2O3</th>\n",
       "      <th>Type</th>\n",
       "    </tr>\n",
       "  </thead>\n",
       "  <tbody>\n",
       "    <tr>\n",
       "      <th>0</th>\n",
       "      <td>1.51761</td>\n",
       "      <td>13.89</td>\n",
       "      <td>3.60</td>\n",
       "      <td>1.36</td>\n",
       "      <td>72.73</td>\n",
       "      <td>0.48</td>\n",
       "      <td>7.83</td>\n",
       "      <td>0.0</td>\n",
       "      <td>0.00</td>\n",
       "      <td>1</td>\n",
       "    </tr>\n",
       "    <tr>\n",
       "      <th>1</th>\n",
       "      <td>1.51618</td>\n",
       "      <td>13.53</td>\n",
       "      <td>3.55</td>\n",
       "      <td>1.54</td>\n",
       "      <td>72.99</td>\n",
       "      <td>0.39</td>\n",
       "      <td>7.78</td>\n",
       "      <td>0.0</td>\n",
       "      <td>0.00</td>\n",
       "      <td>1</td>\n",
       "    </tr>\n",
       "    <tr>\n",
       "      <th>2</th>\n",
       "      <td>1.51766</td>\n",
       "      <td>13.21</td>\n",
       "      <td>3.69</td>\n",
       "      <td>1.29</td>\n",
       "      <td>72.61</td>\n",
       "      <td>0.57</td>\n",
       "      <td>8.22</td>\n",
       "      <td>0.0</td>\n",
       "      <td>0.00</td>\n",
       "      <td>1</td>\n",
       "    </tr>\n",
       "    <tr>\n",
       "      <th>3</th>\n",
       "      <td>1.51742</td>\n",
       "      <td>13.27</td>\n",
       "      <td>3.62</td>\n",
       "      <td>1.24</td>\n",
       "      <td>73.08</td>\n",
       "      <td>0.55</td>\n",
       "      <td>8.07</td>\n",
       "      <td>0.0</td>\n",
       "      <td>0.00</td>\n",
       "      <td>1</td>\n",
       "    </tr>\n",
       "    <tr>\n",
       "      <th>4</th>\n",
       "      <td>1.51596</td>\n",
       "      <td>12.79</td>\n",
       "      <td>3.61</td>\n",
       "      <td>1.62</td>\n",
       "      <td>72.97</td>\n",
       "      <td>0.64</td>\n",
       "      <td>8.07</td>\n",
       "      <td>0.0</td>\n",
       "      <td>0.26</td>\n",
       "      <td>1</td>\n",
       "    </tr>\n",
       "  </tbody>\n",
       "</table>\n",
       "</div>"
      ],
      "text/plain": [
       "        RI   NA2O   MGO  AL203   SIO2   K2O   CAO  BAO  FE2O3  Type\n",
       "0  1.51761  13.89  3.60   1.36  72.73  0.48  7.83  0.0   0.00     1\n",
       "1  1.51618  13.53  3.55   1.54  72.99  0.39  7.78  0.0   0.00     1\n",
       "2  1.51766  13.21  3.69   1.29  72.61  0.57  8.22  0.0   0.00     1\n",
       "3  1.51742  13.27  3.62   1.24  73.08  0.55  8.07  0.0   0.00     1\n",
       "4  1.51596  12.79  3.61   1.62  72.97  0.64  8.07  0.0   0.26     1"
      ]
     },
     "execution_count": 4,
     "metadata": {},
     "output_type": "execute_result"
    }
   ],
   "source": [
    "import pandas as pd\n",
    "df=pd.read_csv('glass.data')\n",
    "df.columns=['id','RI','NA2O','MGO','AL203','SIO2','K2O','CAO','BAO','FE2O3','Type']\n",
    "del df['id']\n",
    "df.head()"
   ]
  },
  {
   "cell_type": "code",
   "execution_count": 5,
   "id": "82a27e35",
   "metadata": {},
   "outputs": [],
   "source": [
    "from sklearn.model_selection import train_test_split\n",
    "#from sklearn import preprocessing\n",
    "train_x,test_x=train_test_split(df,train_size=0.7,random_state=5)\n",
    "train_y=train_x['Type']\n",
    "del train_x['Type']\n",
    "test_y=test_x['Type']\n",
    "del test_x['Type']\n",
    "#train_x=preprocessing.scale(train_x.values)\n",
    "#test_x=preprocessing.scale(test_x.values)"
   ]
  },
  {
   "cell_type": "markdown",
   "id": "7824311a",
   "metadata": {},
   "source": [
    "### 二、决策树\n",
    "* 这里选用了来自scikit-learn的DecisionTreeClassifier库，不纯度度量方法采用信息熵效果较优于基尼指数\n",
    "* 库参考文档https://scikit-learn.org/stable/modules/generated/sklearn.tree.DecisionTreeClassifier.html"
   ]
  },
  {
   "cell_type": "code",
   "execution_count": 6,
   "id": "c79353ca",
   "metadata": {},
   "outputs": [
    {
     "name": "stdout",
     "output_type": "stream",
     "text": [
      "决策树的正确率： 0.734375\n"
     ]
    }
   ],
   "source": [
    "from sklearn import tree\n",
    "clf=tree.DecisionTreeClassifier(criterion='entropy')\n",
    "clf=clf.fit(train_x,train_y)\n",
    "score=clf.score(test_x, test_y)\n",
    "print('决策树的正确率：',score)"
   ]
  },
  {
   "cell_type": "markdown",
   "id": "f75b06d9",
   "metadata": {},
   "source": [
    "### 三、SVM\n",
    "* 这里选用了来自scikit-learn的svm库\n",
    "* C为惩罚因子，这里进行了粗略的调参，使得模型既不过于欠拟合也不过拟合\n",
    "* 采用了高斯核，在此数据集上的表现比linear更优\n",
    "* 库参考文档https://scikit-learn.org/stable/modules/generated/sklearn.svm.SVC.html"
   ]
  },
  {
   "cell_type": "code",
   "execution_count": 7,
   "id": "0c79bd0b",
   "metadata": {},
   "outputs": [
    {
     "name": "stdout",
     "output_type": "stream",
     "text": [
      "SVM的正确率： 0.75\n"
     ]
    }
   ],
   "source": [
    "import sklearn.svm as svm\n",
    "model=svm.SVC(C=1000000,kernel='rbf')\n",
    "model.fit(train_x,train_y)\n",
    "score=model.score(test_x, test_y)\n",
    "print('SVM的正确率：',score)"
   ]
  },
  {
   "cell_type": "markdown",
   "id": "1d4a5d6e",
   "metadata": {},
   "source": [
    "### 四、随机森林\n",
    "* 所有基评估器都是决策树的Bagging算法，效果理论上优于单个决策树\n",
    "* 库参考文档https://scikit-learn.org/stable/modules/generated/sklearn.ensemble.RandomForestClassifier.html"
   ]
  },
  {
   "cell_type": "code",
   "execution_count": 9,
   "id": "c7ac1344",
   "metadata": {},
   "outputs": [
    {
     "name": "stdout",
     "output_type": "stream",
     "text": [
      "随机森林的正确率： 0.90625\n"
     ]
    }
   ],
   "source": [
    "from sklearn.ensemble import RandomForestClassifier\n",
    "rfc=RandomForestClassifier(random_state=45)\n",
    "rfc.fit(train_x,train_y)\n",
    "score=rfc.score(test_x, test_y)\n",
    "print('随机森林的正确率：',score)"
   ]
  },
  {
   "cell_type": "markdown",
   "id": "1545d784",
   "metadata": {},
   "source": [
    "### 五、结果分析\n",
    "* 模型评估标准采用 $正确率=\\frac{(TP+TN)}{(TN+FN+FP+TP)}$\n",
    "* 由多个决策树组成的集成模型，随机森林效果优于单个决策树，达到了较优的水平，在轻微调参的情况下，随机森林效果优于采用了高斯核的SVM，SVM略优于单个决策树"
   ]
  }
 ],
 "metadata": {
  "kernelspec": {
   "display_name": "Python [conda env:ML] *",
   "language": "python",
   "name": "conda-env-ML-py"
  },
  "language_info": {
   "codemirror_mode": {
    "name": "ipython",
    "version": 3
   },
   "file_extension": ".py",
   "mimetype": "text/x-python",
   "name": "python",
   "nbconvert_exporter": "python",
   "pygments_lexer": "ipython3",
   "version": "3.8.8"
  }
 },
 "nbformat": 4,
 "nbformat_minor": 5
}
