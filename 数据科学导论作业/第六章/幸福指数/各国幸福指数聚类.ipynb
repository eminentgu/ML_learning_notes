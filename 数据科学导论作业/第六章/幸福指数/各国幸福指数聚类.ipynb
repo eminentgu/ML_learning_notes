{
 "cells": [
  {
   "cell_type": "markdown",
   "id": "6d64c7c2",
   "metadata": {},
   "source": [
    "# 各国幸福指数聚类\n",
    "#### 顾翔，沈贝宁、那铭心、季诚\n",
    "#### 本题由顾翔负责\n",
    "---\n",
    "## 运行环境\n",
    "* python3\n",
    "* 安装有pandas、scikit-learn、numpy库\n",
    "* 运行软件：Anaconda、jupyter notebook"
   ]
  },
  {
   "cell_type": "markdown",
   "id": "ec907a64",
   "metadata": {},
   "source": [
    "### 一、数据处理\n",
    "* 读取数据"
   ]
  },
  {
   "cell_type": "code",
   "execution_count": 1,
   "id": "bf22d27f",
   "metadata": {},
   "outputs": [
    {
     "data": {
      "text/html": [
       "<div>\n",
       "<style scoped>\n",
       "    .dataframe tbody tr th:only-of-type {\n",
       "        vertical-align: middle;\n",
       "    }\n",
       "\n",
       "    .dataframe tbody tr th {\n",
       "        vertical-align: top;\n",
       "    }\n",
       "\n",
       "    .dataframe thead th {\n",
       "        text-align: right;\n",
       "    }\n",
       "</style>\n",
       "<table border=\"1\" class=\"dataframe\">\n",
       "  <thead>\n",
       "    <tr style=\"text-align: right;\">\n",
       "      <th></th>\n",
       "      <th>Country</th>\n",
       "      <th>Region</th>\n",
       "      <th>Happiness Rank</th>\n",
       "      <th>Happiness Score</th>\n",
       "      <th>Lower Confidence Interval</th>\n",
       "      <th>Upper Confidence Interval</th>\n",
       "      <th>Economy (GDP per Capita)</th>\n",
       "      <th>Family</th>\n",
       "      <th>Health (Life Expectancy)</th>\n",
       "      <th>Freedom</th>\n",
       "      <th>Trust (Government Corruption)</th>\n",
       "      <th>Generosity</th>\n",
       "      <th>Dystopia Residual</th>\n",
       "    </tr>\n",
       "  </thead>\n",
       "  <tbody>\n",
       "    <tr>\n",
       "      <th>0</th>\n",
       "      <td>Denmark</td>\n",
       "      <td>Western Europe</td>\n",
       "      <td>1</td>\n",
       "      <td>7.526</td>\n",
       "      <td>7.460</td>\n",
       "      <td>7.592</td>\n",
       "      <td>1.44178</td>\n",
       "      <td>1.16374</td>\n",
       "      <td>0.79504</td>\n",
       "      <td>0.57941</td>\n",
       "      <td>0.44453</td>\n",
       "      <td>0.36171</td>\n",
       "      <td>2.73939</td>\n",
       "    </tr>\n",
       "    <tr>\n",
       "      <th>1</th>\n",
       "      <td>Switzerland</td>\n",
       "      <td>Western Europe</td>\n",
       "      <td>2</td>\n",
       "      <td>7.509</td>\n",
       "      <td>7.428</td>\n",
       "      <td>7.590</td>\n",
       "      <td>1.52733</td>\n",
       "      <td>1.14524</td>\n",
       "      <td>0.86303</td>\n",
       "      <td>0.58557</td>\n",
       "      <td>0.41203</td>\n",
       "      <td>0.28083</td>\n",
       "      <td>2.69463</td>\n",
       "    </tr>\n",
       "    <tr>\n",
       "      <th>2</th>\n",
       "      <td>Iceland</td>\n",
       "      <td>Western Europe</td>\n",
       "      <td>3</td>\n",
       "      <td>7.501</td>\n",
       "      <td>7.333</td>\n",
       "      <td>7.669</td>\n",
       "      <td>1.42666</td>\n",
       "      <td>1.18326</td>\n",
       "      <td>0.86733</td>\n",
       "      <td>0.56624</td>\n",
       "      <td>0.14975</td>\n",
       "      <td>0.47678</td>\n",
       "      <td>2.83137</td>\n",
       "    </tr>\n",
       "    <tr>\n",
       "      <th>3</th>\n",
       "      <td>Norway</td>\n",
       "      <td>Western Europe</td>\n",
       "      <td>4</td>\n",
       "      <td>7.498</td>\n",
       "      <td>7.421</td>\n",
       "      <td>7.575</td>\n",
       "      <td>1.57744</td>\n",
       "      <td>1.12690</td>\n",
       "      <td>0.79579</td>\n",
       "      <td>0.59609</td>\n",
       "      <td>0.35776</td>\n",
       "      <td>0.37895</td>\n",
       "      <td>2.66465</td>\n",
       "    </tr>\n",
       "    <tr>\n",
       "      <th>4</th>\n",
       "      <td>Finland</td>\n",
       "      <td>Western Europe</td>\n",
       "      <td>5</td>\n",
       "      <td>7.413</td>\n",
       "      <td>7.351</td>\n",
       "      <td>7.475</td>\n",
       "      <td>1.40598</td>\n",
       "      <td>1.13464</td>\n",
       "      <td>0.81091</td>\n",
       "      <td>0.57104</td>\n",
       "      <td>0.41004</td>\n",
       "      <td>0.25492</td>\n",
       "      <td>2.82596</td>\n",
       "    </tr>\n",
       "  </tbody>\n",
       "</table>\n",
       "</div>"
      ],
      "text/plain": [
       "       Country          Region  Happiness Rank  Happiness Score  \\\n",
       "0      Denmark  Western Europe               1            7.526   \n",
       "1  Switzerland  Western Europe               2            7.509   \n",
       "2      Iceland  Western Europe               3            7.501   \n",
       "3       Norway  Western Europe               4            7.498   \n",
       "4      Finland  Western Europe               5            7.413   \n",
       "\n",
       "   Lower Confidence Interval  Upper Confidence Interval  \\\n",
       "0                      7.460                      7.592   \n",
       "1                      7.428                      7.590   \n",
       "2                      7.333                      7.669   \n",
       "3                      7.421                      7.575   \n",
       "4                      7.351                      7.475   \n",
       "\n",
       "   Economy (GDP per Capita)   Family  Health (Life Expectancy)  Freedom  \\\n",
       "0                   1.44178  1.16374                   0.79504  0.57941   \n",
       "1                   1.52733  1.14524                   0.86303  0.58557   \n",
       "2                   1.42666  1.18326                   0.86733  0.56624   \n",
       "3                   1.57744  1.12690                   0.79579  0.59609   \n",
       "4                   1.40598  1.13464                   0.81091  0.57104   \n",
       "\n",
       "   Trust (Government Corruption)  Generosity  Dystopia Residual  \n",
       "0                        0.44453     0.36171            2.73939  \n",
       "1                        0.41203     0.28083            2.69463  \n",
       "2                        0.14975     0.47678            2.83137  \n",
       "3                        0.35776     0.37895            2.66465  \n",
       "4                        0.41004     0.25492            2.82596  "
      ]
     },
     "execution_count": 1,
     "metadata": {},
     "output_type": "execute_result"
    }
   ],
   "source": [
    "import pandas as pd\n",
    "df=pd.read_csv('2016_world_happiness.csv')\n",
    "df.head()"
   ]
  },
  {
   "cell_type": "markdown",
   "id": "6501a9f4",
   "metadata": {},
   "source": [
    "### 二、聚类\n",
    "* 采用K-means++聚类，在初始化质心的过程中，选择相互距离尽可能远的样本作为初始质心\n",
    "* 采用肘方法确定聚类数k\n",
    "* 将地区转化为了01向量"
   ]
  },
  {
   "cell_type": "code",
   "execution_count": 2,
   "id": "9f54cfb2",
   "metadata": {},
   "outputs": [
    {
     "data": {
      "image/png": "[encoded data removed]",
      "text/plain": [
       "<Figure size 432x288 with 1 Axes>"
      ]
     },
     "metadata": {
      "needs_background": "light"
     },
     "output_type": "display_data"
    }
   ],
   "source": [
    "import numpy as np\n",
    "from sklearn.cluster import KMeans\n",
    "import matplotlib.pyplot as plt\n",
    "from sklearn import cluster\n",
    "\n",
    "data=df.drop('Happiness Rank',axis=1)\n",
    "data=data.drop('Happiness Score',axis=1)\n",
    "data=data.drop('Country',axis=1)\n",
    "data=pd.get_dummies(data)\n",
    "distortions = []\n",
    "for i in range(1,11):\n",
    "    km = KMeans(n_clusters=i,init='k-means++',n_init=10,max_iter=300,random_state=0)\n",
    "    km.fit(data)\n",
    "    distortions.append(km.inertia_)\n",
    "\n",
    "plt.plot(range(1,11), distortions, marker = 'o')\n",
    "plt.xlabel('n_clusters')\n",
    "plt.ylabel('SSE')\n",
    "plt.show()"
   ]
  },
  {
   "cell_type": "markdown",
   "id": "6aa25366",
   "metadata": {},
   "source": [
    "### 三、数据分析 \n",
    "* 根据肘方法，选择k=6较为合适\n",
    "* 查看整体情况"
   ]
  },
  {
   "cell_type": "code",
   "execution_count": 3,
   "id": "a9e41497",
   "metadata": {},
   "outputs": [
    {
     "name": "stdout",
     "output_type": "stream",
     "text": [
      "误差为: 160.25012364724518\n",
      "每个幸福得分分类群的数目为：\n",
      " 0    45\n",
      "4    34\n",
      "5    23\n",
      "1    19\n",
      "3    18\n",
      "2    18\n",
      "dtype: int64\n"
     ]
    }
   ],
   "source": [
    "km = KMeans(n_clusters=6,init='k-means++',n_init=10,max_iter=300,random_state=5)\n",
    "km.fit(data)\n",
    "print('误差为:',km.inertia_)\n",
    "\n",
    "labels = km.labels_\n",
    "subDataDF1=df[[\"Country\"]]\n",
    "pd.DataFrame(labels, index=subDataDF1.Country,columns=['Country ID'])\n",
    "num=pd.Series(labels).value_counts()\n",
    "print('每个幸福得分分类群的数目为：\\n',num)\n",
    "\n",
    "for i in range(0,6):\n",
    "    temp=pd.DataFrame()\n",
    "    temp=temp.append(df[df['Country']=='Norway'])"
   ]
  },
  {
   "cell_type": "markdown",
   "id": "de1708b4",
   "metadata": {},
   "source": [
    "---\n",
    "* 接下来对六个聚类，进行数据统计分析幸福状态与区位条件关系"
   ]
  },
  {
   "cell_type": "code",
   "execution_count": 4,
   "id": "d5a28afb",
   "metadata": {},
   "outputs": [],
   "source": [
    "subDataDF1=df[[\"Country\"]]\n",
    "res=pd.DataFrame(labels, index=subDataDF1.Country,columns=['Country ID'])"
   ]
  },
  {
   "cell_type": "code",
   "execution_count": 5,
   "id": "f1fa5776",
   "metadata": {},
   "outputs": [
    {
     "name": "stdout",
     "output_type": "stream",
     "text": [
      "第一类地区为：\n",
      " Sub-Saharan Africa                 33\n",
      "Central and Eastern Europe          4\n",
      "Southern Asia                       3\n",
      "Southeastern Asia                   2\n",
      "Middle East and Northern Africa     2\n",
      "Latin America and Caribbean         1\n",
      "Name: Region, dtype: int64\n",
      "平均幸福指数排名为：\n",
      " 134.77777777777777\n"
     ]
    }
   ],
   "source": [
    "temp=res[res['Country ID']==0]\n",
    "temp.head()\n",
    "ans=pd.DataFrame()\n",
    "for i in range(temp.shape[0]):\n",
    "    ans=ans.append(df[df['Country']==temp.index.values[i]])\n",
    "print('第一类地区为：\\n',ans['Region'].value_counts())\n",
    "print('平均幸福指数排名为：\\n',ans['Happiness Rank'].mean())"
   ]
  },
  {
   "cell_type": "code",
   "execution_count": 6,
   "id": "5da2c7fb",
   "metadata": {},
   "outputs": [
    {
     "name": "stdout",
     "output_type": "stream",
     "text": [
      "第二类地区为：\n",
      " Latin America and Caribbean    19\n",
      "Name: Region, dtype: int64\n",
      "平均幸福指数排名为：\n",
      " 36.21052631578947\n"
     ]
    }
   ],
   "source": [
    "temp=res[res['Country ID']==1]\n",
    "temp.head()\n",
    "ans=pd.DataFrame()\n",
    "for i in range(temp.shape[0]):\n",
    "    ans=ans.append(df[df['Country']==temp.index.values[i]])\n",
    "print('第二类地区为：\\n',ans['Region'].value_counts())\n",
    "print('平均幸福指数排名为：\\n',ans['Happiness Rank'].mean())"
   ]
  },
  {
   "cell_type": "code",
   "execution_count": 7,
   "id": "c842e420",
   "metadata": {},
   "outputs": [
    {
     "name": "stdout",
     "output_type": "stream",
     "text": [
      "第三类地区为：\n",
      " Middle East and Northern Africa    6\n",
      "Western Europe                     5\n",
      "Southeastern Asia                  3\n",
      "Eastern Asia                       3\n",
      "Central and Eastern Europe         1\n",
      "Name: Region, dtype: int64\n",
      "平均幸福指数排名为：\n",
      " 39.05555555555556\n"
     ]
    }
   ],
   "source": [
    "temp=res[res['Country ID']==2]\n",
    "temp.head()\n",
    "ans=pd.DataFrame()\n",
    "for i in range(temp.shape[0]):\n",
    "    ans=ans.append(df[df['Country']==temp.index.values[i]])\n",
    "print('第三类地区为：\\n',ans['Region'].value_counts())\n",
    "print('平均幸福指数排名为：\\n',ans['Happiness Rank'].mean())"
   ]
  },
  {
   "cell_type": "code",
   "execution_count": 8,
   "id": "7049c483",
   "metadata": {},
   "outputs": [
    {
     "name": "stdout",
     "output_type": "stream",
     "text": [
      "第四类地区为：\n",
      " Western Europe                     13\n",
      "North America                       2\n",
      "Australia and New Zealand           2\n",
      "Middle East and Northern Africa     1\n",
      "Name: Region, dtype: int64\n",
      "平均幸福指数排名为：\n",
      " 10.38888888888889\n"
     ]
    }
   ],
   "source": [
    "temp=res[res['Country ID']==3]\n",
    "temp.head()\n",
    "ans=pd.DataFrame()\n",
    "for i in range(temp.shape[0]):\n",
    "    ans=ans.append(df[df['Country']==temp.index.values[i]])\n",
    "print('第四类地区为：\\n',ans['Region'].value_counts())\n",
    "print('平均幸福指数排名为：\\n',ans['Happiness Rank'].mean())"
   ]
  },
  {
   "cell_type": "code",
   "execution_count": 9,
   "id": "7c059e89",
   "metadata": {},
   "outputs": [
    {
     "name": "stdout",
     "output_type": "stream",
     "text": [
      "第五类地区为：\n",
      " Middle East and Northern Africa    10\n",
      "Sub-Saharan Africa                  5\n",
      "Latin America and Caribbean         4\n",
      "Southeastern Asia                   4\n",
      "Southern Asia                       4\n",
      "Western Europe                      3\n",
      "Eastern Asia                        3\n",
      "Central and Eastern Europe          1\n",
      "Name: Region, dtype: int64\n",
      "平均幸福指数排名为：\n",
      " 91.67647058823529\n"
     ]
    }
   ],
   "source": [
    "temp=res[res['Country ID']==4]\n",
    "temp.head()\n",
    "ans=pd.DataFrame()\n",
    "for i in range(temp.shape[0]):\n",
    "    ans=ans.append(df[df['Country']==temp.index.values[i]])\n",
    "print('第五类地区为：\\n',ans['Region'].value_counts())\n",
    "print('平均幸福指数排名为：\\n',ans['Happiness Rank'].mean())"
   ]
  },
  {
   "cell_type": "code",
   "execution_count": 10,
   "id": "f361dd93",
   "metadata": {},
   "outputs": [
    {
     "name": "stdout",
     "output_type": "stream",
     "text": [
      "第六类地区为：\n",
      " Central and Eastern Europe    23\n",
      "Name: Region, dtype: int64\n",
      "平均幸福指数排名为：\n",
      " 71.30434782608695\n"
     ]
    }
   ],
   "source": [
    "temp=res[res['Country ID']==5]\n",
    "temp.head()\n",
    "ans=pd.DataFrame()\n",
    "for i in range(temp.shape[0]):\n",
    "    ans=ans.append(df[df['Country']==temp.index.values[i]])\n",
    "print('第六类地区为：\\n',ans['Region'].value_counts())\n",
    "print('平均幸福指数排名为：\\n',ans['Happiness Rank'].mean())"
   ]
  },
  {
   "cell_type": "markdown",
   "id": "86e477ca",
   "metadata": {},
   "source": [
    "---\n",
    "* 从结果中不难发现，区位因素与幸福状态是强相关的，撒哈拉以南非洲资源匮乏，环境恶劣，政局动荡，经济落后，最不发达的国家集中于此；西欧北美经济发达，资源雄厚，政治民主，医疗优越，因此生活幸福指数最高国家集中于此。这在逻辑上也十分合理，发达国家/不发达国家有很大程度受到所在区位的气候地质环境水文生态的影响，当地国家的资源、地理位置，直接影响经济政治发展程度，从而影响人们生活幸福指数。"
   ]
  }
 ],
 "metadata": {
  "kernelspec": {
   "display_name": "Python [conda env:ML] *",
   "language": "python",
   "name": "conda-env-ML-py"
  },
  "language_info": {
   "codemirror_mode": {
    "name": "ipython",
    "version": 3
   },
   "file_extension": ".py",
   "mimetype": "text/x-python",
   "name": "python",
   "nbconvert_exporter": "python",
   "pygments_lexer": "ipython3",
   "version": "3.8.8"
  }
 },
 "nbformat": 4,
 "nbformat_minor": 5
}
