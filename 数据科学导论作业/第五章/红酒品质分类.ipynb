{
 "cells": [
  {
   "cell_type": "markdown",
   "id": "367ff278",
   "metadata": {},
   "source": [
    "# 红酒品质分类\n",
    "#### 顾翔，沈贝宁、那铭心、季诚\n",
    "#### 本题由顾翔负责\n",
    "---\n",
    "## 运行环境\n",
    "* python3\n",
    "* 安装有pandas、scikit-learn、numpy库\n",
    "* 运行软件：Anaconda、jupyter notebook"
   ]
  },
  {
   "cell_type": "markdown",
   "id": "03fc826c",
   "metadata": {},
   "source": [
    "### 一、数据处理\n",
    "* 将数据集随机分层抽取数据，分成80%训练集和20%测试集\n",
    "* 经过z-score标准化后的结果并没有提升，因此不使用标准化"
   ]
  },
  {
   "cell_type": "code",
   "execution_count": 1,
   "id": "804e159a",
   "metadata": {},
   "outputs": [
    {
     "data": {
      "text/html": [
       "<div>\n",
       "<style scoped>\n",
       "    .dataframe tbody tr th:only-of-type {\n",
       "        vertical-align: middle;\n",
       "    }\n",
       "\n",
       "    .dataframe tbody tr th {\n",
       "        vertical-align: top;\n",
       "    }\n",
       "\n",
       "    .dataframe thead th {\n",
       "        text-align: right;\n",
       "    }\n",
       "</style>\n",
       "<table border=\"1\" class=\"dataframe\">\n",
       "  <thead>\n",
       "    <tr style=\"text-align: right;\">\n",
       "      <th></th>\n",
       "      <th>fixed acidity</th>\n",
       "      <th>volatile acidity</th>\n",
       "      <th>citric acid</th>\n",
       "      <th>residual sugar</th>\n",
       "      <th>chlorides</th>\n",
       "      <th>free sulfur dioxide</th>\n",
       "      <th>total sulfur dioxide</th>\n",
       "      <th>density</th>\n",
       "      <th>pH</th>\n",
       "      <th>sulphates</th>\n",
       "      <th>alcohol</th>\n",
       "      <th>quality</th>\n",
       "    </tr>\n",
       "  </thead>\n",
       "  <tbody>\n",
       "    <tr>\n",
       "      <th>0</th>\n",
       "      <td>7.4</td>\n",
       "      <td>0.70</td>\n",
       "      <td>0.00</td>\n",
       "      <td>1.9</td>\n",
       "      <td>0.076</td>\n",
       "      <td>11.0</td>\n",
       "      <td>34.0</td>\n",
       "      <td>0.9978</td>\n",
       "      <td>3.51</td>\n",
       "      <td>0.56</td>\n",
       "      <td>9.4</td>\n",
       "      <td>5</td>\n",
       "    </tr>\n",
       "    <tr>\n",
       "      <th>1</th>\n",
       "      <td>7.8</td>\n",
       "      <td>0.88</td>\n",
       "      <td>0.00</td>\n",
       "      <td>2.6</td>\n",
       "      <td>0.098</td>\n",
       "      <td>25.0</td>\n",
       "      <td>67.0</td>\n",
       "      <td>0.9968</td>\n",
       "      <td>3.20</td>\n",
       "      <td>0.68</td>\n",
       "      <td>9.8</td>\n",
       "      <td>5</td>\n",
       "    </tr>\n",
       "    <tr>\n",
       "      <th>2</th>\n",
       "      <td>7.8</td>\n",
       "      <td>0.76</td>\n",
       "      <td>0.04</td>\n",
       "      <td>2.3</td>\n",
       "      <td>0.092</td>\n",
       "      <td>15.0</td>\n",
       "      <td>54.0</td>\n",
       "      <td>0.9970</td>\n",
       "      <td>3.26</td>\n",
       "      <td>0.65</td>\n",
       "      <td>9.8</td>\n",
       "      <td>5</td>\n",
       "    </tr>\n",
       "    <tr>\n",
       "      <th>3</th>\n",
       "      <td>11.2</td>\n",
       "      <td>0.28</td>\n",
       "      <td>0.56</td>\n",
       "      <td>1.9</td>\n",
       "      <td>0.075</td>\n",
       "      <td>17.0</td>\n",
       "      <td>60.0</td>\n",
       "      <td>0.9980</td>\n",
       "      <td>3.16</td>\n",
       "      <td>0.58</td>\n",
       "      <td>9.8</td>\n",
       "      <td>6</td>\n",
       "    </tr>\n",
       "    <tr>\n",
       "      <th>4</th>\n",
       "      <td>7.4</td>\n",
       "      <td>0.70</td>\n",
       "      <td>0.00</td>\n",
       "      <td>1.9</td>\n",
       "      <td>0.076</td>\n",
       "      <td>11.0</td>\n",
       "      <td>34.0</td>\n",
       "      <td>0.9978</td>\n",
       "      <td>3.51</td>\n",
       "      <td>0.56</td>\n",
       "      <td>9.4</td>\n",
       "      <td>5</td>\n",
       "    </tr>\n",
       "  </tbody>\n",
       "</table>\n",
       "</div>"
      ],
      "text/plain": [
       "   fixed acidity  volatile acidity  citric acid  residual sugar  chlorides  \\\n",
       "0            7.4              0.70         0.00             1.9      0.076   \n",
       "1            7.8              0.88         0.00             2.6      0.098   \n",
       "2            7.8              0.76         0.04             2.3      0.092   \n",
       "3           11.2              0.28         0.56             1.9      0.075   \n",
       "4            7.4              0.70         0.00             1.9      0.076   \n",
       "\n",
       "   free sulfur dioxide  total sulfur dioxide  density    pH  sulphates  \\\n",
       "0                 11.0                  34.0   0.9978  3.51       0.56   \n",
       "1                 25.0                  67.0   0.9968  3.20       0.68   \n",
       "2                 15.0                  54.0   0.9970  3.26       0.65   \n",
       "3                 17.0                  60.0   0.9980  3.16       0.58   \n",
       "4                 11.0                  34.0   0.9978  3.51       0.56   \n",
       "\n",
       "   alcohol  quality  \n",
       "0      9.4        5  \n",
       "1      9.8        5  \n",
       "2      9.8        5  \n",
       "3      9.8        6  \n",
       "4      9.4        5  "
      ]
     },
     "execution_count": 1,
     "metadata": {},
     "output_type": "execute_result"
    }
   ],
   "source": [
    "import pandas as pd\n",
    "df=pd.read_csv('winequality-red.csv',sep=';')\n",
    "df.head()"
   ]
  },
  {
   "cell_type": "code",
   "execution_count": 2,
   "id": "5788ae5f",
   "metadata": {},
   "outputs": [],
   "source": [
    "from sklearn.model_selection import train_test_split\n",
    "#from sklearn import preprocessing\n",
    "train_x,test_x=train_test_split(df,test_size=0.2,stratify=df['quality'],random_state=5)\n",
    "train_y=train_x['quality']\n",
    "del train_x['quality']\n",
    "test_y=test_x['quality']\n",
    "del test_x['quality']\n",
    "#train_x=preprocessing.scale(train_x.values)\n",
    "#test_x=preprocessing.scale(test_x.values)"
   ]
  },
  {
   "cell_type": "markdown",
   "id": "b0a24481",
   "metadata": {},
   "source": [
    "### 一、随机森林\n",
    "* 采用了所有基评估器都是决策树的Bagging算法，效果理论上优于单个决策树\n",
    "* 库参考文档https://scikit-learn.org/stable/modules/generated/sklearn.ensemble.RandomForestClassifier.html\n",
    "* 采用网格搜索获取最佳超参数"
   ]
  },
  {
   "cell_type": "code",
   "execution_count": 3,
   "id": "cad84a0b",
   "metadata": {},
   "outputs": [
    {
     "name": "stdout",
     "output_type": "stream",
     "text": [
      "随机森林的正确率： 0.66875\n"
     ]
    }
   ],
   "source": [
    "from sklearn.ensemble import RandomForestClassifier\n",
    "from sklearn.model_selection import GridSearchCV\n",
    "rfc=RandomForestClassifier()\n",
    "grid_values={'n_estimators':[50,100,200],'max_depth':[None,30,15,5],'max_features':['auto','sqrt','log2'],'min_samples_leaf':[1,20,50,100]}\n",
    "grid_rfc=GridSearchCV(rfc,param_grid=grid_values,scoring='accuracy')\n",
    "grid_rfc.fit(train_x,train_y)\n",
    "score=grid_rfc.score(test_x, test_y)\n",
    "print(\"随机森林的正确率：\",score)"
   ]
  },
  {
   "cell_type": "markdown",
   "id": "2dddf7ae",
   "metadata": {},
   "source": [
    "### 二、AdaBoost\n",
    "* AdaBoost:利用同一训练集的不同加权版本，训练一组弱分类器，把弱分类器以加权的形式组合成一个强分类器\n",
    "* 库参考文档 https://scikit-learn.org/stable/modules/generated/sklearn.ensemble.AdaBoostClassifier.html\n",
    "* 采用网格搜索获取最佳超参数"
   ]
  },
  {
   "cell_type": "code",
   "execution_count": 60,
   "id": "0f0af42c",
   "metadata": {},
   "outputs": [
    {
     "name": "stdout",
     "output_type": "stream",
     "text": [
      "AdaBoost正确率： 0.7125\n"
     ]
    }
   ],
   "source": [
    "from sklearn.ensemble import AdaBoostClassifier\n",
    "from sklearn.tree import DecisionTreeClassifier\n",
    "#from sklearn.model_selection import GridSearchCV\n",
    "ada=AdaBoostClassifier(DecisionTreeClassifier(max_depth=10))\n",
    "grid_values={'n_estimators':[50,100,200],'learning_rate':[0.01,0.1,0.2,0.3,0.4,0.5,0.6,0.7,0.8,0.9]}\n",
    "grid_ada=GridSearchCV(ada,param_grid=grid_values,scoring='accuracy')\n",
    "grid_ada.fit(train_x,train_y)\n",
    "score=grid_ada.score(test_x, test_y)\n",
    "print(\"AdaBoost正确率：\",score)"
   ]
  },
  {
   "cell_type": "markdown",
   "id": "63608bd4",
   "metadata": {},
   "source": [
    "### 五、结果分析\n",
    "* 模型评估标准采用 $正确率=\\frac{(TP+TN)}{(TN+FN+FP+TP)}$\n",
    "* 正确率为70%左右，随机森林略弱于AdaBoost，猜测是由于数据可能存在离群值以及无关或有相关性的特征，导致准确率并不高，下一步可以考虑加入lasso进行特征筛选后再进行分类。"
   ]
  }
 ],
 "metadata": {
  "kernelspec": {
   "display_name": "Python [conda env:ML] *",
   "language": "python",
   "name": "conda-env-ML-py"
  },
  "language_info": {
   "codemirror_mode": {
    "name": "ipython",
    "version": 3
   },
   "file_extension": ".py",
   "mimetype": "text/x-python",
   "name": "python",
   "nbconvert_exporter": "python",
   "pygments_lexer": "ipython3",
   "version": "3.8.8"
  }
 },
 "nbformat": 4,
 "nbformat_minor": 5
}
