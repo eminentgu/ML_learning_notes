{
 "cells": [
  {
   "cell_type": "code",
   "execution_count": 25,
   "id": "9d95faf0",
   "metadata": {},
   "outputs": [],
   "source": [
    "# PyTorch\n",
    "import torch\n",
    "import torch.nn as nn\n",
    "from torch.utils.data import Dataset, DataLoader\n",
    "from torch.autograd import Variable\n",
    "\n",
    "# For data preprocess\n",
    "import numpy as np\n",
    "import pandas as pd\n",
    "from pandas import DataFrame\n",
    "\n",
    "\n",
    "# For plotting\n",
    "import matplotlib.pyplot as plt\n",
    "from matplotlib.pyplot import figure\n",
    "plt.rcParams['font.sans-serif']=['SimHei'] #pyplot中文显示\n"
   ]
  },
  {
   "cell_type": "code",
   "execution_count": null,
   "id": "a0d1fc5a",
   "metadata": {},
   "outputs": [],
   "source": [
    "use_gpu = torch.cuda.is_available()"
   ]
  },
  {
   "cell_type": "code",
   "execution_count": 50,
   "id": "d1f38646",
   "metadata": {},
   "outputs": [
    {
     "name": "stdout",
     "output_type": "stream",
     "text": [
      "torch.Size([2839, 1, 20])\n",
      "torch.Size([2839, 1, 20])\n"
     ]
    }
   ],
   "source": [
    "#处理数据\n",
    "\n",
    "time_stamp=20 #十分钟的数据，题目本来要求是利用一小时的数据，但如果用了1h(time_stamp=120),纬度就会不匹配，我不会改\n",
    "train = pd.read_csv('D:/ML/HFenergy/风场1/x26/2018-07-30.csv')  #训练集\n",
    "train=train.dropna()\n",
    "#train=train[['变频器电网侧有功功率', '外界温度', '风向', '风速']]\n",
    "train=train[['风速']]\n",
    "\n",
    "valid= pd.read_csv('D:/ML/HFenergy/风场1/x26/2018-07-31.csv') \n",
    "valid=valid[['风速']]\n",
    "\n",
    "x_train= []\n",
    "y_train= []\n",
    "for i in range(time_stamp, len(train)-21):\n",
    "    x_train.append(train[i-time_stamp:i])\n",
    "    y_train.append(train[i:i+20])\n",
    "x_train = np.array(x_train)\n",
    "y_train = np.array(y_train)\n",
    "x_train_ = x_train\n",
    "y_train_ = y_train\n",
    "\n",
    "x_train = x_train.reshape(-1, 1, 20) #将训练数据调整成pytorch中lstm算法的输入维度\n",
    "y_train = y_train.reshape(-1, 1, 20)  #将目标值调整成pytorch中lstm算法的输出维度\n",
    "x_train = torch.from_numpy(x_train)\n",
    "y_train = torch.from_numpy(y_train)\n",
    "\n",
    "x_valid, y_valid = [], []\n",
    "for i in range(time_stamp, len(valid)-1):\n",
    "    x_valid.append(valid[i - time_stamp:i])\n",
    "    y_valid.append(valid[i:i+1])\n",
    "x_valid = np.array(x_valid)\n",
    "y_valid = np.array(y_valid)\n",
    "\n",
    "\n",
    "print(x_train.shape)\n",
    "print(y_train.shape)\n"
   ]
  },
  {
   "cell_type": "code",
   "execution_count": 27,
   "id": "118106bb",
   "metadata": {},
   "outputs": [],
   "source": [
    "class RNN (nn.Module):\n",
    "    def __init__(self):\n",
    "        super(RNN,self).__init__() \n",
    "        self.lstm = nn.LSTM(20,8,2) \n",
    "        self.out = nn.Linear(8,20) \n",
    "        self.dropout = nn.Dropout(p=0.3)\n",
    "    def forward(self,x):\n",
    "        x1,_ = self.lstm(x)\n",
    "        a,b,c = x1.shape\n",
    "        out = self.out(x1.view(-1,c))#将lstm输出的三维数据x1调整成二维数据，最后的特征维度不能变\n",
    "        out = self.dropout(out)\n",
    "        out1 = out.view(a,b,-1) #把二维的out调整成三维数据，下一次循环使用\n",
    "        return out1\n",
    "rnn = RNN()\n",
    "\n",
    "#参数寻优，计算损失函数\n",
    "optimizer = torch.optim.Adam(rnn.parameters(),lr = 0.02)\n",
    "loss_func = nn.MSELoss()"
   ]
  },
  {
   "cell_type": "code",
   "execution_count": 6,
   "id": "72f7f9cc",
   "metadata": {},
   "outputs": [
    {
     "name": "stdout",
     "output_type": "stream",
     "text": [
      "Epoch:100, Loss:0.00558\n",
      "Epoch:200, Loss:0.00546\n",
      "Epoch:300, Loss:0.00550\n"
     ]
    },
    {
     "ename": "KeyboardInterrupt",
     "evalue": "",
     "output_type": "error",
     "traceback": [
      "\u001b[1;31m---------------------------------------------------------------------------\u001b[0m",
      "\u001b[1;31mKeyboardInterrupt\u001b[0m                         Traceback (most recent call last)",
      "\u001b[1;32mC:\\Users\\EMINEN~1\\AppData\\Local\\Temp/ipykernel_2728/917386997.py\u001b[0m in \u001b[0;36m<module>\u001b[1;34m\u001b[0m\n\u001b[0;32m      4\u001b[0m     \u001b[0mout\u001b[0m \u001b[1;33m=\u001b[0m \u001b[0mrnn\u001b[0m\u001b[1;33m(\u001b[0m\u001b[0mvar_x\u001b[0m\u001b[1;33m)\u001b[0m\u001b[1;33m\u001b[0m\u001b[1;33m\u001b[0m\u001b[0m\n\u001b[0;32m      5\u001b[0m     \u001b[0mloss\u001b[0m \u001b[1;33m=\u001b[0m \u001b[0mloss_func\u001b[0m\u001b[1;33m(\u001b[0m\u001b[0mout\u001b[0m\u001b[1;33m,\u001b[0m\u001b[0mvar_y\u001b[0m\u001b[1;33m)\u001b[0m\u001b[1;33m\u001b[0m\u001b[1;33m\u001b[0m\u001b[0m\n\u001b[1;32m----> 6\u001b[1;33m     \u001b[0moptimizer\u001b[0m\u001b[1;33m.\u001b[0m\u001b[0mzero_grad\u001b[0m\u001b[1;33m(\u001b[0m\u001b[1;33m)\u001b[0m\u001b[1;33m\u001b[0m\u001b[1;33m\u001b[0m\u001b[0m\n\u001b[0m\u001b[0;32m      7\u001b[0m     \u001b[0mloss\u001b[0m\u001b[1;33m.\u001b[0m\u001b[0mbackward\u001b[0m\u001b[1;33m(\u001b[0m\u001b[1;33m)\u001b[0m\u001b[1;33m\u001b[0m\u001b[1;33m\u001b[0m\u001b[0m\n\u001b[0;32m      8\u001b[0m     \u001b[0moptimizer\u001b[0m\u001b[1;33m.\u001b[0m\u001b[0mstep\u001b[0m\u001b[1;33m(\u001b[0m\u001b[1;33m)\u001b[0m\u001b[1;33m\u001b[0m\u001b[1;33m\u001b[0m\u001b[0m\n",
      "\u001b[1;31mKeyboardInterrupt\u001b[0m: "
     ]
    }
   ],
   "source": [
    "for i in range(1000):\n",
    "    var_x = Variable(x_train).type(torch.FloatTensor)\n",
    "    var_y = Variable(y_train).type(torch.FloatTensor)\n",
    "    out = rnn(var_x)\n",
    "    loss = loss_func(out,var_y)\n",
    "    optimizer.zero_grad()\n",
    "    loss.backward()\n",
    "    optimizer.step()\n",
    "    if (i+1)%100==0:\n",
    "        print('Epoch:{}, Loss:{:.5f}'.format(i+1, loss.item()))"
   ]
  },
  {
   "cell_type": "code",
   "execution_count": 64,
   "id": "51334d32",
   "metadata": {},
   "outputs": [
    {
     "data": {
      "text/plain": [
       "<matplotlib.legend.Legend at 0x18615824af0>"
      ]
     },
     "execution_count": 64,
     "metadata": {},
     "output_type": "execute_result"
    },
    {
     "data": {
      "image/png": "[encoded data removed]",
      "text/plain": [
       "<Figure size 432x288 with 1 Axes>"
      ]
     },
     "metadata": {
      "needs_background": "light"
     },
     "output_type": "display_data"
    }
   ],
   "source": [
    "dataX1 = x_train_.reshape(-1,1,20)\n",
    "dataX1=dataX1[:1]\n",
    "dataX2 = torch.from_numpy(dataX1)\n",
    "var_dataX = Variable(dataX2).type(torch.FloatTensor)\n",
    "\n",
    "pred = rnn(var_dataX)\n",
    "\n",
    "pred_test = pred.view(-1).data.numpy()  #转换成一维的ndarray数据，这是预测值\n",
    "\n",
    "y_train2=x_train_.reshape(1,-1)[0]\n",
    "y_train2=y_train2[1000:1050]\n",
    "\n",
    "plt.plot(y_train2, 'grey', label='real')\n",
    "\n",
    "#plt.plot(pred.view(-1).data.numpy(), 'b', label='prediction')\n",
    "\n",
    "plt.legend(loc='best')\n"
   ]
  },
  {
   "cell_type": "code",
   "execution_count": null,
   "id": "ee61095b",
   "metadata": {},
   "outputs": [],
   "source": []
  },
  {
   "cell_type": "code",
   "execution_count": null,
   "id": "25670dd2",
   "metadata": {},
   "outputs": [],
   "source": []
  }
 ],
 "metadata": {
  "kernelspec": {
   "display_name": "Python 3 (ipykernel)",
   "language": "python",
   "name": "python3"
  },
  "language_info": {
   "codemirror_mode": {
    "name": "ipython",
    "version": 3
   },
   "file_extension": ".py",
   "mimetype": "text/x-python",
   "name": "python",
   "nbconvert_exporter": "python",
   "pygments_lexer": "ipython3",
   "version": "3.8.8"
  }
 },
 "nbformat": 4,
 "nbformat_minor": 5
}
