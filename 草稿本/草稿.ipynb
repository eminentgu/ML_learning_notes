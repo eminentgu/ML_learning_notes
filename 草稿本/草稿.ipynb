{
 "cells": [
  {
   "cell_type": "code",
   "execution_count": 4,
   "id": "1850c52a",
   "metadata": {},
   "outputs": [
    {
     "name": "stdout",
     "output_type": "stream",
     "text": [
      "员工编号 薪水 \n",
      "----------------------------------------\n",
      "[1001] $32367\n",
      "[1007] $31299\n",
      "[1018] $44145\n",
      "[1037] $21100\n",
      "\n",
      "[1002] $24388\n",
      "[1012] $42660\n",
      "[1043] $52182\n",
      "[1041] $32196\n",
      "\n",
      "[1003] $27556\n",
      "[1014] $25676\n",
      "[1031] $32769\n",
      "[1046] $25776\n",
      "\n",
      "----------------------------------------\n",
      "\n",
      "请输入要插入其后的员工编号,如输入的编号不在此链表中,\n",
      "新输入的员工节点将视为此链表的链表头部,要结束插入过程，请输入-1:1047\n",
      "请输入新插入的员工编号:-1\n",
      "请输入新插入的员工薪水:123\n",
      "请输入新插入的员工姓名:ewfq\n",
      "\n",
      "请输入要插入其后的员工编号,如输入的编号不在此链表中,\n",
      "新输入的员工节点将视为此链表的链表头部,要结束插入过程，请输入-1:-1\n",
      "\t员工编号 姓名\t薪水\n",
      "\t==========================================\n",
      "\t[-1]\t[ewfq   ]\t[123]\n",
      "\t[1001]\t[Allen  ]\t[32367]\n",
      "\t[1002]\t[Scott  ]\t[24388]\n",
      "\t[1003]\t[Marry  ]\t[27556]\n",
      "\t[1007]\t[John   ]\t[31299]\n",
      "\t[1012]\t[Mark   ]\t[42660]\n",
      "\t[1014]\t[Ricky  ]\t[25676]\n",
      "\t[1018]\t[Lisa   ]\t[44145]\n",
      "\t[1043]\t[Jasica ]\t[52182]\n",
      "\t[1031]\t[Hanson ]\t[32769]\n",
      "\t[1037]\t[Amy    ]\t[21100]\n",
      "\t[1041]\t[Bob    ]\t[32196]\n",
      "\t[1046]\t[Jack   ]\t[25776]\n"
     ]
    }
   ],
   "source": [
    "import sys\n",
    "class employee:\n",
    "    def __init__(self):\n",
    "        self.num=0\n",
    "        self.salary=0\n",
    "        self.name=''\n",
    "        self.next=None\n",
    "\n",
    "def findnode(head,num):\n",
    "    ptr=head\n",
    "\n",
    "    while ptr!=None:\n",
    "        if ptr.num==num:\n",
    "            return ptr\n",
    "        ptr=ptr.next\n",
    "    return ptr\n",
    "\n",
    "def insertnode(head,ptr,num,salary,name):\n",
    "    InsertNode=employee()\n",
    "    if not InsertNode:\n",
    "        return None\n",
    "    InsertNode.num=num\n",
    "    InsertNode.salary=salary\n",
    "    InsertNode.name=name\n",
    "    InsertNode.next=None\n",
    "    if ptr==None:\n",
    "        InsertNode.next=head\n",
    "        return InsertNode\n",
    "    else:\n",
    "        if ptr.next==None:\n",
    "            ptr.next=InsertNode\n",
    "        else:\n",
    "            InsertNode.next=ptr.next\n",
    "            ptr.next=InsertNode\n",
    "        return head\n",
    "\n",
    "position=0\n",
    "data=[[1001,32367],[1002,24388],[1003,27556],[1007,31299],\\\n",
    "[1012,42660],[1014,25676],[1018,44145],[1043,52182],\\\n",
    "[1031,32769],[1037,21100],[1041,32196],[1046,25776]]\n",
    "namedata=['Allen','Scott', 'Marry', 'John', 'Mark', 'Ricky','Lisa', 'Jasica', 'Hanson', 'Amy', 'Bob', 'Jack']\n",
    "print(\"员工编号 薪水 \") \n",
    "print('----------------------------------------')\n",
    "for i in range(3):\n",
    "    for j in range(4):\n",
    "        print('[%4d] $%5d'%(data[j*3+i][0],data[j*3+i][1]),end='') \n",
    "        print()\n",
    "    print()\n",
    "print('----------------------------------------\\n')\n",
    "head=employee() #建立链表的头部 \n",
    "head.next=None\n",
    "\n",
    "if not head:\n",
    "    print('Error!! 内存分配失败!!\\n') \n",
    "    sys.exit(1)\n",
    "head.num=data[0][0] \n",
    "head.name=namedata[0] \n",
    "head.salary=data[0][1] \n",
    "head.next=None \n",
    "ptr=head\n",
    "for i in range(1,12):\n",
    "    newnode=employee() \n",
    "    newnode.next=None\n",
    "    newnode.num=data[i][0] \n",
    "    newnode.name=namedata[i] \n",
    "    newnode.salary=data[i][1] \n",
    "    newnode.next=None \n",
    "    ptr.next=newnode \n",
    "    ptr=ptr.next\n",
    "while(True):\n",
    "    print('请输入要插入其后的员工编号,如输入的编号不在此链表中,')\n",
    "    position=int(input('新输入的员工节点将视为此链表的链表头部,要结束插入过程，请输入-1:'))\n",
    "    if position ==-1:\n",
    "        break \n",
    "    else:\n",
    "        ptr=findnode(head,position)\n",
    "        new_num=int(input('请输入新插入的员工编号:'))\n",
    "        new_salary=int(input('请输入新插入的员工薪水:')) \n",
    "        new_name=input('请输入新插入的员工姓名:')\n",
    "        head=insertnode(head,ptr,new_num,new_salary,new_name) \n",
    "    print()\n",
    "\n",
    "ptr=head\n",
    "print('\\t员工编号 姓名\\t薪水')\n",
    "print('\\t==========================================')\t\n",
    "while ptr!=None:\n",
    "    print('\\t[%2d]\\t[%-7s]\\t[%3d]'%(ptr.num,ptr.name,ptr.salary)) \n",
    "    ptr=ptr.next"
   ]
  },
  {
   "cell_type": "code",
   "execution_count": 3,
   "id": "ec0c8c2f",
   "metadata": {},
   "outputs": [
    {
     "name": "stdout",
     "output_type": "stream",
     "text": [
      "('aa', 74)\n",
      "aa\n"
     ]
    }
   ],
   "source": [
    "dic = {'a':31, 'bc':5, 'c':3, 'asd':4, 'aa':74, 'd':0}\n",
    "dict= sorted(dic.items(), key=lambda d:d[1], reverse = True)\n",
    "print(dict[0])\n",
    "print(dict[0][0])"
   ]
  },
  {
   "cell_type": "code",
   "execution_count": 6,
   "id": "9948984b",
   "metadata": {},
   "outputs": [
    {
     "ename": "TypeError",
     "evalue": "unsupported operand type(s) for +: 'int' and 'str'",
     "output_type": "error",
     "traceback": [
      "\u001b[1;31m---------------------------------------------------------------------------\u001b[0m",
      "\u001b[1;31mTypeError\u001b[0m                                 Traceback (most recent call last)",
      "\u001b[1;32mC:\\Users\\EMINEN~1\\AppData\\Local\\Temp/ipykernel_35180/4186454745.py\u001b[0m in \u001b[0;36m<module>\u001b[1;34m\u001b[0m\n\u001b[1;32m----> 1\u001b[1;33m \u001b[1;36m56\u001b[0m\u001b[1;33m+\u001b[0m\u001b[1;34m'4'\u001b[0m\u001b[1;33m\u001b[0m\u001b[1;33m\u001b[0m\u001b[0m\n\u001b[0m",
      "\u001b[1;31mTypeError\u001b[0m: unsupported operand type(s) for +: 'int' and 'str'"
     ]
    }
   ],
   "source": [
    "56+'4'"
   ]
  },
  {
   "cell_type": "code",
   "execution_count": 1,
   "id": "32b18ad3",
   "metadata": {},
   "outputs": [
    {
     "ename": "NameError",
     "evalue": "name 'e' is not defined",
     "output_type": "error",
     "traceback": [
      "\u001b[1;31m---------------------------------------------------------------------------\u001b[0m",
      "\u001b[1;31mNameError\u001b[0m                                 Traceback (most recent call last)",
      "\u001b[1;32mC:\\Users\\EMINEN~1\\AppData\\Local\\Temp/ipykernel_12204/695686162.py\u001b[0m in \u001b[0;36m<module>\u001b[1;34m\u001b[0m\n\u001b[1;32m----> 1\u001b[1;33m \u001b[0mprint\u001b[0m\u001b[1;33m(\u001b[0m\u001b[0me\u001b[0m\u001b[1;33m)\u001b[0m\u001b[1;33m\u001b[0m\u001b[1;33m\u001b[0m\u001b[0m\n\u001b[0m",
      "\u001b[1;31mNameError\u001b[0m: name 'e' is not defined"
     ]
    }
   ],
   "source": [
    " print(e)"
   ]
  },
  {
   "cell_type": "code",
   "execution_count": 5,
   "id": "e1a31fc6",
   "metadata": {},
   "outputs": [
    {
     "name": "stdout",
     "output_type": "stream",
     "text": [
      "shuru4\n",
      "2.05\n"
     ]
    }
   ],
   "source": [
    "x=int(input(\"shuru\"))\n",
    "y=x\n",
    "m=0\n",
    "while abs(y*y-x)>=1:\n",
    "    z=(y+x/y)/2\n",
    "    y=z\n",
    "    m=y\n",
    "print(m)"
   ]
  },
  {
   "cell_type": "code",
   "execution_count": 10,
   "id": "2324a8fa",
   "metadata": {},
   "outputs": [
    {
     "name": "stdout",
     "output_type": "stream",
     "text": [
      "0.9972993827160493\n",
      "0.5981224279835391\n"
     ]
    }
   ],
   "source": [
    "ans=[]\n",
    "one=0\n",
    "for i1 in range (1,7):\n",
    "    for i2 in range (1,7):\n",
    "        for i3 in range (1,7):\n",
    "            for i4 in range (1,7):\n",
    "                for i5 in range (1,7):\n",
    "                    ans.append(i1+i2+i3+i4+i5)\n",
    "                    if(i1==1 or i2==1 or i3==1 or i4==1 or i5==1):\n",
    "                        one+=1\n",
    "res=0\n",
    "for i in range(len(ans)):\n",
    "    if(ans[i]>7):\n",
    "        res+=1\n",
    "print(res/len(ans))\n",
    "print(one/len(ans))"
   ]
  },
  {
   "cell_type": "code",
   "execution_count": 7,
   "id": "3a61949f",
   "metadata": {},
   "outputs": [
    {
     "name": "stdout",
     "output_type": "stream",
     "text": [
      "2023-01-10T12:16:53.272z,chi yu yu,我是comment,\n"
     ]
    }
   ],
   "source": [
    "s=['2023-01-10T12:16:53.272z','chi yu yu','我是comment']\n",
    "opt=''\n",
    "for i in range(len(s)):\n",
    "    opt=opt+s[i]+','\n",
    "opt[1]\n",
    "print(opt)"
   ]
  },
  {
   "cell_type": "code",
   "execution_count": null,
   "id": "8f8ee700",
   "metadata": {},
   "outputs": [],
   "source": []
  }
 ],
 "metadata": {
  "kernelspec": {
   "display_name": "Python 3 (ipykernel)",
   "language": "python",
   "name": "python3"
  },
  "language_info": {
   "codemirror_mode": {
    "name": "ipython",
    "version": 3
   },
   "file_extension": ".py",
   "mimetype": "text/x-python",
   "name": "python",
   "nbconvert_exporter": "python",
   "pygments_lexer": "ipython3",
   "version": "3.8.8"
  }
 },
 "nbformat": 4,
 "nbformat_minor": 5
}
