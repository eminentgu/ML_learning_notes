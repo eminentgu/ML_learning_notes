{
 "cells": [
  {
   "cell_type": "code",
   "execution_count": null,
   "id": "8da18350",
   "metadata": {},
   "outputs": [],
   "source": [
    "# PyTorch\n",
    "import torch\n",
    "import torch.nn as nn\n",
    "#import functional as F \n",
    "from torch.utils.data import Dataset, DataLoader\n",
    "from torch.autograd import Variable\n",
    "\n",
    "# For data preprocess\n",
    "import numpy as np\n",
    "import pandas as pd\n",
    "from pandas import DataFrame\n",
    "\n",
    "\n",
    "# For plotting\n",
    "import matplotlib.pyplot as plt\n",
    "from matplotlib.pyplot import figure\n",
    "plt.rcParams['font.sans-serif']=['SimHei'] #pyplot中文显示\n"
   ]
  },
  {
   "cell_type": "code",
   "execution_count": 60,
   "id": "6fefaa90",
   "metadata": {},
   "outputs": [
    {
     "data": {
      "text/plain": [
       "'\\n#让我这个大ai来看看有没有什么规律\\n \\ntrain = pd.read_csv(\\'C:/Users/62331/Desktop/ML/机组数据驱动的风电场短期风况预测/风场1/x26/2018-07-30.csv\\')  #训练集\\n#test = pd.read_csv(\\'C:/Users/62331/Desktop/ML/机组数据驱动的风电场短期风况预测/测试集_初赛/风场1/x26/春_01.csv\"\\') # 测试集\\ntrain=train.dropna()#读取数据，丢弃缺失值\\n\\n\\n# 进行画图主体部分\\ntrain.plot(x=\\'time\\') \\n\\n# 设置 x 轴显示密度\\ntick_spacing = 10\\n#train.xaxis.set_major_locator(train.MultipleLocator(tick_spacing))\\n# 设置 x 坐标轴标签的显示内容和大小\\n#plt.xlabel(\\'时间\\', fontsize=14)\\n# 设置 x 坐标轴刻度的旋转方向和大小\\n# rotation: 旋转方向\\nplt.xticks(rotation=90, fontsize=10)\\n\\n#train.head(2000)\\nplt.figure(figsize=(10,8),dpi=900) \\n\\nplt.savefig(\\'C:/Users/62331/Desktop/ML/机组数据驱动的风电场短期风况预测/first.jpg\\')\\nplt.show()\\n\\n#显然没什么规律\\n\\n'"
      ]
     },
     "execution_count": 60,
     "metadata": {},
     "output_type": "execute_result"
    }
   ],
   "source": [
    "'''\n",
    "#让我这个大ai来看看有没有什么规律\n",
    " \n",
    "train = pd.read_csv('C:/Users/62331/Desktop/ML/机组数据驱动的风电场短期风况预测/风场1/x26/2018-07-30.csv')  #训练集\n",
    "#test = pd.read_csv('C:/Users/62331/Desktop/ML/机组数据驱动的风电场短期风况预测/测试集_初赛/风场1/x26/春_01.csv\"') # 测试集\n",
    "train=train.dropna()#读取数据，丢弃缺失值\n",
    "\n",
    "\n",
    "# 进行画图主体部分\n",
    "train.plot(x='time') \n",
    "\n",
    "# 设置 x 轴显示密度\n",
    "tick_spacing = 10\n",
    "#train.xaxis.set_major_locator(train.MultipleLocator(tick_spacing))\n",
    "# 设置 x 坐标轴标签的显示内容和大小\n",
    "#plt.xlabel('时间', fontsize=14)\n",
    "# 设置 x 坐标轴刻度的旋转方向和大小\n",
    "# rotation: 旋转方向\n",
    "plt.xticks(rotation=90, fontsize=10)\n",
    "\n",
    "#train.head(2000)\n",
    "plt.figure(figsize=(10,8),dpi=900) \n",
    "\n",
    "plt.savefig('C:/Users/62331/Desktop/ML/机组数据驱动的风电场短期风况预测/first.jpg')\n",
    "plt.show()\n",
    "\n",
    "#显然没什么规律\n",
    "\n",
    "'''"
   ]
  },
  {
   "cell_type": "code",
   "execution_count": 32,
   "id": "56955f47",
   "metadata": {},
   "outputs": [
    {
     "name": "stdout",
     "output_type": "stream",
     "text": [
      "torch.Size([3440, 1, 2])\n",
      "torch.Size([3440, 1, 1])\n"
     ]
    }
   ],
   "source": [
    "#处理数据\n",
    "time_stamp=2\n",
    "train = pd.read_csv('C:/Users/62331/Desktop/ML/机组数据驱动的风电场短期风况预测/风场1/x26/2018-07-30.csv')  #训练集\n",
    "train_size=int(len(train)*0.7)\n",
    "train=train.dropna()\n",
    "train=train[['变频器电网侧有功功率', '外界温度', '风向', '风速']]\n",
    "#train=train[['风速']]\n",
    "valid = train[len(train)-train_size:]\n",
    "train=train[0:len(train)-train_size]\n",
    "'''\n",
    "temperature = train['外界温度']\n",
    "temperature = np.array(temperature)\n",
    "temperature = torch.unsqueeze(torch.FloatTensor(temperature),dim=1)\n",
    "wind_velocity=train['风速']\n",
    "wind_velocity=np.array(wind_velocity)\n",
    "wind_velocity=torch.unsqueeze(torch.FloatTensor(wind_velocity),dim=1)\n",
    "wind_direction=train['风向']\n",
    "wind_direction=np.array(wind_direction)\n",
    "wind_direction=torch.unsqueeze(torch.FloatTensor(wind_direction),dim=1)\n",
    "#讲真这个数据依我看好像没什么卵用\n",
    "power=train['变频器电网侧有功功率']\n",
    "power=np.array(power)\n",
    "power=torch.unsqueeze(torch.FloatTensor(power),dim=1)\n",
    "'''\n",
    "x_train= []\n",
    "\n",
    "y_train= []\n",
    "\n",
    "for i in range(time_stamp, len(train)-3):\n",
    "    x_train.append(train[i-time_stamp:i])\n",
    "    y_train.append(train[i:i+1])\n",
    "\n",
    "x_train = np.array(x_train)\n",
    "y_train = np.array(y_train)\n",
    "\n",
    "\n",
    "x_valid, y_valid = [], []\n",
    "for i in range(time_stamp, len(valid)-3):\n",
    "    x_valid.append(valid[i - time_stamp:i])\n",
    "    y_valid.append(valid[i:i+1])\n",
    "x_valid = np.array(x_valid)\n",
    "y_valid = np.array(y_valid)\n",
    "\n",
    "x_train = x_train.reshape(-1, 1, 2) #将训练数据调整成pytorch中lstm算法的输入维度\n",
    "y_train = y_train.reshape(-1, 1, 1)  #将目标值调整成pytorch中lstm算法的输出维度\n",
    "\n",
    " #将ndarray数据转换为张量，因为pytorch用的数据类型是张量\n",
    "\n",
    "x_train = torch.from_numpy(x_train)\n",
    "y_train = torch.from_numpy(y_train)\n",
    "\n",
    "\n",
    "\n",
    "'''\n",
    "\n",
    "x_train=torch.unsqueeze(torch.FloatTensor(x_train),dim=1)\n",
    "x_valid=torch.unsqueeze(torch.FloatTensor(x_valid),dim=1)\n",
    "y_train=torch.unsqueeze(torch.FloatTensor(y_train),dim=1)\n",
    "y_valid=torch.unsqueeze(torch.FloatTensor(y_valid),dim=1)\n",
    "\n",
    "'''\n",
    "print(x_train.shape)\n",
    "print(y_train.shape)\n"
   ]
  },
  {
   "cell_type": "code",
   "execution_count": 102,
   "id": "2c26c157",
   "metadata": {},
   "outputs": [
    {
     "data": {
      "text/plain": [
       "\"\\n#Tensorflow\\n# 超参数\\nepochs = 3\\nbatch_size = 16\\n# LSTM 参数: return_sequences=True LSTM输出为一个序列。默认为False，输出一个值。\\n#True可以多层堆叠\\n# input_dim：输入单个样本特征值的维度\\n# input_length：输入的时间点长度\\nmodel = Sequential()\\nmodel.add(LSTM(units=100, return_sequences=True, input_dim=x_train.shape[-1], input_length=x_train.shape[1]))\\nmodel.add(LSTM(units=50))\\nmodel.add(Dense(1))\\nmodel.compile(loss='mean_squared_error', optimizer='adam')\\nmodel.fit(x_train, y_train, epochs=epochs, batch_size=batch_size, verbose=1)\\n\""
      ]
     },
     "execution_count": 102,
     "metadata": {},
     "output_type": "execute_result"
    }
   ],
   "source": [
    "'''\n",
    "#Tensorflow\n",
    "# 超参数\n",
    "epochs = 3\n",
    "batch_size = 16\n",
    "# LSTM 参数: return_sequences=True LSTM输出为一个序列。默认为False，输出一个值。\n",
    "#True可以多层堆叠\n",
    "# input_dim：输入单个样本特征值的维度\n",
    "# input_length：输入的时间点长度\n",
    "model = Sequential()\n",
    "model.add(LSTM(units=100, return_sequences=True, input_dim=x_train.shape[-1], input_length=x_train.shape[1]))\n",
    "model.add(LSTM(units=50))\n",
    "model.add(Dense(1))\n",
    "model.compile(loss='mean_squared_error', optimizer='adam')\n",
    "model.fit(x_train, y_train, epochs=epochs, batch_size=batch_size, verbose=1)\n",
    "'''"
   ]
  },
  {
   "cell_type": "code",
   "execution_count": 35,
   "id": "e4e9cdee",
   "metadata": {},
   "outputs": [
    {
     "name": "stdout",
     "output_type": "stream",
     "text": [
      "Epoch:100, Loss:0.08154\n",
      "Epoch:200, Loss:0.07962\n",
      "Epoch:300, Loss:0.07916\n",
      "Epoch:400, Loss:0.07866\n",
      "Epoch:500, Loss:0.07856\n",
      "Epoch:600, Loss:0.07852\n",
      "Epoch:700, Loss:0.07848\n",
      "Epoch:800, Loss:0.07845\n",
      "Epoch:900, Loss:0.07843\n",
      "Epoch:1000, Loss:0.07841\n"
     ]
    }
   ],
   "source": [
    "class RNN (nn.Module):\n",
    "    def __init__(self):\n",
    "        super(RNN,self).__init__() #面向对象中的继\n",
    "        self.lstm = nn.LSTM(2,6,2) #输入数据2个特征维度，6个隐藏层维度，2个LSTM串联，第二个LSTM接收第一个的计算结果\n",
    "        self.out = nn.Linear(6,1) #线性拟合，接收数据的维度为6，输出数据的维度为1\n",
    "    def forward(self,x):\n",
    "        x1,_ = self.lstm(x)\n",
    "        a,b,c = x1.shape\n",
    "        out = self.out(x1.view(-1,c)) #因为线性层输入的是个二维数据，所以此处应该将lstm输出的三维数据x1调整成二维数据，最后的特征维度不能变\n",
    "        out1 = out.view(a,b,-1) #因为是循环神经网络，最后的时候要把二维的out调整成三维数据，下一次循环使用\n",
    "        return out1\n",
    "rnn = RNN()\n",
    "\n",
    "#参数寻优，计算损失函数\n",
    "\n",
    "optimizer = torch.optim.Adam(rnn.parameters(),lr = 0.02)\n",
    "loss_func = nn.MSELoss()\n",
    "\n",
    " \n",
    "\n",
    " #三、训练模型\n",
    "1\n",
    "for i in range(1000):\n",
    "    var_x = Variable(x_train).type(torch.FloatTensor)\n",
    "    var_y = Variable(y_train).type(torch.FloatTensor)\n",
    "    out = rnn(var_x)\n",
    "    loss = loss_func(out,var_y)\n",
    "    optimizer.zero_grad()\n",
    "    loss.backward()\n",
    "    optimizer.step()\n",
    "    if (i+1)%100==0:\n",
    "        print('Epoch:{}, Loss:{:.5f}'.format(i+1, loss.item()))"
   ]
  },
  {
   "cell_type": "code",
   "execution_count": 36,
   "id": "23b2e11d",
   "metadata": {},
   "outputs": [
    {
     "data": {
      "text/plain": [
       "<matplotlib.legend.Legend at 0x1df46dfda60>"
      ]
     },
     "execution_count": 36,
     "metadata": {},
     "output_type": "execute_result"
    },
    {
     "data": {
      "image/png": "[encoded data removed]",
      "text/plain": [
       "<Figure size 432x288 with 1 Axes>"
      ]
     },
     "metadata": {
      "needs_background": "light"
     },
     "output_type": "display_data"
    }
   ],
   "source": [
    "dataX1 = x_valid.reshape(-1,1,2)\n",
    "dataX2 = torch.from_numpy(dataX1)\n",
    "var_dataX = Variable(dataX2).type(torch.FloatTensor)\n",
    "\n",
    "pred = rnn(var_dataX)\n",
    "\n",
    "pred_test = pred.view(-1).data.numpy()  #转换成一维的ndarray数据，这是预测值\n",
    "\n",
    "y_valid=y_valid.reshape(1,-1)[0]\n",
    "\n",
    "\n",
    " \n",
    "\n",
    "#五、画图检验\n",
    "plt.plot(y_valid, 'grey', label='real')\n",
    "\n",
    "plt.plot(pred.view(-1).data.numpy(), 'b', label='prediction')\n",
    "\n",
    "plt.legend(loc='best')\n",
    "\n"
   ]
  }
 ],
 "metadata": {
  "kernelspec": {
   "display_name": "Python 3 (ipykernel)",
   "language": "python",
   "name": "python3"
  },
  "language_info": {
   "codemirror_mode": {
    "name": "ipython",
    "version": 3
   },
   "file_extension": ".py",
   "mimetype": "text/x-python",
   "name": "python",
   "nbconvert_exporter": "python",
   "pygments_lexer": "ipython3",
   "version": "3.8.8"
  }
 },
 "nbformat": 4,
 "nbformat_minor": 5
}
