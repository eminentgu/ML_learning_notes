{
 "cells": [
  {
   "cell_type": "markdown",
   "id": "3cd00b77",
   "metadata": {},
   "source": [
    "# 1.數據準備"
   ]
  },
  {
   "cell_type": "code",
   "execution_count": 1,
   "id": "32d23dfc",
   "metadata": {},
   "outputs": [],
   "source": [
    "from pandas import read_csv\n",
    "from datetime import datetime"
   ]
  },
  {
   "cell_type": "code",
   "execution_count": 2,
   "id": "a607ed8a",
   "metadata": {},
   "outputs": [],
   "source": [
    "datafile = 'D:/ML/HFenergy/风场1/x26/2018-07-30.csv'\n",
    "dataset = read_csv(datafile,index_col=0)\n",
    "dataset=dataset.dropna()"
   ]
  },
  {
   "cell_type": "code",
   "execution_count": 3,
   "id": "327aa0a1",
   "metadata": {
    "scrolled": true
   },
   "outputs": [
    {
     "data": {
      "text/html": [
       "<div>\n",
       "<style scoped>\n",
       "    .dataframe tbody tr th:only-of-type {\n",
       "        vertical-align: middle;\n",
       "    }\n",
       "\n",
       "    .dataframe tbody tr th {\n",
       "        vertical-align: top;\n",
       "    }\n",
       "\n",
       "    .dataframe thead th {\n",
       "        text-align: right;\n",
       "    }\n",
       "</style>\n",
       "<table border=\"1\" class=\"dataframe\">\n",
       "  <thead>\n",
       "    <tr style=\"text-align: right;\">\n",
       "      <th></th>\n",
       "      <th>变频器电网侧有功功率</th>\n",
       "      <th>外界温度</th>\n",
       "      <th>风向</th>\n",
       "      <th>风速</th>\n",
       "    </tr>\n",
       "    <tr>\n",
       "      <th>time</th>\n",
       "      <th></th>\n",
       "      <th></th>\n",
       "      <th></th>\n",
       "      <th></th>\n",
       "    </tr>\n",
       "  </thead>\n",
       "  <tbody>\n",
       "    <tr>\n",
       "      <th>2018-07-30 00:00:00</th>\n",
       "      <td>0.0</td>\n",
       "      <td>0.74</td>\n",
       "      <td>0.936787</td>\n",
       "      <td>0.040727</td>\n",
       "    </tr>\n",
       "    <tr>\n",
       "      <th>2018-07-30 00:00:30</th>\n",
       "      <td>0.0</td>\n",
       "      <td>0.74</td>\n",
       "      <td>0.932609</td>\n",
       "      <td>0.045691</td>\n",
       "    </tr>\n",
       "    <tr>\n",
       "      <th>2018-07-30 00:01:00</th>\n",
       "      <td>0.0</td>\n",
       "      <td>0.74</td>\n",
       "      <td>0.917778</td>\n",
       "      <td>0.056391</td>\n",
       "    </tr>\n",
       "    <tr>\n",
       "      <th>2018-07-30 00:01:30</th>\n",
       "      <td>0.0</td>\n",
       "      <td>0.74</td>\n",
       "      <td>0.929074</td>\n",
       "      <td>0.056307</td>\n",
       "    </tr>\n",
       "    <tr>\n",
       "      <th>2018-07-30 00:02:00</th>\n",
       "      <td>0.0</td>\n",
       "      <td>0.74</td>\n",
       "      <td>0.947130</td>\n",
       "      <td>0.056892</td>\n",
       "    </tr>\n",
       "  </tbody>\n",
       "</table>\n",
       "</div>"
      ],
      "text/plain": [
       "                     变频器电网侧有功功率  外界温度        风向        风速\n",
       "time                                                     \n",
       "2018-07-30 00:00:00         0.0  0.74  0.936787  0.040727\n",
       "2018-07-30 00:00:30         0.0  0.74  0.932609  0.045691\n",
       "2018-07-30 00:01:00         0.0  0.74  0.917778  0.056391\n",
       "2018-07-30 00:01:30         0.0  0.74  0.929074  0.056307\n",
       "2018-07-30 00:02:00         0.0  0.74  0.947130  0.056892"
      ]
     },
     "execution_count": 3,
     "metadata": {},
     "output_type": "execute_result"
    }
   ],
   "source": [
    "dataset.head()"
   ]
  },
  {
   "cell_type": "code",
   "execution_count": 4,
   "id": "ca6b34bb",
   "metadata": {},
   "outputs": [
    {
     "data": {
      "text/html": [
       "<div>\n",
       "<style scoped>\n",
       "    .dataframe tbody tr th:only-of-type {\n",
       "        vertical-align: middle;\n",
       "    }\n",
       "\n",
       "    .dataframe tbody tr th {\n",
       "        vertical-align: top;\n",
       "    }\n",
       "\n",
       "    .dataframe thead th {\n",
       "        text-align: right;\n",
       "    }\n",
       "</style>\n",
       "<table border=\"1\" class=\"dataframe\">\n",
       "  <thead>\n",
       "    <tr style=\"text-align: right;\">\n",
       "      <th></th>\n",
       "      <th>power</th>\n",
       "      <th>temp</th>\n",
       "      <th>wnd_dir</th>\n",
       "      <th>wnd_spd</th>\n",
       "    </tr>\n",
       "    <tr>\n",
       "      <th>time</th>\n",
       "      <th></th>\n",
       "      <th></th>\n",
       "      <th></th>\n",
       "      <th></th>\n",
       "    </tr>\n",
       "  </thead>\n",
       "  <tbody>\n",
       "    <tr>\n",
       "      <th>2018-07-30 00:00:00</th>\n",
       "      <td>0.0</td>\n",
       "      <td>0.74</td>\n",
       "      <td>0.936787</td>\n",
       "      <td>0.040727</td>\n",
       "    </tr>\n",
       "    <tr>\n",
       "      <th>2018-07-30 00:00:30</th>\n",
       "      <td>0.0</td>\n",
       "      <td>0.74</td>\n",
       "      <td>0.932609</td>\n",
       "      <td>0.045691</td>\n",
       "    </tr>\n",
       "    <tr>\n",
       "      <th>2018-07-30 00:01:00</th>\n",
       "      <td>0.0</td>\n",
       "      <td>0.74</td>\n",
       "      <td>0.917778</td>\n",
       "      <td>0.056391</td>\n",
       "    </tr>\n",
       "    <tr>\n",
       "      <th>2018-07-30 00:01:30</th>\n",
       "      <td>0.0</td>\n",
       "      <td>0.74</td>\n",
       "      <td>0.929074</td>\n",
       "      <td>0.056307</td>\n",
       "    </tr>\n",
       "    <tr>\n",
       "      <th>2018-07-30 00:02:00</th>\n",
       "      <td>0.0</td>\n",
       "      <td>0.74</td>\n",
       "      <td>0.947130</td>\n",
       "      <td>0.056892</td>\n",
       "    </tr>\n",
       "  </tbody>\n",
       "</table>\n",
       "</div>"
      ],
      "text/plain": [
       "                     power  temp   wnd_dir   wnd_spd\n",
       "time                                                \n",
       "2018-07-30 00:00:00    0.0  0.74  0.936787  0.040727\n",
       "2018-07-30 00:00:30    0.0  0.74  0.932609  0.045691\n",
       "2018-07-30 00:01:00    0.0  0.74  0.917778  0.056391\n",
       "2018-07-30 00:01:30    0.0  0.74  0.929074  0.056307\n",
       "2018-07-30 00:02:00    0.0  0.74  0.947130  0.056892"
      ]
     },
     "execution_count": 4,
     "metadata": {},
     "output_type": "execute_result"
    }
   ],
   "source": [
    "#建議使用英文頭\n",
    "dataset.columns = ['power', 'temp', 'wnd_dir', 'wnd_spd']\n",
    "dataset.head()"
   ]
  },
  {
   "cell_type": "code",
   "execution_count": 5,
   "id": "2bba8b59",
   "metadata": {
    "scrolled": true
   },
   "outputs": [
    {
     "data": {
      "text/html": [
       "<div>\n",
       "<style scoped>\n",
       "    .dataframe tbody tr th:only-of-type {\n",
       "        vertical-align: middle;\n",
       "    }\n",
       "\n",
       "    .dataframe tbody tr th {\n",
       "        vertical-align: top;\n",
       "    }\n",
       "\n",
       "    .dataframe thead th {\n",
       "        text-align: right;\n",
       "    }\n",
       "</style>\n",
       "<table border=\"1\" class=\"dataframe\">\n",
       "  <thead>\n",
       "    <tr style=\"text-align: right;\">\n",
       "      <th></th>\n",
       "      <th>power</th>\n",
       "      <th>temp</th>\n",
       "      <th>wnd_dir</th>\n",
       "      <th>wnd_spd</th>\n",
       "    </tr>\n",
       "    <tr>\n",
       "      <th>date</th>\n",
       "      <th></th>\n",
       "      <th></th>\n",
       "      <th></th>\n",
       "      <th></th>\n",
       "    </tr>\n",
       "  </thead>\n",
       "  <tbody>\n",
       "    <tr>\n",
       "      <th>2018-07-30 00:00:00</th>\n",
       "      <td>0.0</td>\n",
       "      <td>0.74</td>\n",
       "      <td>0.936787</td>\n",
       "      <td>0.040727</td>\n",
       "    </tr>\n",
       "    <tr>\n",
       "      <th>2018-07-30 00:00:30</th>\n",
       "      <td>0.0</td>\n",
       "      <td>0.74</td>\n",
       "      <td>0.932609</td>\n",
       "      <td>0.045691</td>\n",
       "    </tr>\n",
       "    <tr>\n",
       "      <th>2018-07-30 00:01:00</th>\n",
       "      <td>0.0</td>\n",
       "      <td>0.74</td>\n",
       "      <td>0.917778</td>\n",
       "      <td>0.056391</td>\n",
       "    </tr>\n",
       "    <tr>\n",
       "      <th>2018-07-30 00:01:30</th>\n",
       "      <td>0.0</td>\n",
       "      <td>0.74</td>\n",
       "      <td>0.929074</td>\n",
       "      <td>0.056307</td>\n",
       "    </tr>\n",
       "    <tr>\n",
       "      <th>2018-07-30 00:02:00</th>\n",
       "      <td>0.0</td>\n",
       "      <td>0.74</td>\n",
       "      <td>0.947130</td>\n",
       "      <td>0.056892</td>\n",
       "    </tr>\n",
       "  </tbody>\n",
       "</table>\n",
       "</div>"
      ],
      "text/plain": [
       "                     power  temp   wnd_dir   wnd_spd\n",
       "date                                                \n",
       "2018-07-30 00:00:00    0.0  0.74  0.936787  0.040727\n",
       "2018-07-30 00:00:30    0.0  0.74  0.932609  0.045691\n",
       "2018-07-30 00:01:00    0.0  0.74  0.917778  0.056391\n",
       "2018-07-30 00:01:30    0.0  0.74  0.929074  0.056307\n",
       "2018-07-30 00:02:00    0.0  0.74  0.947130  0.056892"
      ]
     },
     "execution_count": 5,
     "metadata": {},
     "output_type": "execute_result"
    }
   ],
   "source": [
    "dataset.index.name = 'date'\n",
    "dataset.head()"
   ]
  },
  {
   "cell_type": "markdown",
   "id": "1cef31bf",
   "metadata": {},
   "source": [
    "# 2.展示數據\n",
    "變化，以便觀察並剔除離群值"
   ]
  },
  {
   "cell_type": "code",
   "execution_count": 6,
   "id": "4d9a7922",
   "metadata": {
    "scrolled": true
   },
   "outputs": [
    {
     "data": {
      "image/png": "[encoded data removed]",
      "text/plain": [
       "<Figure size 432x288 with 4 Axes>"
      ]
     },
     "metadata": {
      "needs_background": "light"
     },
     "output_type": "display_data"
    }
   ],
   "source": [
    "from pandas import read_csv\n",
    "from matplotlib import pyplot\n",
    "# load dataset\n",
    "values = dataset.values\n",
    "# specify columns to plot\n",
    "groups = [0, 1, 2, 3]\n",
    "i = 1\n",
    "# plot each column\n",
    "pyplot.figure()\n",
    "for group in groups:\n",
    "\tpyplot.subplot(len(groups), 1, i)\n",
    "\tpyplot.plot(values[:, group])\n",
    "\tpyplot.title(dataset.columns[group], y=0.5, loc='right')\n",
    "\ti += 1\n",
    "pyplot.show()"
   ]
  },
  {
   "cell_type": "markdown",
   "id": "b4d69331",
   "metadata": {},
   "source": [
    "# 3.特徵工程\n",
    "最好做下確認數據的相關性，這裏只有四個特徵就不做了"
   ]
  },
  {
   "cell_type": "code",
   "execution_count": 7,
   "id": "2b5b6da2",
   "metadata": {
    "scrolled": true
   },
   "outputs": [
    {
     "data": {
      "text/html": [
       "<div>\n",
       "<style scoped>\n",
       "    .dataframe tbody tr th:only-of-type {\n",
       "        vertical-align: middle;\n",
       "    }\n",
       "\n",
       "    .dataframe tbody tr th {\n",
       "        vertical-align: top;\n",
       "    }\n",
       "\n",
       "    .dataframe thead th {\n",
       "        text-align: right;\n",
       "    }\n",
       "</style>\n",
       "<table border=\"1\" class=\"dataframe\">\n",
       "  <thead>\n",
       "    <tr style=\"text-align: right;\">\n",
       "      <th></th>\n",
       "      <th>power</th>\n",
       "      <th>temp</th>\n",
       "      <th>wnd_dir</th>\n",
       "      <th>wnd_spd</th>\n",
       "    </tr>\n",
       "    <tr>\n",
       "      <th>date</th>\n",
       "      <th></th>\n",
       "      <th></th>\n",
       "      <th></th>\n",
       "      <th></th>\n",
       "    </tr>\n",
       "  </thead>\n",
       "  <tbody>\n",
       "    <tr>\n",
       "      <th>2018-07-30 00:00:00</th>\n",
       "      <td>0.0</td>\n",
       "      <td>0.74</td>\n",
       "      <td>0.936787</td>\n",
       "      <td>0.040727</td>\n",
       "    </tr>\n",
       "    <tr>\n",
       "      <th>2018-07-30 00:00:30</th>\n",
       "      <td>0.0</td>\n",
       "      <td>0.74</td>\n",
       "      <td>0.932609</td>\n",
       "      <td>0.045691</td>\n",
       "    </tr>\n",
       "    <tr>\n",
       "      <th>2018-07-30 00:01:00</th>\n",
       "      <td>0.0</td>\n",
       "      <td>0.74</td>\n",
       "      <td>0.917778</td>\n",
       "      <td>0.056391</td>\n",
       "    </tr>\n",
       "    <tr>\n",
       "      <th>2018-07-30 00:01:30</th>\n",
       "      <td>0.0</td>\n",
       "      <td>0.74</td>\n",
       "      <td>0.929074</td>\n",
       "      <td>0.056307</td>\n",
       "    </tr>\n",
       "    <tr>\n",
       "      <th>2018-07-30 00:02:00</th>\n",
       "      <td>0.0</td>\n",
       "      <td>0.74</td>\n",
       "      <td>0.947130</td>\n",
       "      <td>0.056892</td>\n",
       "    </tr>\n",
       "  </tbody>\n",
       "</table>\n",
       "</div>"
      ],
      "text/plain": [
       "                     power  temp   wnd_dir   wnd_spd\n",
       "date                                                \n",
       "2018-07-30 00:00:00    0.0  0.74  0.936787  0.040727\n",
       "2018-07-30 00:00:30    0.0  0.74  0.932609  0.045691\n",
       "2018-07-30 00:01:00    0.0  0.74  0.917778  0.056391\n",
       "2018-07-30 00:01:30    0.0  0.74  0.929074  0.056307\n",
       "2018-07-30 00:02:00    0.0  0.74  0.947130  0.056892"
      ]
     },
     "execution_count": 7,
     "metadata": {},
     "output_type": "execute_result"
    }
   ],
   "source": [
    "dataset.head()"
   ]
  },
  {
   "cell_type": "markdown",
   "id": "deea48dc",
   "metadata": {},
   "source": [
    "# 4.多變量數據轉換\n",
    "- 3->1，三组预测一组--可依據訓練效果進行調整\n",
    "- time_stamp：間隔數預設 3\n",
    "- n_features：特徵數 = 4"
   ]
  },
  {
   "cell_type": "code",
   "execution_count": 8,
   "id": "2bda2cb3",
   "metadata": {},
   "outputs": [],
   "source": [
    "from math import sqrt\n",
    "from numpy import concatenate\n",
    "from matplotlib import pyplot\n",
    "from pandas import read_csv\n",
    "from pandas import DataFrame\n",
    "from pandas import concat\n",
    "import pandas as pd\n",
    "from sklearn.preprocessing import MinMaxScaler"
   ]
  },
  {
   "cell_type": "code",
   "execution_count": 9,
   "id": "68caa937",
   "metadata": {},
   "outputs": [],
   "source": [
    "# 标准化/放缩 特征值在（0,1）之间 避免一些噪音影響預測結果\n",
    "scaler = MinMaxScaler(feature_range=(0, 1))\n",
    "scaled = scaler.fit_transform(values)"
   ]
  },
  {
   "cell_type": "code",
   "execution_count": 10,
   "id": "25d0852f",
   "metadata": {},
   "outputs": [
    {
     "data": {
      "text/plain": [
       "array([0.        , 0.12711876, 0.96344214, 0.19299276])"
      ]
     },
     "execution_count": 10,
     "metadata": {},
     "output_type": "execute_result"
    }
   ],
   "source": [
    "scaled[0]"
   ]
  },
  {
   "cell_type": "code",
   "execution_count": 11,
   "id": "a9ee9319",
   "metadata": {},
   "outputs": [
    {
     "data": {
      "text/plain": [
       "4"
      ]
     },
     "execution_count": 11,
     "metadata": {},
     "output_type": "execute_result"
    }
   ],
   "source": [
    "# 用3行数据预测一小时数据，4个特征值\n",
    "time_stamp = 3\n",
    "n_features = 4\n",
    "data = scaled\n",
    "n_out=1\n",
    "#  查看特徵數\n",
    "n_vars = 1 if type(data) is list else data.shape[1]\n",
    "n_vars"
   ]
  },
  {
   "cell_type": "code",
   "execution_count": 12,
   "id": "518b8321",
   "metadata": {
    "scrolled": false
   },
   "outputs": [
    {
     "data": {
      "text/html": [
       "<div>\n",
       "<style scoped>\n",
       "    .dataframe tbody tr th:only-of-type {\n",
       "        vertical-align: middle;\n",
       "    }\n",
       "\n",
       "    .dataframe tbody tr th {\n",
       "        vertical-align: top;\n",
       "    }\n",
       "\n",
       "    .dataframe thead th {\n",
       "        text-align: right;\n",
       "    }\n",
       "</style>\n",
       "<table border=\"1\" class=\"dataframe\">\n",
       "  <thead>\n",
       "    <tr style=\"text-align: right;\">\n",
       "      <th></th>\n",
       "      <th>0</th>\n",
       "      <th>1</th>\n",
       "      <th>2</th>\n",
       "      <th>3</th>\n",
       "    </tr>\n",
       "  </thead>\n",
       "  <tbody>\n",
       "    <tr>\n",
       "      <th>0</th>\n",
       "      <td>0.0</td>\n",
       "      <td>0.127119</td>\n",
       "      <td>0.963442</td>\n",
       "      <td>0.192993</td>\n",
       "    </tr>\n",
       "    <tr>\n",
       "      <th>1</th>\n",
       "      <td>0.0</td>\n",
       "      <td>0.127119</td>\n",
       "      <td>0.958759</td>\n",
       "      <td>0.216518</td>\n",
       "    </tr>\n",
       "    <tr>\n",
       "      <th>2</th>\n",
       "      <td>0.0</td>\n",
       "      <td>0.127119</td>\n",
       "      <td>0.942135</td>\n",
       "      <td>0.267221</td>\n",
       "    </tr>\n",
       "    <tr>\n",
       "      <th>3</th>\n",
       "      <td>0.0</td>\n",
       "      <td>0.127119</td>\n",
       "      <td>0.954797</td>\n",
       "      <td>0.266825</td>\n",
       "    </tr>\n",
       "    <tr>\n",
       "      <th>4</th>\n",
       "      <td>0.0</td>\n",
       "      <td>0.127119</td>\n",
       "      <td>0.975036</td>\n",
       "      <td>0.269596</td>\n",
       "    </tr>\n",
       "  </tbody>\n",
       "</table>\n",
       "</div>"
      ],
      "text/plain": [
       "     0         1         2         3\n",
       "0  0.0  0.127119  0.963442  0.192993\n",
       "1  0.0  0.127119  0.958759  0.216518\n",
       "2  0.0  0.127119  0.942135  0.267221\n",
       "3  0.0  0.127119  0.954797  0.266825\n",
       "4  0.0  0.127119  0.975036  0.269596"
      ]
     },
     "execution_count": 12,
     "metadata": {},
     "output_type": "execute_result"
    }
   ],
   "source": [
    "df = DataFrame(data)\n",
    "df.head()"
   ]
  },
  {
   "cell_type": "code",
   "execution_count": 13,
   "id": "42916fee",
   "metadata": {},
   "outputs": [],
   "source": [
    "cols, names = list(), list()\n",
    "# input sequence (t-n, ... t-1)\n",
    "# 将3组输入数据依次向下移动3，2，1行，将数据加入cols列表（技巧：(time_stamp, 0, -1)中的-1指倒序循环，步长为1）\n",
    "for i in range(time_stamp, 0, -1):\n",
    "    cols.append(df.shift(i))\n",
    "    names += [('features%d(t-%d)' % (j+1, i)) for j in range(n_vars)]"
   ]
  },
  {
   "cell_type": "code",
   "execution_count": 14,
   "id": "76604056",
   "metadata": {},
   "outputs": [
    {
     "data": {
      "text/plain": [
       "3"
      ]
     },
     "execution_count": 14,
     "metadata": {},
     "output_type": "execute_result"
    }
   ],
   "source": [
    "len(cols)"
   ]
  },
  {
   "cell_type": "code",
   "execution_count": 15,
   "id": "0c339e2a",
   "metadata": {
    "scrolled": false
   },
   "outputs": [
    {
     "data": {
      "text/plain": [
       "['features1(t-3)',\n",
       " 'features2(t-3)',\n",
       " 'features3(t-3)',\n",
       " 'features4(t-3)',\n",
       " 'features1(t-2)',\n",
       " 'features2(t-2)',\n",
       " 'features3(t-2)',\n",
       " 'features4(t-2)',\n",
       " 'features1(t-1)',\n",
       " 'features2(t-1)',\n",
       " 'features3(t-1)',\n",
       " 'features4(t-1)']"
      ]
     },
     "execution_count": 15,
     "metadata": {},
     "output_type": "execute_result"
    }
   ],
   "source": [
    "names"
   ]
  },
  {
   "cell_type": "code",
   "execution_count": 16,
   "id": "172bae7d",
   "metadata": {},
   "outputs": [],
   "source": [
    "# forecast sequence (t, t+1, ... t+n)\n",
    "# 将一组输出数据加入cols列表（技巧：其中i=0）\n",
    "for i in range(0, n_out):\n",
    "    cols.append(df.shift(-i))\n",
    "    if i == 0:\n",
    "        names += [('features%d(t)' % (j+1)) for j in range(n_vars)]\n",
    "    else:\n",
    "        names += [('features%d(t+%d)' % (j+1, i)) for j in range(n_vars)]"
   ]
  },
  {
   "cell_type": "code",
   "execution_count": 17,
   "id": "84ae8d9a",
   "metadata": {},
   "outputs": [
    {
     "data": {
      "text/html": [
       "<div>\n",
       "<style scoped>\n",
       "    .dataframe tbody tr th:only-of-type {\n",
       "        vertical-align: middle;\n",
       "    }\n",
       "\n",
       "    .dataframe tbody tr th {\n",
       "        vertical-align: top;\n",
       "    }\n",
       "\n",
       "    .dataframe thead th {\n",
       "        text-align: right;\n",
       "    }\n",
       "</style>\n",
       "<table border=\"1\" class=\"dataframe\">\n",
       "  <thead>\n",
       "    <tr style=\"text-align: right;\">\n",
       "      <th></th>\n",
       "      <th>features1(t-3)</th>\n",
       "      <th>features2(t-3)</th>\n",
       "      <th>features3(t-3)</th>\n",
       "      <th>features4(t-3)</th>\n",
       "      <th>features1(t-2)</th>\n",
       "      <th>features2(t-2)</th>\n",
       "      <th>features3(t-2)</th>\n",
       "      <th>features4(t-2)</th>\n",
       "      <th>features1(t-1)</th>\n",
       "      <th>features2(t-1)</th>\n",
       "      <th>features3(t-1)</th>\n",
       "      <th>features4(t-1)</th>\n",
       "      <th>features1(t)</th>\n",
       "      <th>features2(t)</th>\n",
       "      <th>features3(t)</th>\n",
       "      <th>features4(t)</th>\n",
       "    </tr>\n",
       "  </thead>\n",
       "  <tbody>\n",
       "    <tr>\n",
       "      <th>0</th>\n",
       "      <td>NaN</td>\n",
       "      <td>NaN</td>\n",
       "      <td>NaN</td>\n",
       "      <td>NaN</td>\n",
       "      <td>NaN</td>\n",
       "      <td>NaN</td>\n",
       "      <td>NaN</td>\n",
       "      <td>NaN</td>\n",
       "      <td>NaN</td>\n",
       "      <td>NaN</td>\n",
       "      <td>NaN</td>\n",
       "      <td>NaN</td>\n",
       "      <td>0.0</td>\n",
       "      <td>0.127119</td>\n",
       "      <td>0.963442</td>\n",
       "      <td>0.192993</td>\n",
       "    </tr>\n",
       "    <tr>\n",
       "      <th>1</th>\n",
       "      <td>NaN</td>\n",
       "      <td>NaN</td>\n",
       "      <td>NaN</td>\n",
       "      <td>NaN</td>\n",
       "      <td>NaN</td>\n",
       "      <td>NaN</td>\n",
       "      <td>NaN</td>\n",
       "      <td>NaN</td>\n",
       "      <td>0.0</td>\n",
       "      <td>0.127119</td>\n",
       "      <td>0.963442</td>\n",
       "      <td>0.192993</td>\n",
       "      <td>0.0</td>\n",
       "      <td>0.127119</td>\n",
       "      <td>0.958759</td>\n",
       "      <td>0.216518</td>\n",
       "    </tr>\n",
       "    <tr>\n",
       "      <th>2</th>\n",
       "      <td>NaN</td>\n",
       "      <td>NaN</td>\n",
       "      <td>NaN</td>\n",
       "      <td>NaN</td>\n",
       "      <td>0.0</td>\n",
       "      <td>0.127119</td>\n",
       "      <td>0.963442</td>\n",
       "      <td>0.192993</td>\n",
       "      <td>0.0</td>\n",
       "      <td>0.127119</td>\n",
       "      <td>0.958759</td>\n",
       "      <td>0.216518</td>\n",
       "      <td>0.0</td>\n",
       "      <td>0.127119</td>\n",
       "      <td>0.942135</td>\n",
       "      <td>0.267221</td>\n",
       "    </tr>\n",
       "    <tr>\n",
       "      <th>3</th>\n",
       "      <td>0.0</td>\n",
       "      <td>0.127119</td>\n",
       "      <td>0.963442</td>\n",
       "      <td>0.192993</td>\n",
       "      <td>0.0</td>\n",
       "      <td>0.127119</td>\n",
       "      <td>0.958759</td>\n",
       "      <td>0.216518</td>\n",
       "      <td>0.0</td>\n",
       "      <td>0.127119</td>\n",
       "      <td>0.942135</td>\n",
       "      <td>0.267221</td>\n",
       "      <td>0.0</td>\n",
       "      <td>0.127119</td>\n",
       "      <td>0.954797</td>\n",
       "      <td>0.266825</td>\n",
       "    </tr>\n",
       "    <tr>\n",
       "      <th>4</th>\n",
       "      <td>0.0</td>\n",
       "      <td>0.127119</td>\n",
       "      <td>0.958759</td>\n",
       "      <td>0.216518</td>\n",
       "      <td>0.0</td>\n",
       "      <td>0.127119</td>\n",
       "      <td>0.942135</td>\n",
       "      <td>0.267221</td>\n",
       "      <td>0.0</td>\n",
       "      <td>0.127119</td>\n",
       "      <td>0.954797</td>\n",
       "      <td>0.266825</td>\n",
       "      <td>0.0</td>\n",
       "      <td>0.127119</td>\n",
       "      <td>0.975036</td>\n",
       "      <td>0.269596</td>\n",
       "    </tr>\n",
       "  </tbody>\n",
       "</table>\n",
       "</div>"
      ],
      "text/plain": [
       "   features1(t-3)  features2(t-3)  features3(t-3)  features4(t-3)  \\\n",
       "0             NaN             NaN             NaN             NaN   \n",
       "1             NaN             NaN             NaN             NaN   \n",
       "2             NaN             NaN             NaN             NaN   \n",
       "3             0.0        0.127119        0.963442        0.192993   \n",
       "4             0.0        0.127119        0.958759        0.216518   \n",
       "\n",
       "   features1(t-2)  features2(t-2)  features3(t-2)  features4(t-2)  \\\n",
       "0             NaN             NaN             NaN             NaN   \n",
       "1             NaN             NaN             NaN             NaN   \n",
       "2             0.0        0.127119        0.963442        0.192993   \n",
       "3             0.0        0.127119        0.958759        0.216518   \n",
       "4             0.0        0.127119        0.942135        0.267221   \n",
       "\n",
       "   features1(t-1)  features2(t-1)  features3(t-1)  features4(t-1)  \\\n",
       "0             NaN             NaN             NaN             NaN   \n",
       "1             0.0        0.127119        0.963442        0.192993   \n",
       "2             0.0        0.127119        0.958759        0.216518   \n",
       "3             0.0        0.127119        0.942135        0.267221   \n",
       "4             0.0        0.127119        0.954797        0.266825   \n",
       "\n",
       "   features1(t)  features2(t)  features3(t)  features4(t)  \n",
       "0           0.0      0.127119      0.963442      0.192993  \n",
       "1           0.0      0.127119      0.958759      0.216518  \n",
       "2           0.0      0.127119      0.942135      0.267221  \n",
       "3           0.0      0.127119      0.954797      0.266825  \n",
       "4           0.0      0.127119      0.975036      0.269596  "
      ]
     },
     "execution_count": 17,
     "metadata": {},
     "output_type": "execute_result"
    }
   ],
   "source": [
    "# cols列表(list)中现在有四块经过下移后的数据(即：df(-3),df(-2),df(-1),df)，将四块数据按列 并排合并\n",
    "reframed = concat(cols, axis=1)\n",
    "# 给合并后的数据添加列名\n",
    "reframed.columns = names\n",
    "reframed.head()"
   ]
  },
  {
   "cell_type": "code",
   "execution_count": 18,
   "id": "ab577be9",
   "metadata": {},
   "outputs": [
    {
     "name": "stdout",
     "output_type": "stream",
     "text": [
      "(2877, 16)\n"
     ]
    }
   ],
   "source": [
    "# 删除NaN值列\n",
    "reframed.dropna(inplace=True)\n",
    "print(reframed.shape)"
   ]
  },
  {
   "cell_type": "code",
   "execution_count": 19,
   "id": "48b966c6",
   "metadata": {},
   "outputs": [
    {
     "data": {
      "text/html": [
       "<div>\n",
       "<style scoped>\n",
       "    .dataframe tbody tr th:only-of-type {\n",
       "        vertical-align: middle;\n",
       "    }\n",
       "\n",
       "    .dataframe tbody tr th {\n",
       "        vertical-align: top;\n",
       "    }\n",
       "\n",
       "    .dataframe thead th {\n",
       "        text-align: right;\n",
       "    }\n",
       "</style>\n",
       "<table border=\"1\" class=\"dataframe\">\n",
       "  <thead>\n",
       "    <tr style=\"text-align: right;\">\n",
       "      <th></th>\n",
       "      <th>features1(t-3)</th>\n",
       "      <th>features2(t-3)</th>\n",
       "      <th>features3(t-3)</th>\n",
       "      <th>features4(t-3)</th>\n",
       "      <th>features1(t-2)</th>\n",
       "      <th>features2(t-2)</th>\n",
       "      <th>features3(t-2)</th>\n",
       "      <th>features4(t-2)</th>\n",
       "      <th>features1(t-1)</th>\n",
       "      <th>features2(t-1)</th>\n",
       "      <th>features3(t-1)</th>\n",
       "      <th>features4(t-1)</th>\n",
       "      <th>features1(t)</th>\n",
       "      <th>features2(t)</th>\n",
       "      <th>features3(t)</th>\n",
       "      <th>features4(t)</th>\n",
       "    </tr>\n",
       "  </thead>\n",
       "  <tbody>\n",
       "    <tr>\n",
       "      <th>3</th>\n",
       "      <td>0.0</td>\n",
       "      <td>0.127119</td>\n",
       "      <td>0.963442</td>\n",
       "      <td>0.192993</td>\n",
       "      <td>0.0</td>\n",
       "      <td>0.127119</td>\n",
       "      <td>0.958759</td>\n",
       "      <td>0.216518</td>\n",
       "      <td>0.0</td>\n",
       "      <td>0.127119</td>\n",
       "      <td>0.942135</td>\n",
       "      <td>0.267221</td>\n",
       "      <td>0.0</td>\n",
       "      <td>0.127119</td>\n",
       "      <td>0.954797</td>\n",
       "      <td>0.266825</td>\n",
       "    </tr>\n",
       "    <tr>\n",
       "      <th>4</th>\n",
       "      <td>0.0</td>\n",
       "      <td>0.127119</td>\n",
       "      <td>0.958759</td>\n",
       "      <td>0.216518</td>\n",
       "      <td>0.0</td>\n",
       "      <td>0.127119</td>\n",
       "      <td>0.942135</td>\n",
       "      <td>0.267221</td>\n",
       "      <td>0.0</td>\n",
       "      <td>0.127119</td>\n",
       "      <td>0.954797</td>\n",
       "      <td>0.266825</td>\n",
       "      <td>0.0</td>\n",
       "      <td>0.127119</td>\n",
       "      <td>0.975036</td>\n",
       "      <td>0.269596</td>\n",
       "    </tr>\n",
       "    <tr>\n",
       "      <th>5</th>\n",
       "      <td>0.0</td>\n",
       "      <td>0.127119</td>\n",
       "      <td>0.942135</td>\n",
       "      <td>0.267221</td>\n",
       "      <td>0.0</td>\n",
       "      <td>0.127119</td>\n",
       "      <td>0.954797</td>\n",
       "      <td>0.266825</td>\n",
       "      <td>0.0</td>\n",
       "      <td>0.127119</td>\n",
       "      <td>0.975036</td>\n",
       "      <td>0.269596</td>\n",
       "      <td>0.0</td>\n",
       "      <td>0.135594</td>\n",
       "      <td>0.989773</td>\n",
       "      <td>0.247823</td>\n",
       "    </tr>\n",
       "    <tr>\n",
       "      <th>6</th>\n",
       "      <td>0.0</td>\n",
       "      <td>0.127119</td>\n",
       "      <td>0.954797</td>\n",
       "      <td>0.266825</td>\n",
       "      <td>0.0</td>\n",
       "      <td>0.127119</td>\n",
       "      <td>0.975036</td>\n",
       "      <td>0.269596</td>\n",
       "      <td>0.0</td>\n",
       "      <td>0.135594</td>\n",
       "      <td>0.989773</td>\n",
       "      <td>0.247823</td>\n",
       "      <td>0.0</td>\n",
       "      <td>0.127119</td>\n",
       "      <td>0.988735</td>\n",
       "      <td>0.241093</td>\n",
       "    </tr>\n",
       "    <tr>\n",
       "      <th>7</th>\n",
       "      <td>0.0</td>\n",
       "      <td>0.127119</td>\n",
       "      <td>0.975036</td>\n",
       "      <td>0.269596</td>\n",
       "      <td>0.0</td>\n",
       "      <td>0.135594</td>\n",
       "      <td>0.989773</td>\n",
       "      <td>0.247823</td>\n",
       "      <td>0.0</td>\n",
       "      <td>0.127119</td>\n",
       "      <td>0.988735</td>\n",
       "      <td>0.241093</td>\n",
       "      <td>0.0</td>\n",
       "      <td>0.127119</td>\n",
       "      <td>0.968497</td>\n",
       "      <td>0.223278</td>\n",
       "    </tr>\n",
       "  </tbody>\n",
       "</table>\n",
       "</div>"
      ],
      "text/plain": [
       "   features1(t-3)  features2(t-3)  features3(t-3)  features4(t-3)  \\\n",
       "3             0.0        0.127119        0.963442        0.192993   \n",
       "4             0.0        0.127119        0.958759        0.216518   \n",
       "5             0.0        0.127119        0.942135        0.267221   \n",
       "6             0.0        0.127119        0.954797        0.266825   \n",
       "7             0.0        0.127119        0.975036        0.269596   \n",
       "\n",
       "   features1(t-2)  features2(t-2)  features3(t-2)  features4(t-2)  \\\n",
       "3             0.0        0.127119        0.958759        0.216518   \n",
       "4             0.0        0.127119        0.942135        0.267221   \n",
       "5             0.0        0.127119        0.954797        0.266825   \n",
       "6             0.0        0.127119        0.975036        0.269596   \n",
       "7             0.0        0.135594        0.989773        0.247823   \n",
       "\n",
       "   features1(t-1)  features2(t-1)  features3(t-1)  features4(t-1)  \\\n",
       "3             0.0        0.127119        0.942135        0.267221   \n",
       "4             0.0        0.127119        0.954797        0.266825   \n",
       "5             0.0        0.127119        0.975036        0.269596   \n",
       "6             0.0        0.135594        0.989773        0.247823   \n",
       "7             0.0        0.127119        0.988735        0.241093   \n",
       "\n",
       "   features1(t)  features2(t)  features3(t)  features4(t)  \n",
       "3           0.0      0.127119      0.954797      0.266825  \n",
       "4           0.0      0.127119      0.975036      0.269596  \n",
       "5           0.0      0.135594      0.989773      0.247823  \n",
       "6           0.0      0.127119      0.988735      0.241093  \n",
       "7           0.0      0.127119      0.968497      0.223278  "
      ]
     },
     "execution_count": 19,
     "metadata": {},
     "output_type": "execute_result"
    }
   ],
   "source": [
    "reframed.head()"
   ]
  },
  {
   "cell_type": "markdown",
   "id": "6c27ed83",
   "metadata": {},
   "source": [
    "# 5.數據集準備\n",
    "- 訓練數據 80% 約 2200筆\n",
    "- 測試集 2877-2200"
   ]
  },
  {
   "cell_type": "code",
   "execution_count": 20,
   "id": "26dbada2",
   "metadata": {},
   "outputs": [
    {
     "name": "stdout",
     "output_type": "stream",
     "text": [
      "(2200, 12) 2200 (2200,)\n"
     ]
    }
   ],
   "source": [
    "# split into train and test sets\n",
    "values = reframed.values\n",
    "# 2200比數據訓練\n",
    "n_train_hours = 2200\n",
    "train = values[:n_train_hours, :]\n",
    "test = values[n_train_hours:, :]\n",
    "# split into input and outputs\n",
    "n_obs = time_stamp * n_features\n",
    "# 有16=(4*4)列数据，取前12=(3*4) 列作为X，倒数第1列=(第16列)作为Y\n",
    "train_X, train_y = train[:, :n_obs], train[:, -1]\n",
    "test_X, test_y = test[:, :n_obs], test[:, -1]\n",
    "print(train_X.shape, len(train_X), train_y.shape)\n"
   ]
  },
  {
   "cell_type": "code",
   "execution_count": 21,
   "id": "3f91243d",
   "metadata": {
    "scrolled": false
   },
   "outputs": [
    {
     "name": "stdout",
     "output_type": "stream",
     "text": [
      "(2200, 3, 4) (2200,) (677, 3, 4) (677,)\n"
     ]
    }
   ],
   "source": [
    "# 将数据转换为3D输入，timesteps=3，3条数据预测1条 [samples, timesteps, features]\n",
    "train_X = train_X.reshape((train_X.shape[0], time_stamp, n_features))\n",
    "test_X = test_X.reshape((test_X.shape[0], time_stamp, n_features))\n",
    "print(train_X.shape, train_y.shape, test_X.shape, test_y.shape)\n"
   ]
  },
  {
   "cell_type": "markdown",
   "id": "10877b75",
   "metadata": {},
   "source": [
    "# 6.模型構造\n",
    "- tf\n",
    "- pytorch"
   ]
  },
  {
   "cell_type": "markdown",
   "id": "66b0ebc3",
   "metadata": {},
   "source": [
    "## 6.2 pytorch网络"
   ]
  },
  {
   "cell_type": "code",
   "execution_count": 22,
   "id": "f7c9a80e",
   "metadata": {
    "scrolled": true
   },
   "outputs": [],
   "source": [
    "# PyTorch\n",
    "import torch\n",
    "import torch.nn as nn\n",
    "from torch.utils.data import Dataset, DataLoader\n",
    "from torch.autograd import Variable"
   ]
  },
  {
   "cell_type": "code",
   "execution_count": 23,
   "id": "242094a9",
   "metadata": {},
   "outputs": [
    {
     "name": "stdout",
     "output_type": "stream",
     "text": [
      "(2200, 3, 4) (2200,)\n"
     ]
    }
   ],
   "source": [
    "print(train_X.shape,train_y.shape)"
   ]
  },
  {
   "cell_type": "code",
   "execution_count": 24,
   "id": "1b8dcae7",
   "metadata": {},
   "outputs": [],
   "source": [
    "#reshape输入为LSTM的输入格式 reshape input to be 3D [samples, timesteps, features]\n",
    "# x_train = x_train.reshape((train_X.shape[0], time_stamp, train.shape[1]-1)) #将训练数据调整成pytorch中lstm算法的输入维度\n",
    "train_y = train_y.reshape((train_y.shape[0], -1))\n",
    "train_X = torch.from_numpy(train_X)\n",
    "train_y = torch.from_numpy(train_y)"
   ]
  },
  {
   "cell_type": "code",
   "execution_count": 25,
   "id": "face0cea",
   "metadata": {},
   "outputs": [
    {
     "data": {
      "text/plain": [
       "torch.Size([2200, 1])"
      ]
     },
     "execution_count": 25,
     "metadata": {},
     "output_type": "execute_result"
    }
   ],
   "source": [
    "train_y.shape"
   ]
  },
  {
   "cell_type": "code",
   "execution_count": 26,
   "id": "9617b41f",
   "metadata": {},
   "outputs": [
    {
     "name": "stderr",
     "output_type": "stream",
     "text": [
      "D:\\anaconda\\envs\\ML\\lib\\site-packages\\torch\\nn\\modules\\loss.py:520: UserWarning: Using a target size (torch.Size([2200, 1])) that is different to the input size (torch.Size([2200, 3])). This will likely lead to incorrect results due to broadcasting. Please ensure they have the same size.\n",
      "  return F.mse_loss(input, target, reduction=self.reduction)\n"
     ]
    },
    {
     "name": "stdout",
     "output_type": "stream",
     "text": [
      "Epoch:10, Loss:0.04410\n",
      "Epoch:20, Loss:0.03559\n",
      "Epoch:30, Loss:0.02745\n",
      "Epoch:40, Loss:0.01188\n",
      "Epoch:50, Loss:0.00934\n",
      "Epoch:60, Loss:0.00737\n",
      "Epoch:70, Loss:0.00699\n",
      "Epoch:80, Loss:0.00669\n",
      "Epoch:90, Loss:0.00658\n",
      "Epoch:100, Loss:0.00649\n"
     ]
    }
   ],
   "source": [
    "class RNN (nn.Module):\n",
    "    def __init__(self):\n",
    "        super(RNN,self).__init__() \n",
    "        self.lstm = nn.LSTM(n_features,8,2) #输入数据4个特征维度，6个隐藏层维度，2个LSTM串联，第二个LSTM接收第一个的计算结果\n",
    "        self.out = nn.Linear(8,1) #线性拟合，接收数据的维度为6，输出数据的维度为1\n",
    "        #self.dropout = nn.Dropout(p=0.1)\n",
    "    def forward(self,xx):\n",
    "        x1,_ = self.lstm(xx)\n",
    "        a,b,c = x1.shape\n",
    "#         print(a,b,c)\n",
    "        out = self.out(x1.view(-1,c))#将lstm输出的三维数据x1调整成二维数据，最后的特征维度不能变\n",
    "        #out = self.dropout(out)\n",
    "        out1 = out.view(a,-1) #把二维的out调整成三维数据，下一次循环使用\n",
    "#         out2=out1.view(a,-1)\n",
    "        return out1\n",
    "rnn = RNN()\n",
    "\n",
    "#参数寻优，计算损失函数\n",
    "\n",
    "optimizer = torch.optim.Adam(rnn.parameters(),lr = 0.02)\n",
    "loss_func = nn.MSELoss()\n",
    "\n",
    " \n",
    "for i in range(100):\n",
    "    \n",
    "    var_x = Variable(train_X).type(torch.FloatTensor)\n",
    "    var_y = Variable(train_y).type(torch.FloatTensor)\n",
    "    out = rnn(var_x)\n",
    "    loss = loss_func(out,var_y)\n",
    "    optimizer.zero_grad()\n",
    "    loss.backward()\n",
    "    optimizer.step()\n",
    "    if (i+1)%10==0:\n",
    "        print('Epoch:{}, Loss:{:.5f}'.format(i+1, loss.item()))"
   ]
  },
  {
   "cell_type": "code",
   "execution_count": 27,
   "id": "8b006030",
   "metadata": {},
   "outputs": [],
   "source": [
    "import matplotlib.pyplot as plt\n",
    "dataX1 = test_X#.reshape(-1,1,1)\n",
    "dataX2 = torch.from_numpy(dataX1)\n",
    "var_dataX = Variable(dataX2).type(torch.FloatTensor)\n",
    "\n",
    "pred = rnn(var_dataX)"
   ]
  },
  {
   "cell_type": "code",
   "execution_count": 28,
   "id": "cf302344",
   "metadata": {},
   "outputs": [
    {
     "data": {
      "text/plain": [
       "<matplotlib.legend.Legend at 0x1a108083cd0>"
      ]
     },
     "execution_count": 28,
     "metadata": {},
     "output_type": "execute_result"
    },
    {
     "data": {
      "image/png": "[encoded data removed]",
      "text/plain": [
       "<Figure size 432x288 with 1 Axes>"
      ]
     },
     "metadata": {
      "needs_background": "light"
     },
     "output_type": "display_data"
    }
   ],
   "source": [
    "pred_test = pred.view(-1).data.numpy()  #转换成一维的ndarray数据，这是预测值\n",
    "\n",
    "y_valid=test_y#.reshape(1,-1)[0]\n",
    "\n",
    "\n",
    "plt.plot(y_valid, 'grey', label='real')\n",
    "#預測是四個數，最後一列是我們需要的風速\n",
    "plt.plot(pred[:,-1].data.numpy(), 'b', label='prediction')\n",
    "\n",
    "plt.legend(loc='best')"
   ]
  },
  {
   "cell_type": "code",
   "execution_count": null,
   "id": "75779a42",
   "metadata": {},
   "outputs": [],
   "source": []
  }
 ],
 "metadata": {
  "kernelspec": {
   "display_name": "Python 3 (ipykernel)",
   "language": "python",
   "name": "python3"
  },
  "language_info": {
   "codemirror_mode": {
    "name": "ipython",
    "version": 3
   },
   "file_extension": ".py",
   "mimetype": "text/x-python",
   "name": "python",
   "nbconvert_exporter": "python",
   "pygments_lexer": "ipython3",
   "version": "3.8.8"
  }
 },
 "nbformat": 4,
 "nbformat_minor": 5
}
